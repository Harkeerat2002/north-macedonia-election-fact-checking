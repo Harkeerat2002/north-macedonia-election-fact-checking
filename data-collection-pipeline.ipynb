{
 "cells": [
  {
   "cell_type": "code",
   "execution_count": 1,
   "id": "6d0d09e6",
   "metadata": {},
   "outputs": [],
   "source": [
    "from dotenv import load_dotenv\n",
    "import requests\n",
    "import os"
   ]
  },
  {
   "cell_type": "code",
   "execution_count": 7,
   "id": "3f39ab8c",
   "metadata": {},
   "outputs": [],
   "source": [
    "load_dotenv()\n",
    "meta_access_token = os.getenv(\"META-API-KEY\")"
   ]
  },
  {
   "cell_type": "code",
   "execution_count": 8,
   "id": "c835b7c7",
   "metadata": {},
   "outputs": [
    {
     "name": "stdout",
     "output_type": "stream",
     "text": [
      "{'error': {'message': 'Application does not have permission for this action', 'type': 'OAuthException', 'code': 10, 'error_subcode': 2332002, 'is_transient': False, 'error_user_title': 'Authorization and login needed', 'error_user_msg': \"To access the API, you'll need to follow the steps at facebook.com/ads/library/api.\", 'fbtrace_id': 'AlfFwaAPZO07ge7tVAioMg1'}}\n"
     ]
    }
   ],
   "source": [
    "# API Endpoint for Ads Library\n",
    "url = \"https://graph.facebook.com/v19.0/ads_archive\"\n",
    "\n",
    "# Parameters for Macedonian election-related ads\n",
    "params = {\n",
    "    \"access_token\": meta_access_token,\n",
    "    \"ad_reached_countries\": [\"MK\"],  # North Macedonia's country code\n",
    "    \"search_terms\": \"elections избори\",\n",
    "    \"fields\": \"id,ad_creation_time,ad_creative_body,ad_creative_link_caption,ad_creative_link_description,ad_creative_link_title,ad_delivery_start_time,ad_delivery_stop_time,ad_snapshot_url,currency,demographic_distribution,impressions,page_id,page_name,spend\",\n",
    "    \"limit\": 100  # Number of results to fetch\n",
    "}\n",
    "\n",
    "response = requests.get(url, params=params)\n",
    "data = response.json()\n",
    "\n",
    "print(data)"
   ]
  },
  {
   "cell_type": "code",
   "execution_count": null,
   "id": "ce216883",
   "metadata": {},
   "outputs": [],
   "source": []
  },
  {
   "cell_type": "code",
   "execution_count": null,
   "id": "885a9a5b",
   "metadata": {},
   "outputs": [],
   "source": []
  }
 ],
 "metadata": {
  "kernelspec": {
   "display_name": "law-and-computation",
   "language": "python",
   "name": "python3"
  },
  "language_info": {
   "codemirror_mode": {
    "name": "ipython",
    "version": 3
   },
   "file_extension": ".py",
   "mimetype": "text/x-python",
   "name": "python",
   "nbconvert_exporter": "python",
   "pygments_lexer": "ipython3",
   "version": "3.13.3"
  }
 },
 "nbformat": 4,
 "nbformat_minor": 5
}
