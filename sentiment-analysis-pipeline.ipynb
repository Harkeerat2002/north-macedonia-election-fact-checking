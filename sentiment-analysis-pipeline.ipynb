{
 "cells": [
  {
   "cell_type": "markdown",
   "id": "d58945fd",
   "metadata": {},
   "source": [
    "# North Macedonian 2024 Election Sentiment Analysis\n",
    "---\n",
    "This notebook performs sentiment analysis on the Social Media posts during the 2024 North Macedonian Elections."
   ]
  },
  {
   "cell_type": "markdown",
   "id": "1509add1",
   "metadata": {},
   "source": [
    "##### Libraries"
   ]
  },
  {
   "cell_type": "code",
   "execution_count": 29,
   "id": "c6dd0459",
   "metadata": {},
   "outputs": [],
   "source": [
    "from vaderSentiment.vaderSentiment import SentimentIntensityAnalyzer\n",
    "from googletrans import Translator\n",
    "import nest_asyncio"
   ]
  },
  {
   "cell_type": "code",
   "execution_count": 30,
   "id": "bdbb7477",
   "metadata": {},
   "outputs": [],
   "source": [
    "text = \"\"\"Himni dhe simbolet shtetërore kanë vendin dhe kohën e vet se ku përdoren dhe nuk duhet të shërbejnë për t’i bërë karshillëk askujt. \n",
    "Propozimi i kreut të VMRO-DPMNE Hristijan Mickoski që të obligon fëmijët çdo të hënë të këndojnë himnin shtetëror pasqyron mendësinë nacionaliste të VMRO-DPMNE për të ushqyer fëmijët me nacionalizëm dhe me këtë të motivohet politika e tyre drejt izolim shoqëror dhe shtetëror. \n",
    "Kam një propozim më kreativ se çka duhet të dëgjojnë fëmijët në këtë shtet dhe atë jo çdo të hënë por çdo ditë:\n",
    "- të dëgjojnë se si VMRO-DPMNE shet nacionalizëm të rrejshëm ndërsa bën argatin e agjendave anti-evropiane!\n",
    "- se si VMRO-DPMNE nxit urrejtje dhe ndasi!\n",
    "-se si VMRO-DPMNE po bllokon të ardhmen evropiane të gjeneratave të reja!\n",
    "-se si VMRO-DPMNE po izolon shtetin!\n",
    "- se si VMRO-DPMNE ushtron pushtetin kundër kombit shqiptar në komunat që udhëheqin kuadrot e saj!\n",
    "Me qasje të këtij lloji, shteti rrezikon shumë prandaj është i nevojshëm një bllok më i madh me orientim të qartë për të ardhmen evropiane të vendit.\"\"\""
   ]
  },
  {
   "cell_type": "code",
   "execution_count": 33,
   "id": "12bfc243",
   "metadata": {},
   "outputs": [
    {
     "name": "stdout",
     "output_type": "stream",
     "text": [
      "The hymns and state symbols have their place and time where they are used and should not serve to make anyone car. \n",
      "The proposal of the head of the VMRO-DPMNE Hristijan Mickoski that obliges children every Monday to sing the state anthem reflects the nationalist mindset of VMRO-DPMNE to nourish children with nationalism and thus motivated their policy towards social and state isolation. \n",
      "I have a more creative proposal on what children should hear in this country and not every Monday but every day:\n",
      "-Listen to how VMRO-DPMNE sells false nationalism while making anti-European agendas!\n",
      "- How VMRO-DPMNE promotes hatred and division!\n",
      "-He as VMRO-DPMNE is blocking the European future of younger generations!\n",
      "-He as VMRO-DPMNE is isolates the state!\n",
      "- How VMRO-DPMNE exercises power against the Albanian nation in the municipalities that lead its cadres!\n",
      "With access to this kind, the state is very risking therefore a larger block with a clear orientation for the country's European future is needed.\n"
     ]
    }
   ],
   "source": [
    "nest_asyncio.apply()  # Allow nested event loops in Jupyter Notebook\n",
    "\n",
    "async def translate_text():\n",
    "    # Create a translator instance\n",
    "    translator = Translator()\n",
    "    \n",
    "    # Translate the text\n",
    "    text_translated = await translator.translate(text, src='auto', dest='en')\n",
    "    \n",
    "    # Print the translated text\n",
    "    print(text_translated.text)\n",
    "    return text_translated.text\n",
    "\n",
    "# Run the asynchronous function in Jupyter\n",
    "translated_text = await translate_text()"
   ]
  },
  {
   "cell_type": "code",
   "execution_count": 32,
   "id": "05ea5e58",
   "metadata": {},
   "outputs": [
    {
     "name": "stdout",
     "output_type": "stream",
     "text": [
      "Sentiment Analysis Results:\n",
      "Negative: 0.119\n",
      "Neutral: 0.796\n",
      "Positive: 0.085\n",
      "Compound: -0.808\n"
     ]
    }
   ],
   "source": [
    "analyzer = SentimentIntensityAnalyzer()\n",
    "sentiment = analyzer.polarity_scores(translated_text)\n",
    "print(\"Sentiment Analysis Results:\")\n",
    "print(f\"Negative: {sentiment['neg']}\")\n",
    "print(f\"Neutral: {sentiment['neu']}\")\n",
    "print(f\"Positive: {sentiment['pos']}\")\n",
    "print(f\"Compound: {sentiment['compound']}\")"
   ]
  },
  {
   "cell_type": "code",
   "execution_count": null,
   "id": "c315dbcc",
   "metadata": {},
   "outputs": [],
   "source": []
  }
 ],
 "metadata": {
  "kernelspec": {
   "display_name": "law-and-computation",
   "language": "python",
   "name": "python3"
  },
  "language_info": {
   "codemirror_mode": {
    "name": "ipython",
    "version": 3
   },
   "file_extension": ".py",
   "mimetype": "text/x-python",
   "name": "python",
   "nbconvert_exporter": "python",
   "pygments_lexer": "ipython3",
   "version": "3.13.3"
  }
 },
 "nbformat": 4,
 "nbformat_minor": 5
}
