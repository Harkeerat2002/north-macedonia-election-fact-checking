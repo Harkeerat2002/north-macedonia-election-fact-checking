{
 "cells": [
  {
   "cell_type": "markdown",
   "id": "d58945fd",
   "metadata": {},
   "source": [
    "# North Macedonian 2024 Election Sentiment Analysis\n",
    "---\n",
    "This notebook performs sentiment analysis on the Social Media posts during the 2024 North Macedonian Elections."
   ]
  },
  {
   "cell_type": "markdown",
   "id": "1509add1",
   "metadata": {},
   "source": [
    "##### Libraries"
   ]
  },
  {
   "cell_type": "code",
   "execution_count": 9,
   "id": "c6dd0459",
   "metadata": {},
   "outputs": [],
   "source": [
    "from vaderSentiment.vaderSentiment import SentimentIntensityAnalyzer\n",
    "from googletrans import Translator\n",
    "import nest_asyncio"
   ]
  },
  {
   "cell_type": "code",
   "execution_count": 4,
   "id": "bdbb7477",
   "metadata": {},
   "outputs": [],
   "source": [
    "text = \"\"\"Himni dhe simbolet shtetërore kanë vendin dhe kohën e vet se ku përdoren dhe nuk duhet të shërbejnë për t’i bërë karshillëk askujt. \n",
    "Propozimi i kreut të VMRO-DPMNE Hristijan Mickoski që të obligon fëmijët çdo të hënë të këndojnë himnin shtetëror pasqyron mendësinë nacionaliste të VMRO-DPMNE për të ushqyer fëmijët me nacionalizëm dhe me këtë të motivohet politika e tyre drejt izolim shoqëror dhe shtetëror. \n",
    "Kam një propozim më kreativ se çka duhet të dëgjojnë fëmijët në këtë shtet dhe atë jo çdo të hënë por çdo ditë:\n",
    "- të dëgjojnë se si VMRO-DPMNE shet nacionalizëm të rrejshëm ndërsa bën argatin e agjendave anti-evropiane!\n",
    "- se si VMRO-DPMNE nxit urrejtje dhe ndasi!\n",
    "-se si VMRO-DPMNE po bllokon të ardhmen evropiane të gjeneratave të reja!\n",
    "-se si VMRO-DPMNE po izolon shtetin!\n",
    "- se si VMRO-DPMNE ushtron pushtetin kundër kombit shqiptar në komunat që udhëheqin kuadrot e saj!\n",
    "Me qasje të këtij lloji, shteti rrezikon shumë prandaj është i nevojshëm një bllok më i madh me orientim të qartë për të ardhmen evropiane të vendit.\"\"\""
   ]
  },
  {
   "cell_type": "code",
   "execution_count": 13,
   "id": "12bfc243",
   "metadata": {},
   "outputs": [
    {
     "name": "stdout",
     "output_type": "stream",
     "text": [
      "Hi, how are you?\n"
     ]
    }
   ],
   "source": [
    "from googletrans import Translator\n",
    "import nest_asyncio\n",
    "\n",
    "nest_asyncio.apply()  # Not needed here but safe in Jupyter\n",
    "\n",
    "# Create a translator instance\n",
    "translator = Translator()\n",
    "\n",
    "# Define the text to translate\n",
    "text = \"Здраво, како си?\"\n",
    "\n",
    "# Translate the text (synchronous call)\n",
    "text_translated = translator.translate(text, src='auto', dest='en')\n",
    "\n",
    "# Print the translated text\n",
    "print(text_translated.text)\n",
    "\n",
    "# Store it if needed\n",
    "translated_text = text_translated.text\n"
   ]
  },
  {
   "cell_type": "code",
   "execution_count": 14,
   "id": "05ea5e58",
   "metadata": {},
   "outputs": [
    {
     "name": "stdout",
     "output_type": "stream",
     "text": [
      "Sentiment Analysis Results:\n",
      "Negative: 0.0\n",
      "Neutral: 1.0\n",
      "Positive: 0.0\n",
      "Compound: 0.0\n"
     ]
    }
   ],
   "source": [
    "analyzer = SentimentIntensityAnalyzer()\n",
    "sentiment = analyzer.polarity_scores(translated_text)\n",
    "print(\"Sentiment Analysis Results:\")\n",
    "print(f\"Negative: {sentiment['neg']}\")\n",
    "print(f\"Neutral: {sentiment['neu']}\")\n",
    "print(f\"Positive: {sentiment['pos']}\")\n",
    "print(f\"Compound: {sentiment['compound']}\")"
   ]
  },
  {
   "cell_type": "code",
   "execution_count": 16,
   "id": "c315dbcc",
   "metadata": {},
   "outputs": [],
   "source": [
    "import pandas as pd\n",
    "from vaderSentiment.vaderSentiment import SentimentIntensityAnalyzer\n",
    "from googletrans import Translator\n",
    "import nest_asyncio\n",
    "import asyncio\n",
    "\n",
    "nest_asyncio.apply()\n",
    "\n",
    "translator = Translator()\n",
    "analyzer = SentimentIntensityAnalyzer()\n",
    "\n",
    "# Load dataset\n",
    "df = pd.read_csv('PreprocessedDataset/VMRO-DPMNE_claims.csv')\n",
    "\n",
    "# Clean claims\n",
    "df['claims'] = df['claims'].astype(str).str.strip(\"[]\").str.replace('\"', '', regex=False).str.replace(\"'\", '', regex=False).str.strip()\n",
    "\n",
    "# Translate and analyze (async version)\n",
    "async def process_row(text):\n",
    "    try:\n",
    "        translated = await translator.translate(text, src='auto', dest='en')\n",
    "        sentiment = analyzer.polarity_scores(translated.text)\n",
    "        return translated.text, sentiment['compound'], sentiment['pos'], sentiment['neu'], sentiment['neg']\n",
    "    except:\n",
    "        return '', 0.0, 0.0, 0.0, 0.0\n",
    "\n",
    "async def process_all(df):\n",
    "    results = []\n",
    "    for row in df['claims']:\n",
    "        result = await process_row(row)\n",
    "        results.append(result)\n",
    "    return results\n",
    "\n",
    "# Run async loop\n",
    "translated_sentiments = await process_all(df)\n",
    "\n",
    "# Unpack results\n",
    "df[['translated_claim', 'compound', 'pos', 'neu', 'neg']] = pd.DataFrame(translated_sentiments, index=df.index)\n",
    "\n",
    "# Add label\n",
    "df['sentiment_label'] = df['compound'].apply(lambda x: 'positive' if x >= 0.05 else 'negative' if x <= -0.05 else 'neutral')\n"
   ]
  },
  {
   "cell_type": "code",
   "execution_count": 17,
   "id": "dc3ebfdc",
   "metadata": {},
   "outputs": [
    {
     "data": {
      "image/png": "[encoded data removed]",
      "text/plain": [
       "<Figure size 640x480 with 1 Axes>"
      ]
     },
     "metadata": {},
     "output_type": "display_data"
    }
   ],
   "source": [
    "import pandas as pd\n",
    "import seaborn as sns\n",
    "import matplotlib.pyplot as plt\n",
    "\n",
    "df = pd.read_csv(\"sentiment_combined.csv\")\n",
    "\n",
    "sns.countplot(data=df, x='sentiment_label', order=['positive', 'neutral', 'negative'])\n",
    "plt.title(\"Sentiment Distribution for VMRO-DPMNE\")\n",
    "plt.show()\n"
   ]
  }
 ],
 "metadata": {
  "kernelspec": {
   "display_name": "law-and-computation",
   "language": "python",
   "name": "python3"
  },
  "language_info": {
   "codemirror_mode": {
    "name": "ipython",
    "version": 3
   },
   "file_extension": ".py",
   "mimetype": "text/x-python",
   "name": "python",
   "nbconvert_exporter": "python",
   "pygments_lexer": "ipython3",
   "version": "3.12.4"
  }
 },
 "nbformat": 4,
 "nbformat_minor": 5
}
