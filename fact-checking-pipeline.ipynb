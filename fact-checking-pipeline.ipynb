{
 "cells": [
  {
   "cell_type": "markdown",
   "id": "67bc9aef",
   "metadata": {},
   "source": [
    "# North Macedonian 2024 Election Fact Checking Pipeline\n",
    "---\n",
    "This notebook is part of the North Macedonian 2024 Election Misinformation Assessment project. It contains code to analyze and visualize misinformation related to the elections in North Macedonia."
   ]
  },
  {
   "cell_type": "markdown",
   "id": "1f6d7380",
   "metadata": {},
   "source": [
    "##### Libraries"
   ]
  },
  {
   "cell_type": "code",
   "execution_count": 2,
   "id": "4a5f6ce3",
   "metadata": {},
   "outputs": [],
   "source": [
    "from dotenv import load_dotenv\n",
    "import requests\n",
    "import json\n",
    "from urllib.parse import quote_plus\n",
    "import tqdm\n",
    "import json\n",
    "import os\n",
    "import csv\n",
    "import pandas as pd"
   ]
  },
  {
   "cell_type": "markdown",
   "id": "718929e8",
   "metadata": {},
   "source": [
    "##### Constants"
   ]
  },
  {
   "cell_type": "code",
   "execution_count": 4,
   "id": "1c6a4b82",
   "metadata": {},
   "outputs": [],
   "source": [
    "load_dotenv()\n",
    "llama3_url = \"http://localhost:11434/api/generate\"\n",
    "google_api = os.getenv(\"GOOGLE-API-KEY\")\n",
    "cx = os.getenv(\"CX\")\n",
    "\n",
    "dataset = \"Dataset/VMRO-DPMNE_ad_creative_bodies.csv\"\n",
    "party = \"VMRO-DPMNE\""
   ]
  },
  {
   "cell_type": "markdown",
   "id": "0e93835e",
   "metadata": {},
   "source": [
    "## Data Collection"
   ]
  },
  {
   "cell_type": "code",
   "execution_count": 7,
   "id": "529e340c",
   "metadata": {},
   "outputs": [
    {
     "name": "stdout",
     "output_type": "stream",
     "text": [
      "      ad_archive_id                                 ad_creative_bodies\n",
      "0   427480589881211  Para disa ditëve në emisionin “Politiko” e kam...\n",
      "1  1636678057070325  Промените се во твои раце!\\nМакедонија повторн...\n",
      "2   252100357930225                        За многу години Цветници!!!\n",
      "3  1117244869521215  ✒️Shkruan: @[100005900348509:2048:Enis Shaqiri...\n",
      "4  1595858924569626  ИЗГУБЕНА Е ДОВЕРБАТА ВО ПОЛИТИЧАРИТЕ БИДЕЈЌИ Н...\n"
     ]
    }
   ],
   "source": [
    "pandas_df = pd.read_csv(dataset)\n",
    "print(pandas_df.head())"
   ]
  },
  {
   "cell_type": "code",
   "execution_count": 3,
   "id": "75f3345f",
   "metadata": {},
   "outputs": [],
   "source": [
    "text = \"\"\"Himni dhe simbolet shtetërore kanë vendin dhe kohën e vet se ku përdoren dhe nuk duhet të shërbejnë për t’i bërë karshillëk askujt. \n",
    "Propozimi i kreut të VMRO-DPMNE Hristijan Mickoski që të obligon fëmijët çdo të hënë të këndojnë himnin shtetëror pasqyron mendësinë nacionaliste të VMRO-DPMNE për të ushqyer fëmijët me nacionalizëm dhe me këtë të motivohet politika e tyre drejt izolim shoqëror dhe shtetëror. \n",
    "Kam një propozim më kreativ se çka duhet të dëgjojnë fëmijët në këtë shtet dhe atë jo çdo të hënë por çdo ditë:\n",
    "- të dëgjojnë se si VMRO-DPMNE shet nacionalizëm të rrejshëm ndërsa bën argatin e agjendave anti-evropiane!\n",
    "- se si VMRO-DPMNE nxit urrejtje dhe ndasi!\n",
    "-se si VMRO-DPMNE po bllokon të ardhmen evropiane të gjeneratave të reja!\n",
    "-se si VMRO-DPMNE po izolon shtetin!\n",
    "- se si VMRO-DPMNE ushtron pushtetin kundër kombit shqiptar në komunat që udhëheqin kuadrot e saj!\n",
    "Me qasje të këtij lloji, shteti rrezikon shumë prandaj është i nevojshëm një bllok më i madh me orientim të qartë për të ardhmen evropiane të vendit.\"\"\""
   ]
  },
  {
   "cell_type": "markdown",
   "id": "d87d7967",
   "metadata": {},
   "source": [
    "## Data Preprocessing"
   ]
  },
  {
   "cell_type": "markdown",
   "id": "d93fe778",
   "metadata": {},
   "source": [
    "### Extract Claims"
   ]
  },
  {
   "cell_type": "code",
   "execution_count": 17,
   "id": "b90cb1b9",
   "metadata": {},
   "outputs": [],
   "source": [
    "\n",
    "def extract_claims(text):\n",
    "    promptQuestion= \"\"\"For the bellow text, extract the claims and give to me in the format of a json. The claims should in English Language. You should only return the json. Do not add any other text. The json should have only 1 key `Claims` and the value should be a list of claims.\"\"\"\n",
    "    \n",
    "    extract_claim_payload = {\n",
    "    \"model\": \"llama3\",\n",
    "    \"prompt\": promptQuestion + text,\n",
    "    }\n",
    "    \n",
    "    extract_claim_response = requests.post(llama3_url, json=extract_claim_payload)\n",
    "    \n",
    "    if extract_claim_response.status_code == 200:\n",
    "        lines = extract_claim_response.text.splitlines()\n",
    "        output = \"\"\n",
    "        for line in lines:\n",
    "            try:\n",
    "                # Parse each line as JSON\n",
    "                line_data = json.loads(line)\n",
    "                # Concatenate the \"response\" field\n",
    "                output += line_data.get(\"response\", \"\")\n",
    "            except json.JSONDecodeError:\n",
    "                # Skip lines that are not valid JSON\n",
    "                continue\n",
    "        # Parse the final concatenated output as JSON\n",
    "        try:\n",
    "            final_output = json.loads(output)\n",
    "            print(\"Extracted Claims:\", final_output)\n",
    "            return final_output\n",
    "        except json.JSONDecodeError:\n",
    "            # Add a } to the end of the output\n",
    "            output += \"}\"\n",
    "            print(\"Output after adding }:\", output)\n",
    "            try:\n",
    "                final_output = json.loads(output)\n",
    "                print(\"Extracted Claims:\", final_output)\n",
    "                return final_output\n",
    "            except json.JSONDecodeError:\n",
    "                print(\"Final output is not valid JSON:\", output)\n",
    "                return None\n",
    "    else:\n",
    "        print(f\"Error: {extract_claim_response.status_code}\")\n",
    "        print(extract_claim_response.text)"
   ]
  },
  {
   "cell_type": "code",
   "execution_count": 18,
   "id": "72725a90",
   "metadata": {},
   "outputs": [
    {
     "name": "stderr",
     "output_type": "stream",
     "text": [
      "  4%|▎         | 1/27 [00:22<09:45, 22.52s/it]"
     ]
    },
    {
     "name": "stdout",
     "output_type": "stream",
     "text": [
      "Extracted Claims: {'Claims': ['The anti-Albanian quarters have a tendency to abolish amnesty and distort the fight for freedom and equality of UÃ‡K.', 'Gordana Siljanovska has proven the same thing from her own mouth today.', \"It is necessary to prove that VMRO-DPMNE's political battle is to subjugate Albanians, not to continue the partnership established in 2001!\", \"The European Front should win over 22 mandates and 'Siljanovskas' should remain only a memory of posters and billboards.\"]}\n"
     ]
    },
    {
     "name": "stderr",
     "output_type": "stream",
     "text": [
      "  7%|▋         | 2/27 [00:27<04:57, 11.91s/it]"
     ]
    },
    {
     "name": "stdout",
     "output_type": "stream",
     "text": [
      "Extracted Claims: {'Claims': ['Macedonia is yours again!', \"It's time for a change!\"]}\n"
     ]
    },
    {
     "name": "stderr",
     "output_type": "stream",
     "text": [
      " 11%|█         | 3/27 [00:29<02:59,  7.49s/it]"
     ]
    },
    {
     "name": "stdout",
     "output_type": "stream",
     "text": [
      "Extracted Claims: {'Claims': ['Many years ago']}\n"
     ]
    },
    {
     "name": "stderr",
     "output_type": "stream",
     "text": [
      " 15%|█▍        | 4/27 [00:53<05:26, 14.18s/it]"
     ]
    },
    {
     "name": "stdout",
     "output_type": "stream",
     "text": [
      "Output after adding }: {\n",
      "\"Claims\": [\n",
      "\"Gordana Siljanovska-Davkov won the first round of presidential elections in North Macedonia held on April 24.\",\n",
      "\"She secured a decisive victory with 363,086 votes (40.08%) and gained 182,586 more votes than Stevo Pendarovski, the current president who received 180,500 votes (19.92%).\",\n",
      "\"Bujar Osmani from the European Front triumphed over his rival Arben Taravari from VLEN.\",\n",
      "\"Osmani received 121,088 votes (13.37%), while Taravari received 83,393 votes (9.20%).\"}\n",
      "Final output is not valid JSON: {\n",
      "\"Claims\": [\n",
      "\"Gordana Siljanovska-Davkov won the first round of presidential elections in North Macedonia held on April 24.\",\n",
      "\"She secured a decisive victory with 363,086 votes (40.08%) and gained 182,586 more votes than Stevo Pendarovski, the current president who received 180,500 votes (19.92%).\",\n",
      "\"Bujar Osmani from the European Front triumphed over his rival Arben Taravari from VLEN.\",\n",
      "\"Osmani received 121,088 votes (13.37%), while Taravari received 83,393 votes (9.20%).\"}\n"
     ]
    },
    {
     "name": "stderr",
     "output_type": "stream",
     "text": [
      " 19%|█▊        | 5/27 [01:18<06:37, 18.05s/it]"
     ]
    },
    {
     "name": "stdout",
     "output_type": "stream",
     "text": [
      "Extracted Claims: ['Your trust in politicians is lost', \"The people's will is many times manipulated and crushed\", 'Nothing functions', 'Macedonia is oppressed from above by the government, while the government is skeptical whether something can be changed', \"It's your time, life and death to decide together\", 'Changes are possible', \"We need concrete projects and solutions for Macedonia's development, for a better future\", 'I ask for your support for a complete reconstruction of the way from Otovica to Mamutschevo', 'Changes are in your hands!', 'Macedonia is yours again!']\n"
     ]
    },
    {
     "name": "stderr",
     "output_type": "stream",
     "text": [
      " 22%|██▏       | 6/27 [01:27<05:10, 14.80s/it]"
     ]
    },
    {
     "name": "stdout",
     "output_type": "stream",
     "text": [
      "Extracted Claims: {'Claims': ['For reconstruction of the Katlanovo-Veles highway!', 'For designing a new express road Veles-Chashka-Prilep!', 'You decide!', 'For Macedonia to be yours again!']}\n"
     ]
    },
    {
     "name": "stderr",
     "output_type": "stream",
     "text": [
      " 26%|██▌       | 7/27 [02:29<10:05, 30.30s/it]"
     ]
    },
    {
     "name": "stdout",
     "output_type": "stream",
     "text": [
      "Extracted Claims: {'Claims': ['Nëse shkojmë me logjikën e Mickoskit dhe Siljanovskës sonte i bie që e kemi marë edhe Shkupin.', 'E kemi thënë që ditën e parë se beteja jonë politike është kundër strukturave politike nacionaliste maqedonase të cilët edhe kur kanë problem me Greqinë fajin ua kanë shqiptarët, edhe kur kanë problem me Bullgarinë fajin e hedhin te shqiptarët.', \"Kur pyesin opozitarët se çka na bëri bashk me Ali Ahmetin duhet t'ua thoni se na bënë bashk thirrjet anti shqiptare të partnerit të tyre strategjik Mickoskit, i cili na detyroj që ne të bashkohemi.\", 'Andaj, të dashur vëllezër dhe motra, të ndihemi krenar që jemi pjesë e kësaj faqe të re të historisë që po e shkruajmë.']}\n"
     ]
    },
    {
     "name": "stderr",
     "output_type": "stream",
     "text": [
      " 30%|██▉       | 8/27 [02:36<07:14, 22.86s/it]"
     ]
    },
    {
     "name": "stdout",
     "output_type": "stream",
     "text": [
      "Extracted Claims: {'Claims': [\"It's not necessary to have a president like Pendarovski as an executor of Ali Ahmeti\", 'Dostoevsky worthy president like Gordana Siljanovska Davkova']}\n"
     ]
    },
    {
     "name": "stderr",
     "output_type": "stream",
     "text": [
      " 33%|███▎      | 9/27 [02:41<05:15, 17.51s/it]"
     ]
    },
    {
     "name": "stdout",
     "output_type": "stream",
     "text": [
      "Output after adding }: {\n",
      "\"Claims\": [\n",
      "\"Vote for number 2\",\n",
      "\"Vote for the greatest victory in electoral unit 2\",\n",
      "\"Support many projects and a better future for all people\"\n",
      "]}\n",
      "Extracted Claims: {'Claims': ['Vote for number 2', 'Vote for the greatest victory in electoral unit 2', 'Support many projects and a better future for all people']}\n"
     ]
    },
    {
     "name": "stderr",
     "output_type": "stream",
     "text": [
      " 37%|███▋      | 10/27 [02:52<04:23, 15.49s/it]"
     ]
    },
    {
     "name": "stdout",
     "output_type": "stream",
     "text": [
      "Extracted Claims: {'Claims': ['Macedonia is only one', \"There's only one Macedonia\", 'One Macedoniya will remain, broken into pieces, and then it will be ours most loved', 'The Macedonians loudly shout', 'Singing the Macedonian song', 'Dance the Macedonian dance', 'Remember dear mother the Macedoniya', 'Lived Macedonia alive']}\n"
     ]
    },
    {
     "name": "stderr",
     "output_type": "stream",
     "text": [
      " 41%|████      | 11/27 [03:30<05:57, 22.35s/it]"
     ]
    },
    {
     "name": "stdout",
     "output_type": "stream",
     "text": [
      "Output after adding }: {\n",
      "\"Claims\": [\n",
      "\"The government led by SDSM has shown itself to be a good partner for the business community!\",\n",
      "\"We have supported 919 domestic companies with over 100 million euros, and they have invested over 500 million euros and created 5,000 jobs.\",\n",
      "\"In the next 4 years, we will double this support to over 180 million euros, and our economy will receive over a billion euros in investments.\",\n",
      "\"In the upcoming mandate, we will invest 3.5 billion euros in the development of high-voltage electrical networks and 400 capital projects to improve local infrastructure across Macedonia.\",\n",
      "\"We are not going to make empty promises like VMRO-DPMNE did for 11 years; instead, we will increase our support and have already proven that we know how to do it!\"\n",
      "]}\n",
      "Extracted Claims: {'Claims': ['The government led by SDSM has shown itself to be a good partner for the business community!', 'We have supported 919 domestic companies with over 100 million euros, and they have invested over 500 million euros and created 5,000 jobs.', 'In the next 4 years, we will double this support to over 180 million euros, and our economy will receive over a billion euros in investments.', 'In the upcoming mandate, we will invest 3.5 billion euros in the development of high-voltage electrical networks and 400 capital projects to improve local infrastructure across Macedonia.', 'We are not going to make empty promises like VMRO-DPMNE did for 11 years; instead, we will increase our support and have already proven that we know how to do it!']}\n"
     ]
    },
    {
     "name": "stderr",
     "output_type": "stream",
     "text": [
      " 44%|████▍     | 12/27 [03:37<04:25, 17.68s/it]"
     ]
    },
    {
     "name": "stdout",
     "output_type": "stream",
     "text": [
      "Output after adding }: {\n",
      "\"Claims\": [\n",
      "[\"The people have been determined for change\", \"VLEN will be the winner and Arben Taravari is the winning candidate\"]\n",
      "]}\n",
      "Extracted Claims: {'Claims': [['The people have been determined for change', 'VLEN will be the winner and Arben Taravari is the winning candidate']]}\n"
     ]
    },
    {
     "name": "stderr",
     "output_type": "stream",
     "text": [
      " 48%|████▊     | 13/27 [03:47<03:33, 15.23s/it]"
     ]
    },
    {
     "name": "stdout",
     "output_type": "stream",
     "text": [
      "Extracted Claims: {'Claims': ['Veleš is prepared for CHANGES!!!', 'Veleš with enormous support for Prof. Gordana Siljanovska Dafkova.', 'Macedonia proud again!', 'Macedonia yours again!']}\n"
     ]
    },
    {
     "name": "stderr",
     "output_type": "stream",
     "text": [
      " 52%|█████▏    | 14/27 [03:51<02:34, 11.90s/it]"
     ]
    },
    {
     "name": "stdout",
     "output_type": "stream",
     "text": [
      "Output after adding }: {\n",
      "\"Claims\": [\n",
      "\"To repeat to be proud again of our president\",\n",
      "]\n",
      "}}\n",
      "Final output is not valid JSON: {\n",
      "\"Claims\": [\n",
      "\"To repeat to be proud again of our president\",\n",
      "]\n",
      "}}\n"
     ]
    },
    {
     "name": "stderr",
     "output_type": "stream",
     "text": [
      " 56%|█████▌    | 15/27 [04:18<03:18, 16.50s/it]"
     ]
    },
    {
     "name": "stdout",
     "output_type": "stream",
     "text": [
      "Output after adding }: {\n",
      "\"Claims\": [\n",
      "\"I am proud of the young people!\",\n",
      "\"They give me energy and inspiration, I receive many proposals and ideas that will be incorporated into most projects to enable young people to have a bright and secure future.\",\n",
      "\"Young people from Gjorche Petrov are avant-garde and the changes that everyone wants to see. Together with them we will be part of the changes that bring hope and better living conditions!\",\n",
      "\"The changes depend on all of us!\",\n",
      "\"Changes start on April 24th with Gordana Siljanovska Davkova's victory and VMRO-DPMNE!\"\n",
      "]}\n",
      "Extracted Claims: {'Claims': ['I am proud of the young people!', 'They give me energy and inspiration, I receive many proposals and ideas that will be incorporated into most projects to enable young people to have a bright and secure future.', 'Young people from Gjorche Petrov are avant-garde and the changes that everyone wants to see. Together with them we will be part of the changes that bring hope and better living conditions!', 'The changes depend on all of us!', \"Changes start on April 24th with Gordana Siljanovska Davkova's victory and VMRO-DPMNE!\"]}\n"
     ]
    },
    {
     "name": "stderr",
     "output_type": "stream",
     "text": [
      " 59%|█████▉    | 16/27 [04:25<02:28, 13.50s/it]"
     ]
    },
    {
     "name": "stdout",
     "output_type": "stream",
     "text": [
      "Extracted Claims: {'Claims': ['These elections are the last chance for salvation of Macedonia', \"It's a big turnout to show them where they belong\"]}\n"
     ]
    },
    {
     "name": "stderr",
     "output_type": "stream",
     "text": [
      " 63%|██████▎   | 17/27 [04:31<01:54, 11.43s/it]"
     ]
    },
    {
     "name": "stdout",
     "output_type": "stream",
     "text": [
      "Extracted Claims: {'Claims': ['Have a good day Macedonia!', 'Macedonia is returning to its greatness', 'Macedonia is returning to its power']}\n"
     ]
    },
    {
     "name": "stderr",
     "output_type": "stream",
     "text": [
      " 67%|██████▋   | 18/27 [04:49<01:58, 13.17s/it]"
     ]
    },
    {
     "name": "stdout",
     "output_type": "stream",
     "text": [
      "Output after adding }: {\"Claims\": [\n",
      "\"Starting a victorious evening with two winning committees, MK TUNEL and MK CERAMIC for together with @Igor Zdravkovski and @Rachel Mizrahi.\",\n",
      "\"Strongly motivated, enthusiastic, inspired for changes.\",\n",
      "\"The victory atmosphere is still felt in Veleš. Veleš smells like victory.\",\n",
      "\"The changes are in our hands.\",\n",
      "\"Macedonia will be proud again!\"]}\n",
      "Extracted Claims: {'Claims': ['Starting a victorious evening with two winning committees, MK TUNEL and MK CERAMIC for together with @Igor Zdravkovski and @Rachel Mizrahi.', 'Strongly motivated, enthusiastic, inspired for changes.', 'The victory atmosphere is still felt in Veleš. Veleš smells like victory.', 'The changes are in our hands.', 'Macedonia will be proud again!']}\n"
     ]
    },
    {
     "name": "stderr",
     "output_type": "stream",
     "text": [
      " 70%|███████   | 19/27 [04:58<01:34, 11.87s/it]"
     ]
    },
    {
     "name": "stdout",
     "output_type": "stream",
     "text": [
      "Output after adding }: {\n",
      "\"Claims\": [\n",
      "\"This is a fight between the vision of unity and integration, which represents the largest multiethnic front in the country, and the isolationist and resentful vision that represents VMRO-DPMNE.\"\n",
      "]}\n",
      "Extracted Claims: {'Claims': ['This is a fight between the vision of unity and integration, which represents the largest multiethnic front in the country, and the isolationist and resentful vision that represents VMRO-DPMNE.']}\n"
     ]
    },
    {
     "name": "stderr",
     "output_type": "stream",
     "text": [
      " 74%|███████▍  | 20/27 [05:04<01:11, 10.26s/it]"
     ]
    },
    {
     "name": "stdout",
     "output_type": "stream",
     "text": [
      "Extracted Claims: {'Claims': ['No claims were extracted from the provided text']}\n"
     ]
    },
    {
     "name": "stderr",
     "output_type": "stream",
     "text": [
      " 78%|███████▊  | 21/27 [05:10<00:53,  8.96s/it]"
     ]
    },
    {
     "name": "stdout",
     "output_type": "stream",
     "text": [
      "Output after adding }: {\n",
      "\"Claims\": [\n",
      "\"Mickoski claims the state is the richest in Europe\",\n",
      "\"LSDM and BDI are going to opposition\"\n",
      "]}\n",
      "Extracted Claims: {'Claims': ['Mickoski claims the state is the richest in Europe', 'LSDM and BDI are going to opposition']}\n"
     ]
    },
    {
     "name": "stderr",
     "output_type": "stream",
     "text": [
      " 81%|████████▏ | 22/27 [05:25<00:54, 10.88s/it]"
     ]
    },
    {
     "name": "stdout",
     "output_type": "stream",
     "text": [
      "Output after adding }: {\n",
      "\"Claims\": [\n",
      "\"The city is being urbanized and developed.\",\n",
      "\"This development will benefit the citizens of this area, allowing them to enjoy walks and sports activities.\",\n",
      "\"Macedonia will be proud.\",\n",
      "\"A new church is being built in Prevalec.\",\n",
      "\"Sports facilities are being constructed in Prevalec.\",\n",
      "\"New urban equipment is being installed in Prevalec.\",\n",
      "]}\n",
      "Final output is not valid JSON: {\n",
      "\"Claims\": [\n",
      "\"The city is being urbanized and developed.\",\n",
      "\"This development will benefit the citizens of this area, allowing them to enjoy walks and sports activities.\",\n",
      "\"Macedonia will be proud.\",\n",
      "\"A new church is being built in Prevalec.\",\n",
      "\"Sports facilities are being constructed in Prevalec.\",\n",
      "\"New urban equipment is being installed in Prevalec.\",\n",
      "]}\n"
     ]
    },
    {
     "name": "stderr",
     "output_type": "stream",
     "text": [
      " 85%|████████▌ | 23/27 [05:44<00:53, 13.29s/it]"
     ]
    },
    {
     "name": "stdout",
     "output_type": "stream",
     "text": [
      "Extracted Claims: {'Claims': [\"We can't imagine Veles without our market traders from the City Market.\", 'We have an impeccable, long-term collaboration with these people.', 'We meet many acquaintances who come to trade here at the market.', 'Citizens are disappointed with this government and the economic catastrophe it has caused.', 'Citizens have hope and believe that changes will come.', 'We need a strong battle to stabilize the economy.', \"Together we'll make Macedonia proud again.\"]}\n"
     ]
    },
    {
     "name": "stderr",
     "output_type": "stream",
     "text": [
      " 89%|████████▉ | 24/27 [06:28<01:07, 22.42s/it]"
     ]
    },
    {
     "name": "stdout",
     "output_type": "stream",
     "text": [
      "Output after adding }: {\n",
      "\"Claims\": [\n",
      "\"Huge responsibility to be part of the winning, candidate list for MPs in IE 3 together with the head of the list @[100063774981830:2048:Dragan Kovachki] and president of VMO-DPMNE OK VELES and actual MP in the Assembly of the Republic of North Macedonia, @[100063889660044:2048:Igor Zdravkovski].\",\n",
      "\"Big thanks to the chairman of VMO-DPMNE and current prime minister of North Macedonia, @[100044158072981:2048:Hristijan Mickoski] for the trust shown.\",\n",
      "\"I want to thank all of you, fellow party members, comrades, brothers and sisters from @[100064549278459:2048:VMO-DPMNE OK VELES] for the support they gave me.\",\n",
      "\"We have an excellent Program and great motivation. We need it in North Macedonia!\",\n",
      "\"United and united, together on May 8th we will celebrate our greatest victory.\",\n",
      "\"The organization must live forever! Long live VMO-DPMNE! Long live the Republic of North Macedonia!\"\n",
      "]}\n",
      "Extracted Claims: {'Claims': ['Huge responsibility to be part of the winning, candidate list for MPs in IE 3 together with the head of the list @[100063774981830:2048:Dragan Kovachki] and president of VMO-DPMNE OK VELES and actual MP in the Assembly of the Republic of North Macedonia, @[100063889660044:2048:Igor Zdravkovski].', 'Big thanks to the chairman of VMO-DPMNE and current prime minister of North Macedonia, @[100044158072981:2048:Hristijan Mickoski] for the trust shown.', 'I want to thank all of you, fellow party members, comrades, brothers and sisters from @[100064549278459:2048:VMO-DPMNE OK VELES] for the support they gave me.', 'We have an excellent Program and great motivation. We need it in North Macedonia!', 'United and united, together on May 8th we will celebrate our greatest victory.', 'The organization must live forever! Long live VMO-DPMNE! Long live the Republic of North Macedonia!']}\n"
     ]
    },
    {
     "name": "stderr",
     "output_type": "stream",
     "text": [
      " 93%|█████████▎| 25/27 [06:42<00:39, 19.96s/it]"
     ]
    },
    {
     "name": "stdout",
     "output_type": "stream",
     "text": [
      "Output after adding }: {\n",
      "\"Claims\": [\n",
      "\"The candidate has been a member of VMRO-DPMNE for over 20 years\",\n",
      "\"He is a representative of the IJ movement and has been actively involved in its activities\",\n",
      "\"He has worked with several organizations and institutions, including the Macedonian Orthodox Church\",\n",
      "\"The candidate has been recognized for his work and dedication to the Macedonian people\",\n",
      "\"He has a strong commitment to the country's independence and sovereignty\"\n",
      "]}\n",
      "Extracted Claims: {'Claims': ['The candidate has been a member of VMRO-DPMNE for over 20 years', 'He is a representative of the IJ movement and has been actively involved in its activities', 'He has worked with several organizations and institutions, including the Macedonian Orthodox Church', 'The candidate has been recognized for his work and dedication to the Macedonian people', \"He has a strong commitment to the country's independence and sovereignty\"]}\n"
     ]
    },
    {
     "name": "stderr",
     "output_type": "stream",
     "text": [
      " 96%|█████████▋| 26/27 [07:03<00:20, 20.17s/it]"
     ]
    },
    {
     "name": "stdout",
     "output_type": "stream",
     "text": [
      "Output after adding }: {\n",
      "\"Claims\": [\n",
      "\"A survey by IPIS shows a two-way advantage for the opposition party VMRO-DPMNE in Macedonia compared to LSDM.\",\n",
      "\"A survey published earlier on social networks, attributed to IPIS, was confirmed as falsified by the director of the institute, Vladimir Bozhinovski.\",\n",
      "\"Analysts emphasize the importance of opinion polls at the eve of elections, but note that financing from political parties can affect their objectivity.\"\n",
      "]}\n",
      "Extracted Claims: {'Claims': ['A survey by IPIS shows a two-way advantage for the opposition party VMRO-DPMNE in Macedonia compared to LSDM.', 'A survey published earlier on social networks, attributed to IPIS, was confirmed as falsified by the director of the institute, Vladimir Bozhinovski.', 'Analysts emphasize the importance of opinion polls at the eve of elections, but note that financing from political parties can affect their objectivity.']}\n"
     ]
    },
    {
     "name": "stderr",
     "output_type": "stream",
     "text": [
      "100%|██████████| 27/27 [07:24<00:00, 16.45s/it]"
     ]
    },
    {
     "name": "stdout",
     "output_type": "stream",
     "text": [
      "Output after adding }: {\n",
      "\"Claims\": [\n",
      "\"President Stevo Pendarovski will run for a second term with support from LSDM.\",\n",
      "\"Gordana Siljanovska Davkova will run as the candidate of VMRO-DPMNE.\",\n",
      "\"This will be the second matchup between Pendarovski and Siljanovska-DavkovÃ«s, after the 2019 presidential elections.\",\n",
      "\"Arben Taravari has been officially promoted as a presidential candidate by VLEN.\"}\n",
      "Final output is not valid JSON: {\n",
      "\"Claims\": [\n",
      "\"President Stevo Pendarovski will run for a second term with support from LSDM.\",\n",
      "\"Gordana Siljanovska Davkova will run as the candidate of VMRO-DPMNE.\",\n",
      "\"This will be the second matchup between Pendarovski and Siljanovska-DavkovÃ«s, after the 2019 presidential elections.\",\n",
      "\"Arben Taravari has been officially promoted as a presidential candidate by VLEN.\"}\n"
     ]
    },
    {
     "name": "stderr",
     "output_type": "stream",
     "text": [
      "\n"
     ]
    }
   ],
   "source": [
    "ids_to_claims = {}\n",
    "for index, row in tqdm.tqdm(pandas_df.iterrows(), total=pandas_df.shape[0]):\n",
    "    # Extract the text from the DataFrame\n",
    "    text = row['ad_creative_bodies']\n",
    "    id = row['ad_archive_id']\n",
    "    # Extract claims from the text\n",
    "    claims = extract_claims(text)\n",
    "    # Store the claims in the dictionary\n",
    "    ids_to_claims[id] = claims\n",
    "    \n",
    "# Check if the folder and file exist\n",
    "if not os.path.exists(\"./PreprocessedDataset/\"):\n",
    "    os.makedirs(\"./PreprocessedDataset/\")\n",
    "    \n",
    "\n",
    "# Save the claims to a CSV file\n",
    "with open(\"./PreprocessedDataset/\" + party + \"_claims.csv\", \"w\", newline='', encoding='utf-8') as csvfile:\n",
    "    fieldnames = ['ad_archive_id', 'claims']\n",
    "    writer = csv.DictWriter(csvfile, fieldnames=fieldnames)\n",
    "    writer.writeheader()\n",
    "    for id, claims in ids_to_claims.items():\n",
    "        writer.writerow({'ad_archive_id': id, 'claims': json.dumps(claims)})"
   ]
  },
  {
   "cell_type": "markdown",
   "id": "d0f5d4bd",
   "metadata": {},
   "source": [
    "### Claim to Questions"
   ]
  },
  {
   "cell_type": "code",
   "execution_count": 19,
   "id": "e1e37bf6",
   "metadata": {},
   "outputs": [],
   "source": [
    "def claim_to_question(claim):\n",
    "    prompt_question = f\"\"\" For the bellow claim generate me 3 neural fact-checking questions and give to me in the format of a json. You should only return the json. The json should have only 1 key `Questions` and the value should be a list of questions.\n",
    "    Claim: \"{claim}\"\"\"\n",
    "    \n",
    "    extract_claim_payload = {\n",
    "    \"model\": \"llama3\",\n",
    "    \"prompt\": prompt_question + text,\n",
    "    }\n",
    "    \n",
    "    question_response = requests.post(llama3_url, json=extract_claim_payload)\n",
    "    \n",
    "    if question_response.status_code == 200:\n",
    "        # Process the streamed response\n",
    "        lines = question_response.text.splitlines()\n",
    "        output = \"\"\n",
    "\n",
    "        for line in lines:\n",
    "            try:\n",
    "                # Parse each line as JSON\n",
    "                line_data = json.loads(line)\n",
    "                # Concatenate the \"response\" field\n",
    "                output += line_data.get(\"response\", \"\")\n",
    "            except json.JSONDecodeError:\n",
    "                # Skip lines that are not valid JSON\n",
    "                continue\n",
    "\n",
    "        # Parse the final concatenated output as JSON\n",
    "        try:\n",
    "            final_output = json.loads(output)\n",
    "            print(\"Generated Questions:\", final_output)\n",
    "            return final_output\n",
    "        except json.JSONDecodeError:\n",
    "            # Add a } to the end of the output\n",
    "            output += \"}\"\n",
    "            try:\n",
    "                final_output = json.loads(output)\n",
    "                print(\"Generated Questions:\", final_output)\n",
    "                return final_output\n",
    "            except json.JSONDecodeError:\n",
    "                print(\"Final output is not valid JSON:\", output)\n",
    "                return None\n",
    "    else:\n",
    "        print(f\"Error: {question_response.status_code}\")\n",
    "        print(question_response.text)"
   ]
  },
  {
   "cell_type": "code",
   "execution_count": 36,
   "id": "d9b257af",
   "metadata": {},
   "outputs": [
    {
     "name": "stderr",
     "output_type": "stream",
     "text": [
      "100%|██████████| 27/27 [00:00<00:00, 3123.69it/s]"
     ]
    },
    {
     "name": "stdout",
     "output_type": "stream",
     "text": [
      "ID 427480589881211\n",
      "Claims {'Claims': ['The anti-Albanian quarters have a tendency to abolish amnesty and distort the fight for freedom and equality of UÃ‡K.', 'Gordana Siljanovska has proven the same thing from her own mouth today.', \"It is necessary to prove that VMRO-DPMNE's political battle is to subjugate Albanians, not to continue the partnership established in 2001!\", \"The European Front should win over 22 mandates and 'Siljanovskas' should remain only a memory of posters and billboards.\"]}\n",
      "ID 1636678057070325\n",
      "Claims {'Claims': ['Macedonia is yours again!', \"It's time for a change!\"]}\n",
      "ID 252100357930225\n",
      "Claims {'Claims': ['Many years ago']}\n",
      "ID 1117244869521215\n",
      "Claims {'Claims': ['Gordana Siljanovska-Davkov won the first round of presidential elections in North Macedonia held on April 24.', 'She secured a decisive victory with 363,086 votes (40.08%) and gained 182,586 more votes than Stevo Pendarovski, the current president who received 180,500 votes (19.92%).', 'Bujar Osmani from the European Front triumphed over his rival Arben Taravari from VLEN.', 'Osmani received 121,088 votes (13.37%), while Taravari received 83,393 votes (9.20%).']}\n",
      "ID 1595858924569626\n",
      "Claims {'Claims': ['Your trust in politicians is lost', \"The people's will is many times manipulated and crushed\", 'Nothing functions', 'Macedonia is oppressed from above by the government, while the government is skeptical whether something can be changed', \"It's your time, life and death to decide together\", 'Changes are possible', \"We need concrete projects and solutions for Macedonia's development, for a better future\", 'I ask for your support for a complete reconstruction of the way from Otovica to Mamutschevo', 'Changes are in your hands!', 'Macedonia is yours again!']}\n",
      "ID 1826112547851414\n",
      "Claims {'Claims': ['For reconstruction of the Katlanovo-Veles highway!', 'For designing a new express road Veles-Chashka-Prilep!', 'You decide!', 'For Macedonia to be yours again!']}\n",
      "ID 402145615942772\n",
      "Claims {'Claims': ['Nëse shkojmë me logjikën e Mickoskit dhe Siljanovskës sonte i bie që e kemi marë edhe Shkupin.', 'E kemi thënë që ditën e parë se beteja jonë politike është kundër strukturave politike nacionaliste maqedonase të cilët edhe kur kanë problem me Greqinë fajin ua kanë shqiptarët, edhe kur kanë problem me Bullgarinë fajin e hedhin te shqiptarët.', \"Kur pyesin opozitarët se çka na bëri bashk me Ali Ahmetin duhet t'ua thoni se na bënë bashk thirrjet anti shqiptare të partnerit të tyre strategjik Mickoskit, i cili na detyroj që ne të bashkohemi.\", 'Andaj, të dashur vëllezër dhe motra, të ndihemi krenar që jemi pjesë e kësaj faqe të re të historisë që po e shkruajmë.']}\n",
      "ID 1463429004244655\n",
      "Claims {'Claims': [\"It's not necessary to have a president like Pendarovski as an executor of Ali Ahmeti\", 'Dostoevsky worthy president like Gordana Siljanovska Davkova']}\n",
      "ID 392857170323758\n",
      "Claims {'Claims': ['Vote for number 2', 'Vote for the greatest victory in electoral unit 2', 'Support many projects and a better future for all people']}\n",
      "ID 403410729140623\n",
      "Claims {'Claims': ['Macedonia is only one', \"There's only one Macedonia\", 'One Macedoniya will remain, broken into pieces, and then it will be ours most loved', 'The Macedonians loudly shout', 'Singing the Macedonian song', 'Dance the Macedonian dance', 'Remember dear mother the Macedoniya', 'Lived Macedonia alive']}\n",
      "ID 449885880937883\n",
      "Claims {'Claims': ['The government led by SDSM has shown itself to be a good partner for the business community!', 'We have supported 919 domestic companies with over 100 million euros, and they have invested over 500 million euros and created 5,000 jobs.', 'In the next 4 years, we will double this support to over 180 million euros, and our economy will receive over a billion euros in investments.', 'In the upcoming mandate, we will invest 3.5 billion euros in the development of high-voltage electrical networks and 400 capital projects to improve local infrastructure across Macedonia.', 'We are not going to make empty promises like VMRO-DPMNE did for 11 years; instead, we will increase our support and have already proven that we know how to do it!']}\n",
      "ID 1458502418376190\n",
      "Claims {'Claims': [['The people have been determined for change', 'VLEN will be the winner and Arben Taravari is the winning candidate']]}\n",
      "ID 416623077647589\n",
      "Claims {'Claims': ['Veleš is prepared for CHANGES!!!', 'Veleš with enormous support for Prof. Gordana Siljanovska Dafkova.', 'Macedonia proud again!', 'Macedonia yours again!']}\n",
      "ID 781983880567260\n",
      "Claims {'Claims': ['To repeat to be proud again of our president']}\n",
      "ID 1887851201662604\n",
      "Claims {'Claims': ['I am proud of the young people!', 'They give me energy and inspiration, I receive many proposals and ideas that will be incorporated into most projects to enable young people to have a bright and secure future.', 'Young people from Gjorche Petrov are avant-garde and the changes that everyone wants to see. Together with them we will be part of the changes that bring hope and better living conditions!', 'The changes depend on all of us!', \"Changes start on April 24th with Gordana Siljanovska Davkova's victory and VMRO-DPMNE!\"]}\n",
      "ID 1560850158037025\n",
      "Claims {'Claims': ['These elections are the last chance for salvation of Macedonia', \"It's a big turnout to show them where they belong\"]}\n",
      "ID 1970074723389277\n",
      "Claims {'Claims': ['Have a good day Macedonia!', 'Macedonia is returning to its greatness', 'Macedonia is returning to its power']}\n",
      "ID 1116312722921043\n",
      "Claims {'Claims': ['Starting a victorious evening with two winning committees, MK TUNEL and MK CERAMIC for together with @Igor Zdravkovski and @Rachel Mizrahi.', 'Strongly motivated, enthusiastic, inspired for changes.', 'The victory atmosphere is still felt in Veleš. Veleš smells like victory.', 'The changes are in our hands.', 'Macedonia will be proud again!']}\n",
      "ID 1927068471043142\n",
      "Claims {'Claims': ['This is a fight between the vision of unity and integration, which represents the largest multiethnic front in the country, and the isolationist and resentful vision that represents VMRO-DPMNE.']}\n",
      "ID 437943508751645\n",
      "Claims {'Claims': ['No claims were extracted from the provided text']}\n",
      "ID 802106028640560\n",
      "Claims {'Claims': ['Mickoski claims the state is the richest in Europe', 'LSDM and BDI are going to opposition']}\n",
      "ID 1006631041032140\n",
      "Claims {'Claims': ['The city is being urbanized and developed.', 'This development will benefit the citizens of this area, allowing them to enjoy walks and sports activities.', 'Macedonia will be proud.', 'A new church is being built in Prevalec.', 'Sports facilities are being constructed in Prevalec.', 'New urban equipment is being installed in Prevalec.']}\n",
      "ID 382415011367838\n",
      "Claims {'Claims': [\"We can't imagine Veles without our market traders from the City Market.\", 'We have an impeccable, long-term collaboration with these people.', 'We meet many acquaintances who come to trade here at the market.', 'Citizens are disappointed with this government and the economic catastrophe it has caused.', 'Citizens have hope and believe that changes will come.', 'We need a strong battle to stabilize the economy.', \"Together we'll make Macedonia proud again.\"]}\n",
      "ID 392256060253215\n",
      "Claims {'Claims': ['Huge responsibility to be part of the winning, candidate list for MPs in IE 3 together with the head of the list @[100063774981830:2048:Dragan Kovachki] and president of VMO-DPMNE OK VELES and actual MP in the Assembly of the Republic of North Macedonia, @[100063889660044:2048:Igor Zdravkovski].', 'Big thanks to the chairman of VMO-DPMNE and current prime minister of North Macedonia, @[100044158072981:2048:Hristijan Mickoski] for the trust shown.', 'I want to thank all of you, fellow party members, comrades, brothers and sisters from @[100064549278459:2048:VMO-DPMNE OK VELES] for the support they gave me.', 'We have an excellent Program and great motivation. We need it in North Macedonia!', 'United and united, together on May 8th we will celebrate our greatest victory.', 'The organization must live forever! Long live VMO-DPMNE! Long live the Republic of North Macedonia!']}\n",
      "ID 795173398649698\n",
      "Claims {'Claims': ['The candidate has been a member of VMRO-DPMNE for over 20 years', 'He is a representative of the IJ movement and has been actively involved in its activities', 'He has worked with several organizations and institutions, including the Macedonian Orthodox Church', 'The candidate has been recognized for his work and dedication to the Macedonian people', \"He has a strong commitment to the country's independence and sovereignty\"]}\n",
      "ID 1153390438992004\n",
      "Claims {'Claims': ['A survey by IPIS shows a two-way advantage for the opposition party VMRO-DPMNE in Macedonia compared to LSDM.', 'A survey published earlier on social networks, attributed to IPIS, was confirmed as falsified by the director of the institute, Vladimir Bozhinovski.', 'Analysts emphasize the importance of opinion polls at the eve of elections, but note that financing from political parties can affect their objectivity.']}\n",
      "ID 369290982662369\n",
      "Claims {'Claims': ['President Stevo Pendarovski will run for a second term with support from LSDM.', 'Gordana Siljanovska Davkova will run as the candidate of VMRO-DPMNE.', 'This will be the second matchup between Pendarovski and Siljanovska-Davkovës, after the 2019 presidential elections.', 'Arben Taravari has been officially promoted as a presidential candidate by VLEN.']}\n"
     ]
    },
    {
     "name": "stderr",
     "output_type": "stream",
     "text": [
      "\n"
     ]
    }
   ],
   "source": [
    "# Open the CSV file and read the claims\n",
    "with open(\"./PreprocessedDataset/\" + party + \"_claims.csv\", \"r\", encoding='utf-8') as csvfile:\n",
    "    reader = csv.DictReader(csvfile)\n",
    "    claims_data = list(reader)\n",
    "\n",
    "pd_claims_data = pd.DataFrame(claims_data)\n",
    "\n",
    "for index, row in tqdm.tqdm(pd_claims_data.iterrows(), total=pd_claims_data.shape[0]):\n",
    "    # Extract the claims from the DataFrame\n",
    "    claims = json.loads(row['claims'])\n",
    "    id = row['ad_archive_id']\n",
    "    print(\"ID\", id)\n",
    "    print(\"Claims\", claims)"
   ]
  },
  {
   "cell_type": "code",
   "execution_count": 37,
   "id": "e182a8b1",
   "metadata": {},
   "outputs": [
    {
     "name": "stdout",
     "output_type": "stream",
     "text": [
      "      ad_archive_id                                             claims\n",
      "0   427480589881211  {\"Claims\": [\"The anti-Albanian quarters have a...\n",
      "1  1636678057070325  {\"Claims\": [\"Macedonia is yours again!\", \"It's...\n",
      "2   252100357930225                     {\"Claims\": [\"Many years ago\"]}\n",
      "3  1117244869521215  { \"Claims\": [ \"Gordana Siljanovska-Davkov won ...\n",
      "4  1595858924569626  {\"Claims\": [\"Your trust in politicians is lost...\n"
     ]
    },
    {
     "name": "stderr",
     "output_type": "stream",
     "text": [
      "  0%|          | 0/27 [00:00<?, ?it/s]"
     ]
    },
    {
     "name": "stdout",
     "output_type": "stream",
     "text": [
      "Generated Questions: {'Questions': [\"Is 'anti-Albanian quarters' a neutral or objective term?\", 'What evidence exists to support the claim that these anti-Albanian quarters tend to abolish amnesty?', 'Do historical records show that UÃ‡K has been fighting for freedom and equality, rather than distorting it?']}\n"
     ]
    },
    {
     "name": "stderr",
     "output_type": "stream",
     "text": []
    },
    {
     "name": "stdout",
     "output_type": "stream",
     "text": [
      "Generated Questions: {'Questions': ['What does Gordana Siljanovska claim to have proven?', 'Who is she claiming has been determined for change?', \"What are her predictions regarding VLEN's chances and the candidacy of Arben Taravari?\"]}\n"
     ]
    },
    {
     "name": "stderr",
     "output_type": "stream",
     "text": []
    },
    {
     "name": "stdout",
     "output_type": "stream",
     "text": [
      "Generated Questions: {'Questions': [[\"Is there evidence that VMRO-DPMNE's political battle is primarily focused on subjugating Albanians?\"], ['Does the 2001 partnership established by VMRO-DPMNE include provisions for ensuring Albanian rights and interests?'], ['Are there credible sources indicating that the people are seeking change, and if so, what specific aspects of governance or policy are they looking to alter?']]}\n"
     ]
    },
    {
     "name": "stderr",
     "output_type": "stream",
     "text": [
      "100%|██████████| 4/4 [00:57<00:00, 14.25s/it]\n",
      "  4%|▎         | 1/27 [00:57<24:42, 57.02s/it]"
     ]
    },
    {
     "name": "stdout",
     "output_type": "stream",
     "text": [
      "Generated Questions: {'Questions': [['Is there any historical evidence that the European Front has won over 22 mandates?'], [\"Are 'Siljanovskas' a real political party or entity?\"], ['Is Arben Taravari confirmed as the winning candidate in any official election results?']]}\n"
     ]
    },
    {
     "name": "stderr",
     "output_type": "stream",
     "text": []
    },
    {
     "name": "stdout",
     "output_type": "stream",
     "text": [
      "Generated Questions: {'Questions': ['The claim mentions Macedonia, which country is actually known as North Macedonia after a constitutional name change in 2019. Is this correct?', \"The mention of 'the people' being determined for change implies that there was an election or referendum. Was there such an event recently?\", 'VLEN and Arben Taravari are not well-known political entities. Are they actual candidates or parties?']}\n"
     ]
    },
    {
     "name": "stderr",
     "output_type": "stream",
     "text": [
      "100%|██████████| 2/2 [00:34<00:00, 17.31s/it]\n",
      "  7%|▋         | 2/27 [01:31<18:16, 43.84s/it]"
     ]
    },
    {
     "name": "stdout",
     "output_type": "stream",
     "text": [
      "Generated Questions: {'Questions': [[\"What evidence supports the claim that 'the people' are determined for change?\", \"What is the definition of 'determined'? Is it based on a specific study or survey?\"], ['Who is VLEN, and what makes them a likely winner in this context?', 'What is the basis for stating Arben Taravari as the winning candidate?']]}\n"
     ]
    },
    {
     "name": "stderr",
     "output_type": "stream",
     "text": [
      "100%|██████████| 1/1 [00:11<00:00, 11.18s/it]\n",
      " 11%|█         | 3/27 [01:42<11:34, 28.93s/it]"
     ]
    },
    {
     "name": "stdout",
     "output_type": "stream",
     "text": [
      "Generated Questions: {'Questions': [['Is the claim referring to a specific time period or event in the past?', 'Is the claim making a prediction about a future outcome?', 'Does the claim identify a particular individual as the winner?']]}\n"
     ]
    },
    {
     "name": "stderr",
     "output_type": "stream",
     "text": []
    },
    {
     "name": "stdout",
     "output_type": "stream",
     "text": [
      "Generated Questions: {'Questions': ['What are the names of the candidates who participated in the first round of presidential elections in North Macedonia on April 24?', 'Won Gordana Siljanovska-Davkov the first round of presidential elections in North Macedonia held on April 24?', 'Which candidate won the first round of presidential elections in North Macedonia held on April 24?']}\n"
     ]
    },
    {
     "name": "stderr",
     "output_type": "stream",
     "text": []
    },
    {
     "name": "stdout",
     "output_type": "stream",
     "text": [
      "Generated Questions: {'Questions': [{'Question': 'Did Stevo Pendarovski receive 180,500 votes?'}, {'Question': 'Is the percentage of votes secured by She equal to 40.08%?'}, {'Question': \"Did she gain more than 182,586 votes compared to Stevo Pendarovski's total votes?\"}]}\n"
     ]
    },
    {
     "name": "stderr",
     "output_type": "stream",
     "text": []
    },
    {
     "name": "stdout",
     "output_type": "stream",
     "text": [
      "Generated Questions: {'Questions': ['Is Bujar Osmani from a party called European Front?', 'Did Arben Taravari lose an election against someone from the European Front?', 'Were there any statements about people being determined for change or VLEN being the winner and Arben Taravari being the winning candidate?']}\n"
     ]
    },
    {
     "name": "stderr",
     "output_type": "stream",
     "text": [
      "100%|██████████| 4/4 [00:54<00:00, 13.66s/it]\n",
      " 15%|█▍        | 4/27 [02:37<14:58, 39.08s/it]"
     ]
    },
    {
     "name": "stdout",
     "output_type": "stream",
     "text": [
      "Generated Questions: {'Questions': ['What was the percentage of votes Osmani received?', 'How many votes did Osmani receive?', 'Who won the election according to this information?']}\n"
     ]
    },
    {
     "name": "stderr",
     "output_type": "stream",
     "text": []
    },
    {
     "name": "stdout",
     "output_type": "stream",
     "text": [
      "Generated Questions: {'Questions': [\"What is the definition of 'determined for change'? Is it a common phrase used to describe public opinion?\", 'Is there any evidence that suggests VLEN has won an election or had a winning candidate?', 'What is the context behind Arben Taravari being mentioned as a winning candidate, and are there any credible sources supporting this claim?']}\n"
     ]
    },
    {
     "name": "stderr",
     "output_type": "stream",
     "text": []
    },
    {
     "name": "stdout",
     "output_type": "stream",
     "text": [
      "Generated Questions: {'Questions': [\"What is the definition of 'people's will' in this context?\", \"How does the claim specify that the people's will is manipulated or crushed, and what evidence supports this claim?\", 'What are the specific examples provided to support the statement that the people have been determined for change?']}\n"
     ]
    },
    {
     "name": "stderr",
     "output_type": "stream",
     "text": []
    },
    {
     "name": "stdout",
     "output_type": "stream",
     "text": [
      "Generated Questions: {'Questions': [\"What is the context of the claim 'Nothing functions'? Is it related to an election or a technical issue?\", 'Who are VLEN and Arben Taravari, and what is their connection to the outcome being described?', 'What specific criteria or metrics would be used to determine a winner in this scenario?']}\n"
     ]
    },
    {
     "name": "stderr",
     "output_type": "stream",
     "text": []
    },
    {
     "name": "stdout",
     "output_type": "stream",
     "text": [
      "Final output is not valid JSON: {\n",
      "\"Questions\": [\n",
      "[\"Is there evidence of widespread opposition to the government in Macedonia?\", \n",
      "\"What is the primary concern expressed by the Macedonian government regarding potential changes?\", \n",
      "\"Does the claim suggest that the people of Macedonia are motivated to bring about change?\"]\n",
      "}}\n"
     ]
    },
    {
     "name": "stderr",
     "output_type": "stream",
     "text": []
    },
    {
     "name": "stdout",
     "output_type": "stream",
     "text": [
      "Final output is not valid JSON: {\n",
      "\"Questions\": [\n",
      "[\"What does 'determined for change' mean in this context?\",\n",
      "\"What is VLEN and how can it win an election?\",\n",
      "\"Who is Arben Taravari and what makes him a potential winner?\"]\n",
      "}}\n"
     ]
    },
    {
     "name": "stderr",
     "output_type": "stream",
     "text": []
    },
    {
     "name": "stdout",
     "output_type": "stream",
     "text": [
      "Generated Questions: {'Questions': [[\"What does the claim mean by 'determined'?\", 'What evidence is presented to support that VLEN will be the winner?'], [\"What does the claim mean by 'Arben Taravari being the winning candidate'?\", 'Is there any information provided about what specific change is being referred to?']]}\n"
     ]
    },
    {
     "name": "stderr",
     "output_type": "stream",
     "text": []
    },
    {
     "name": "stdout",
     "output_type": "stream",
     "text": [
      "Generated Questions: {'Questions': [\"What specific projects does the speaker propose to ensure Macedonia's development?\", \"How does the claim 'the people are determined for change' relate to the concept of a better future?\", 'What role does the mentioned candidate, Arben Taravari, play in achieving the desired outcome?']}\n"
     ]
    },
    {
     "name": "stderr",
     "output_type": "stream",
     "text": []
    },
    {
     "name": "stdout",
     "output_type": "stream",
     "text": [
      "Generated Questions: {'Questions': [\"What is the specific issue that requires a 'complete reconstruction' of the road from Otovica to Mamutschevo?\", \"Is there concrete evidence to support the claim that 'the people have been determined for change', and if so, what kind of data is available?\", 'What are the sources suggesting that VLEN will be the winner and Arben Taravari is the winning candidate in an election or political process?']}\n"
     ]
    },
    {
     "name": "stderr",
     "output_type": "stream",
     "text": []
    },
    {
     "name": "stdout",
     "output_type": "stream",
     "text": [
      "Generated Questions: {'Questions': ['What changes are being referred to? Is it a specific policy or event?', 'Who is VLEN, and what makes them the likely winner?', 'What evidence exists that Arben Taravari has a legitimate chance of winning?']}\n"
     ]
    },
    {
     "name": "stderr",
     "output_type": "stream",
     "text": [
      "100%|██████████| 10/10 [02:35<00:00, 15.53s/it]\n",
      " 19%|█▊        | 5/27 [05:12<29:41, 80.97s/it]"
     ]
    },
    {
     "name": "stdout",
     "output_type": "stream",
     "text": [
      "Generated Questions: {'Questions': [\"What does 'yours again' refer to in the context of this claim?\", 'Who is VLEN, and what is their significance in the claim?', 'What is the role of Arben Taravari in relation to the election mentioned in the claim?']}\n"
     ]
    },
    {
     "name": "stderr",
     "output_type": "stream",
     "text": []
    },
    {
     "name": "stdout",
     "output_type": "stream",
     "text": [
      "Generated Questions: {'Questions': ['Does the claim explicitly state that the reconstruction of the Katlanovo-Veles highway is a fact?', \"Is there any connection between the people being 'determined for change' and the reconstruction of the Katlanovo-Veles highway?\", 'What evidence does the claim provide to support the claim that VLEN will be the winner and Arben Taravari is the winning candidate?']}\n"
     ]
    },
    {
     "name": "stderr",
     "output_type": "stream",
     "text": []
    },
    {
     "name": "stdout",
     "output_type": "stream",
     "text": [
      "Generated Questions: {'Questions': ['Does the claim provide evidence that the people are universally determined for a change?', 'Is there any proof that VLEN is the only feasible option for designing the express road Veles-Chashka-Prilep?', 'Has Arben Taravari been officially announced as the winning candidate in relation to this project?']}\n"
     ]
    },
    {
     "name": "stderr",
     "output_type": "stream",
     "text": []
    },
    {
     "name": "stdout",
     "output_type": "stream",
     "text": [
      "Generated Questions: {'Questions': [['Is the claim making a statement about a collective decision?', 'Does the claim predict the outcome of an election?'], [\"Can the author's claim about 'change' be independently verified?\", 'Is the claim based on personal opinion rather than factual information?'], [\"Who specifically is being referred to as 'the people'?\", \"Are there any contextual factors that would influence the meaning of 'the people'?\"]]}\n"
     ]
    },
    {
     "name": "stderr",
     "output_type": "stream",
     "text": [
      "100%|██████████| 4/4 [01:10<00:00, 17.66s/it]\n",
      " 22%|██▏       | 6/27 [06:23<27:06, 77.46s/it]"
     ]
    },
    {
     "name": "stdout",
     "output_type": "stream",
     "text": [
      "Generated Questions: {'Questions': [\"How accurate is the statement that 'the people' in Macedonia are determined for change?\", 'Is VLEN a credible organization, and what evidence supports their likelihood of being the winner?', 'What is the credibility of Arben Taravari as a candidate, and do any facts support his status as a winning candidate?']}\n"
     ]
    },
    {
     "name": "stderr",
     "output_type": "stream",
     "text": []
    },
    {
     "name": "stdout",
     "output_type": "stream",
     "text": [
      "Generated Questions: {'Questions': ['What is the logical argument presented by Mickoski and Siljanovski that implies they took Skopje?', 'Who are Mickoski and Siljanovski, and what is their relevance to the claim about taking Skopje?', \"What does 'taking' Skopje mean in this context, and how does it relate to the claim's message of change?\"]}\n"
     ]
    },
    {
     "name": "stderr",
     "output_type": "stream",
     "text": []
    },
    {
     "name": "stdout",
     "output_type": "stream",
     "text": [
      "Generated Questions: {'Questions': [\"Is 'the first day of our political battle' referring to a specific event or date?\", \"What does the phrase 'problem me' mean in this context, and how does it relate to the country mentioned (Greece/Bulgaria)?\", \"Are the Albanians being held accountable for someone else's problems with Greece/Bulgaria?\"]}\n"
     ]
    },
    {
     "name": "stderr",
     "output_type": "stream",
     "text": []
    },
    {
     "name": "stdout",
     "output_type": "stream",
     "text": [
      "Generated Questions: {'Questions': ['What is the source of the claim that Ali Ahmeti and others should say what they did with VLEN?', 'How does Mickoski, a strategic partner, relate to the anti-Albanian calls?', 'What evidence supports the assertion that Arben Taravari will be the winning candidate?']}\n"
     ]
    },
    {
     "name": "stderr",
     "output_type": "stream",
     "text": [
      "100%|██████████| 4/4 [00:45<00:00, 11.43s/it]\n",
      " 26%|██▌       | 7/27 [07:09<22:21, 67.08s/it]"
     ]
    },
    {
     "name": "stdout",
     "output_type": "stream",
     "text": [
      "Final output is not valid JSON: {\n",
      "\"Questions\": [\n",
      "[\"Is 'Andaj' a location mentioned in the claim?\",\n",
      "\"What is the tone of the author towards their brothers and sisters? Is it ironic or sincere?\",\n",
      "\"Does the statement imply that VLEN has not previously won?\"]\n",
      "}}\n"
     ]
    },
    {
     "name": "stderr",
     "output_type": "stream",
     "text": []
    },
    {
     "name": "stdout",
     "output_type": "stream",
     "text": [
      "Generated Questions: {'Questions': [\"How does 'not necessary' compare to the typical requirements for a president?\", 'What is the definition of Pendarovski as an executor, and how does it relate to Ali Ahmeti?', \"What specific characteristics or abilities are implied by saying someone 'must be like Pendarovski'?\"]}\n"
     ]
    },
    {
     "name": "stderr",
     "output_type": "stream",
     "text": [
      "100%|██████████| 2/2 [00:20<00:00, 10.32s/it]\n",
      " 30%|██▉       | 8/27 [07:29<16:33, 52.30s/it]"
     ]
    },
    {
     "name": "stdout",
     "output_type": "stream",
     "text": [
      "Generated Questions: {'Questions': ['What evidence suggests that Gordana Siljanovska Davkova is worthy of a literary comparison to Dostoevsky?', 'Is there any correlation between popular sentiment for change and electoral outcomes in the given context?', \"What is the significance of VLEN's predicted win or Arben Taravari's candidacy in relation to the claim's overall validity?\"]}\n"
     ]
    },
    {
     "name": "stderr",
     "output_type": "stream",
     "text": []
    },
    {
     "name": "stdout",
     "output_type": "stream",
     "text": [
      "Generated Questions: {'Questions': [\"Is 'number 2' referring to a specific candidate or position in an election?\", 'Does the claim state that the people have been determined for change, but provide no evidence or context to support this claim?', 'What is the relationship between VLEN and Arben Taravari, and how does it impact the credibility of the claim?']}\n"
     ]
    },
    {
     "name": "stderr",
     "output_type": "stream",
     "text": []
    },
    {
     "name": "stdout",
     "output_type": "stream",
     "text": [
      "Generated Questions: {'Questions': [\"What does it mean by 'the people have been determined for change'?\", 'Who is VLEN, and how is it related to the claim?', 'What evidence supports the statement that Arben Taravari will be the winning candidate?']}\n"
     ]
    },
    {
     "name": "stderr",
     "output_type": "stream",
     "text": [
      "100%|██████████| 3/3 [00:27<00:00,  9.11s/it]\n",
      " 33%|███▎      | 9/27 [07:57<13:20, 44.49s/it]"
     ]
    },
    {
     "name": "stdout",
     "output_type": "stream",
     "text": [
      "Generated Questions: {'Questions': [['Does the claim explicitly state that it supports multiple projects?', 'In what specific ways does the claim mention supporting a better future for all people?', 'Is there any evidence in the provided text that suggests the people are determined for change?']]}\n"
     ]
    },
    {
     "name": "stderr",
     "output_type": "stream",
     "text": []
    },
    {
     "name": "stdout",
     "output_type": "stream",
     "text": [
      "Generated Questions: {'Questions': [\"What does 'determined' mean in this context?\", 'Who are VLEN and Arben Taravari, and what do they have to do with Macedonian politics?', 'What specific change are the people of Macedonia seeking?']}\n"
     ]
    },
    {
     "name": "stderr",
     "output_type": "stream",
     "text": []
    },
    {
     "name": "stdout",
     "output_type": "stream",
     "text": [
      "Generated Questions: {'Questions': [\"What does 'the people' refer to in the context of this claim?\", 'When was Arben Taravari a winning candidate, according to historical records or reliable sources?', 'What evidence supports the idea that VLEN will be the winner, and what specific criteria are used to determine a winner?']}\n"
     ]
    },
    {
     "name": "stderr",
     "output_type": "stream",
     "text": []
    },
    {
     "name": "stdout",
     "output_type": "stream",
     "text": [
      "Generated Questions: {'Questions': [[\"What does 'Macedoniya' refer to in this context?\", 'What is the predicted outcome of an election, as stated in the claim?'], ['Is it a fact that people have been determined for change?', 'Who is predicted to be the winner according to the claim?']]}\n"
     ]
    },
    {
     "name": "stderr",
     "output_type": "stream",
     "text": []
    },
    {
     "name": "stdout",
     "output_type": "stream",
     "text": [
      "Generated Questions: {'Questions': ['How loud are the Macedonians in general when they shout?', 'What is the context of the Macedonians shouting this claim, and who is likely to shout it?', 'Are the people mentioned (VLEN and Arben Taravari) actual candidates or entities that have been determined for change?']}\n"
     ]
    },
    {
     "name": "stderr",
     "output_type": "stream",
     "text": []
    },
    {
     "name": "stdout",
     "output_type": "stream",
     "text": [
      "Generated Questions: {'Questions': [\"What does 'the people' refer to in the claim?\", \"Is there a specific event or election being referred to as 'change'?\", 'Who is VLEN, and what is their relationship to Arben Taravari?']}\n"
     ]
    },
    {
     "name": "stderr",
     "output_type": "stream",
     "text": []
    },
    {
     "name": "stdout",
     "output_type": "stream",
     "text": [
      "Generated Questions: {'Questions': ['Does the claim mention specific details about the Macedonian dance?', 'What are the main points being discussed in the context of the Macedonian dance?', 'Is there a clear prediction made regarding the outcome of an election event mentioned?']}\n"
     ]
    },
    {
     "name": "stderr",
     "output_type": "stream",
     "text": []
    },
    {
     "name": "stdout",
     "output_type": "stream",
     "text": [
      "Generated Questions: {'Questions': [\"Is 'Macedoniya' a recognized country?\", \"Who is 'Arben Taravari', is he a known political figure?\", \"What evidence supports the claim that 'VLEN' will be the winner and Arben Taravari is the winning candidate?\"]}\n"
     ]
    },
    {
     "name": "stderr",
     "output_type": "stream",
     "text": [
      "100%|██████████| 8/8 [01:27<00:00, 10.90s/it]\n",
      " 37%|███▋      | 10/27 [09:24<16:20, 57.67s/it]"
     ]
    },
    {
     "name": "stdout",
     "output_type": "stream",
     "text": [
      "Final output is not valid JSON: {\n",
      "\"Questions\": [\n",
      "[\n",
      "\"What is the current political climate in Macedonia?\",\n",
      "],\n",
      "[\n",
      "\"What are the key issues that people want to change about their government?\",\n",
      "],\n",
      "[\n",
      "\"Who has publicly declared their candidacy for the upcoming election in Macedonia?\"\n",
      "]\n",
      "]}\n"
     ]
    },
    {
     "name": "stderr",
     "output_type": "stream",
     "text": []
    },
    {
     "name": "stdout",
     "output_type": "stream",
     "text": [
      "Generated Questions: {'Questions': ['Is the government led by SDSM actually partnered with the business community?', 'What specific actions has the government taken to show itself as a good partner for businesses?', \"Can evidence be found that supports the government's positive relationship with the business community?\"]}\n"
     ]
    },
    {
     "name": "stderr",
     "output_type": "stream",
     "text": []
    },
    {
     "name": "stdout",
     "output_type": "stream",
     "text": [
      "Generated Questions: {'Questions': ['Is there evidence that VLEN has supported at least 919 domestic companies?', 'Can data confirm that these companies have invested over 500 million euros?', 'What is the source of information that suggests 5,000 jobs have been created as a direct result of this support?']}\n"
     ]
    },
    {
     "name": "stderr",
     "output_type": "stream",
     "text": []
    },
    {
     "name": "stdout",
     "output_type": "stream",
     "text": [
      "Generated Questions: {'Questions': ['What specific data or evidence supports the claim that this support will double to over 180 million euros?', 'Is there a reliable source backing up the statement that the economy will receive over a billion euros in investments within the next 4 years?', \"How is the growth in 'this support' and the subsequent economic investment related to the statements about change and VLEN's success?\"]}\n"
     ]
    },
    {
     "name": "stderr",
     "output_type": "stream",
     "text": []
    },
    {
     "name": "stdout",
     "output_type": "stream",
     "text": [
      "Generated Questions: {'Questions': ['What specific investment figure does the claim mention for the development of high-voltage electrical networks?', 'What type of infrastructure projects does the claim mention being improved across Macedonia?', \"Who are mentioned as individuals related to the claim's context (if any)?\"]}\n"
     ]
    },
    {
     "name": "stderr",
     "output_type": "stream",
     "text": [
      "100%|██████████| 5/5 [00:53<00:00, 10.73s/it]\n",
      " 41%|████      | 11/27 [10:17<15:03, 56.44s/it]"
     ]
    },
    {
     "name": "stdout",
     "output_type": "stream",
     "text": [
      "Generated Questions: {'Questions': [\"How does the claim compare to VMRO-DPMNE's promises during their 11-year term?\", 'What evidence supports the claim that VLEN has already proven its ability to increase support?', 'What is the basis for the assertion that Arben Taravari will be the winning candidate?']}\n"
     ]
    },
    {
     "name": "stderr",
     "output_type": "stream",
     "text": [
      "  0%|          | 0/1 [00:07<?, ?it/s]\n",
      " 41%|████      | 11/27 [10:24<15:09, 56.81s/it]\n"
     ]
    },
    {
     "ename": "KeyboardInterrupt",
     "evalue": "",
     "output_type": "error",
     "traceback": [
      "\u001b[31m---------------------------------------------------------------------------\u001b[39m",
      "\u001b[31mKeyboardInterrupt\u001b[39m                         Traceback (most recent call last)",
      "\u001b[36mCell\u001b[39m\u001b[36m \u001b[39m\u001b[32mIn[37]\u001b[39m\u001b[32m, line 14\u001b[39m\n\u001b[32m     12\u001b[39m \u001b[38;5;66;03m# Extract claims from the text\u001b[39;00m\n\u001b[32m     13\u001b[39m \u001b[38;5;28;01mfor\u001b[39;00m claim \u001b[38;5;129;01min\u001b[39;00m tqdm.tqdm(claims[\u001b[33m'\u001b[39m\u001b[33mClaims\u001b[39m\u001b[33m'\u001b[39m]):\n\u001b[32m---> \u001b[39m\u001b[32m14\u001b[39m     questions = \u001b[43mclaim_to_question\u001b[49m\u001b[43m(\u001b[49m\u001b[43mclaim\u001b[49m\u001b[43m)\u001b[49m\n\u001b[32m     15\u001b[39m     \u001b[38;5;66;03m# Store the claims in the dictionary\u001b[39;00m\n\u001b[32m     16\u001b[39m     claims_to_questions[claim] = questions\n",
      "\u001b[36mCell\u001b[39m\u001b[36m \u001b[39m\u001b[32mIn[19]\u001b[39m\u001b[32m, line 10\u001b[39m, in \u001b[36mclaim_to_question\u001b[39m\u001b[34m(claim)\u001b[39m\n\u001b[32m      2\u001b[39m prompt_question = \u001b[33mf\u001b[39m\u001b[33m\"\"\"\u001b[39m\u001b[33m For the bellow claim generate me 3 neural fact-checking questions and give to me in the format of a json. You should only return the json. The json should have only 1 key `Questions` and the value should be a list of questions.\u001b[39m\n\u001b[32m      3\u001b[39m \u001b[33mClaim: \u001b[39m\u001b[33m\"\u001b[39m\u001b[38;5;132;01m{\u001b[39;00mclaim\u001b[38;5;132;01m}\u001b[39;00m\u001b[33m\"\"\"\u001b[39m\n\u001b[32m      5\u001b[39m extract_claim_payload = {\n\u001b[32m      6\u001b[39m \u001b[33m\"\u001b[39m\u001b[33mmodel\u001b[39m\u001b[33m\"\u001b[39m: \u001b[33m\"\u001b[39m\u001b[33mllama3\u001b[39m\u001b[33m\"\u001b[39m,\n\u001b[32m      7\u001b[39m \u001b[33m\"\u001b[39m\u001b[33mprompt\u001b[39m\u001b[33m\"\u001b[39m: prompt_question + text,\n\u001b[32m      8\u001b[39m }\n\u001b[32m---> \u001b[39m\u001b[32m10\u001b[39m question_response = \u001b[43mrequests\u001b[49m\u001b[43m.\u001b[49m\u001b[43mpost\u001b[49m\u001b[43m(\u001b[49m\u001b[43mllama3_url\u001b[49m\u001b[43m,\u001b[49m\u001b[43m \u001b[49m\u001b[43mjson\u001b[49m\u001b[43m=\u001b[49m\u001b[43mextract_claim_payload\u001b[49m\u001b[43m)\u001b[49m\n\u001b[32m     12\u001b[39m \u001b[38;5;28;01mif\u001b[39;00m question_response.status_code == \u001b[32m200\u001b[39m:\n\u001b[32m     13\u001b[39m     \u001b[38;5;66;03m# Process the streamed response\u001b[39;00m\n\u001b[32m     14\u001b[39m     lines = question_response.text.splitlines()\n",
      "\u001b[36mFile \u001b[39m\u001b[32m~/.conda/envs/law-and-computation/lib/python3.13/site-packages/requests/api.py:115\u001b[39m, in \u001b[36mpost\u001b[39m\u001b[34m(url, data, json, **kwargs)\u001b[39m\n\u001b[32m    103\u001b[39m \u001b[38;5;28;01mdef\u001b[39;00m\u001b[38;5;250m \u001b[39m\u001b[34mpost\u001b[39m(url, data=\u001b[38;5;28;01mNone\u001b[39;00m, json=\u001b[38;5;28;01mNone\u001b[39;00m, **kwargs):\n\u001b[32m    104\u001b[39m \u001b[38;5;250m    \u001b[39m\u001b[33mr\u001b[39m\u001b[33;03m\"\"\"Sends a POST request.\u001b[39;00m\n\u001b[32m    105\u001b[39m \n\u001b[32m    106\u001b[39m \u001b[33;03m    :param url: URL for the new :class:`Request` object.\u001b[39;00m\n\u001b[32m   (...)\u001b[39m\u001b[32m    112\u001b[39m \u001b[33;03m    :rtype: requests.Response\u001b[39;00m\n\u001b[32m    113\u001b[39m \u001b[33;03m    \"\"\"\u001b[39;00m\n\u001b[32m--> \u001b[39m\u001b[32m115\u001b[39m     \u001b[38;5;28;01mreturn\u001b[39;00m \u001b[43mrequest\u001b[49m\u001b[43m(\u001b[49m\u001b[33;43m\"\u001b[39;49m\u001b[33;43mpost\u001b[39;49m\u001b[33;43m\"\u001b[39;49m\u001b[43m,\u001b[49m\u001b[43m \u001b[49m\u001b[43murl\u001b[49m\u001b[43m,\u001b[49m\u001b[43m \u001b[49m\u001b[43mdata\u001b[49m\u001b[43m=\u001b[49m\u001b[43mdata\u001b[49m\u001b[43m,\u001b[49m\u001b[43m \u001b[49m\u001b[43mjson\u001b[49m\u001b[43m=\u001b[49m\u001b[43mjson\u001b[49m\u001b[43m,\u001b[49m\u001b[43m \u001b[49m\u001b[43m*\u001b[49m\u001b[43m*\u001b[49m\u001b[43mkwargs\u001b[49m\u001b[43m)\u001b[49m\n",
      "\u001b[36mFile \u001b[39m\u001b[32m~/.conda/envs/law-and-computation/lib/python3.13/site-packages/requests/api.py:59\u001b[39m, in \u001b[36mrequest\u001b[39m\u001b[34m(method, url, **kwargs)\u001b[39m\n\u001b[32m     55\u001b[39m \u001b[38;5;66;03m# By using the 'with' statement we are sure the session is closed, thus we\u001b[39;00m\n\u001b[32m     56\u001b[39m \u001b[38;5;66;03m# avoid leaving sockets open which can trigger a ResourceWarning in some\u001b[39;00m\n\u001b[32m     57\u001b[39m \u001b[38;5;66;03m# cases, and look like a memory leak in others.\u001b[39;00m\n\u001b[32m     58\u001b[39m \u001b[38;5;28;01mwith\u001b[39;00m sessions.Session() \u001b[38;5;28;01mas\u001b[39;00m session:\n\u001b[32m---> \u001b[39m\u001b[32m59\u001b[39m     \u001b[38;5;28;01mreturn\u001b[39;00m \u001b[43msession\u001b[49m\u001b[43m.\u001b[49m\u001b[43mrequest\u001b[49m\u001b[43m(\u001b[49m\u001b[43mmethod\u001b[49m\u001b[43m=\u001b[49m\u001b[43mmethod\u001b[49m\u001b[43m,\u001b[49m\u001b[43m \u001b[49m\u001b[43murl\u001b[49m\u001b[43m=\u001b[49m\u001b[43murl\u001b[49m\u001b[43m,\u001b[49m\u001b[43m \u001b[49m\u001b[43m*\u001b[49m\u001b[43m*\u001b[49m\u001b[43mkwargs\u001b[49m\u001b[43m)\u001b[49m\n",
      "\u001b[36mFile \u001b[39m\u001b[32m~/.conda/envs/law-and-computation/lib/python3.13/site-packages/requests/sessions.py:589\u001b[39m, in \u001b[36mSession.request\u001b[39m\u001b[34m(self, method, url, params, data, headers, cookies, files, auth, timeout, allow_redirects, proxies, hooks, stream, verify, cert, json)\u001b[39m\n\u001b[32m    584\u001b[39m send_kwargs = {\n\u001b[32m    585\u001b[39m     \u001b[33m\"\u001b[39m\u001b[33mtimeout\u001b[39m\u001b[33m\"\u001b[39m: timeout,\n\u001b[32m    586\u001b[39m     \u001b[33m\"\u001b[39m\u001b[33mallow_redirects\u001b[39m\u001b[33m\"\u001b[39m: allow_redirects,\n\u001b[32m    587\u001b[39m }\n\u001b[32m    588\u001b[39m send_kwargs.update(settings)\n\u001b[32m--> \u001b[39m\u001b[32m589\u001b[39m resp = \u001b[38;5;28;43mself\u001b[39;49m\u001b[43m.\u001b[49m\u001b[43msend\u001b[49m\u001b[43m(\u001b[49m\u001b[43mprep\u001b[49m\u001b[43m,\u001b[49m\u001b[43m \u001b[49m\u001b[43m*\u001b[49m\u001b[43m*\u001b[49m\u001b[43msend_kwargs\u001b[49m\u001b[43m)\u001b[49m\n\u001b[32m    591\u001b[39m \u001b[38;5;28;01mreturn\u001b[39;00m resp\n",
      "\u001b[36mFile \u001b[39m\u001b[32m~/.conda/envs/law-and-computation/lib/python3.13/site-packages/requests/sessions.py:746\u001b[39m, in \u001b[36mSession.send\u001b[39m\u001b[34m(self, request, **kwargs)\u001b[39m\n\u001b[32m    743\u001b[39m         \u001b[38;5;28;01mpass\u001b[39;00m\n\u001b[32m    745\u001b[39m \u001b[38;5;28;01mif\u001b[39;00m \u001b[38;5;129;01mnot\u001b[39;00m stream:\n\u001b[32m--> \u001b[39m\u001b[32m746\u001b[39m     \u001b[43mr\u001b[49m\u001b[43m.\u001b[49m\u001b[43mcontent\u001b[49m\n\u001b[32m    748\u001b[39m \u001b[38;5;28;01mreturn\u001b[39;00m r\n",
      "\u001b[36mFile \u001b[39m\u001b[32m~/.conda/envs/law-and-computation/lib/python3.13/site-packages/requests/models.py:902\u001b[39m, in \u001b[36mResponse.content\u001b[39m\u001b[34m(self)\u001b[39m\n\u001b[32m    900\u001b[39m         \u001b[38;5;28mself\u001b[39m._content = \u001b[38;5;28;01mNone\u001b[39;00m\n\u001b[32m    901\u001b[39m     \u001b[38;5;28;01melse\u001b[39;00m:\n\u001b[32m--> \u001b[39m\u001b[32m902\u001b[39m         \u001b[38;5;28mself\u001b[39m._content = \u001b[33;43mb\u001b[39;49m\u001b[33;43m\"\u001b[39;49m\u001b[33;43m\"\u001b[39;49m\u001b[43m.\u001b[49m\u001b[43mjoin\u001b[49m\u001b[43m(\u001b[49m\u001b[38;5;28;43mself\u001b[39;49m\u001b[43m.\u001b[49m\u001b[43miter_content\u001b[49m\u001b[43m(\u001b[49m\u001b[43mCONTENT_CHUNK_SIZE\u001b[49m\u001b[43m)\u001b[49m\u001b[43m)\u001b[49m \u001b[38;5;129;01mor\u001b[39;00m \u001b[33mb\u001b[39m\u001b[33m\"\u001b[39m\u001b[33m\"\u001b[39m\n\u001b[32m    904\u001b[39m \u001b[38;5;28mself\u001b[39m._content_consumed = \u001b[38;5;28;01mTrue\u001b[39;00m\n\u001b[32m    905\u001b[39m \u001b[38;5;66;03m# don't need to release the connection; that's been handled by urllib3\u001b[39;00m\n\u001b[32m    906\u001b[39m \u001b[38;5;66;03m# since we exhausted the data.\u001b[39;00m\n",
      "\u001b[36mFile \u001b[39m\u001b[32m~/.conda/envs/law-and-computation/lib/python3.13/site-packages/requests/models.py:820\u001b[39m, in \u001b[36mResponse.iter_content.<locals>.generate\u001b[39m\u001b[34m()\u001b[39m\n\u001b[32m    818\u001b[39m \u001b[38;5;28;01mif\u001b[39;00m \u001b[38;5;28mhasattr\u001b[39m(\u001b[38;5;28mself\u001b[39m.raw, \u001b[33m\"\u001b[39m\u001b[33mstream\u001b[39m\u001b[33m\"\u001b[39m):\n\u001b[32m    819\u001b[39m     \u001b[38;5;28;01mtry\u001b[39;00m:\n\u001b[32m--> \u001b[39m\u001b[32m820\u001b[39m         \u001b[38;5;28;01myield from\u001b[39;00m \u001b[38;5;28mself\u001b[39m.raw.stream(chunk_size, decode_content=\u001b[38;5;28;01mTrue\u001b[39;00m)\n\u001b[32m    821\u001b[39m     \u001b[38;5;28;01mexcept\u001b[39;00m ProtocolError \u001b[38;5;28;01mas\u001b[39;00m e:\n\u001b[32m    822\u001b[39m         \u001b[38;5;28;01mraise\u001b[39;00m ChunkedEncodingError(e)\n",
      "\u001b[36mFile \u001b[39m\u001b[32m~/.conda/envs/law-and-computation/lib/python3.13/site-packages/urllib3/response.py:1063\u001b[39m, in \u001b[36mHTTPResponse.stream\u001b[39m\u001b[34m(self, amt, decode_content)\u001b[39m\n\u001b[32m   1047\u001b[39m \u001b[38;5;250m\u001b[39m\u001b[33;03m\"\"\"\u001b[39;00m\n\u001b[32m   1048\u001b[39m \u001b[33;03mA generator wrapper for the read() method. A call will block until\u001b[39;00m\n\u001b[32m   1049\u001b[39m \u001b[33;03m``amt`` bytes have been read from the connection or until the\u001b[39;00m\n\u001b[32m   (...)\u001b[39m\u001b[32m   1060\u001b[39m \u001b[33;03m    'content-encoding' header.\u001b[39;00m\n\u001b[32m   1061\u001b[39m \u001b[33;03m\"\"\"\u001b[39;00m\n\u001b[32m   1062\u001b[39m \u001b[38;5;28;01mif\u001b[39;00m \u001b[38;5;28mself\u001b[39m.chunked \u001b[38;5;129;01mand\u001b[39;00m \u001b[38;5;28mself\u001b[39m.supports_chunked_reads():\n\u001b[32m-> \u001b[39m\u001b[32m1063\u001b[39m     \u001b[38;5;28;01myield from\u001b[39;00m \u001b[38;5;28mself\u001b[39m.read_chunked(amt, decode_content=decode_content)\n\u001b[32m   1064\u001b[39m \u001b[38;5;28;01melse\u001b[39;00m:\n\u001b[32m   1065\u001b[39m     \u001b[38;5;28;01mwhile\u001b[39;00m \u001b[38;5;129;01mnot\u001b[39;00m is_fp_closed(\u001b[38;5;28mself\u001b[39m._fp) \u001b[38;5;129;01mor\u001b[39;00m \u001b[38;5;28mlen\u001b[39m(\u001b[38;5;28mself\u001b[39m._decoded_buffer) > \u001b[32m0\u001b[39m:\n",
      "\u001b[36mFile \u001b[39m\u001b[32m~/.conda/envs/law-and-computation/lib/python3.13/site-packages/urllib3/response.py:1219\u001b[39m, in \u001b[36mHTTPResponse.read_chunked\u001b[39m\u001b[34m(self, amt, decode_content)\u001b[39m\n\u001b[32m   1216\u001b[39m     amt = \u001b[38;5;28;01mNone\u001b[39;00m\n\u001b[32m   1218\u001b[39m \u001b[38;5;28;01mwhile\u001b[39;00m \u001b[38;5;28;01mTrue\u001b[39;00m:\n\u001b[32m-> \u001b[39m\u001b[32m1219\u001b[39m     \u001b[38;5;28;43mself\u001b[39;49m\u001b[43m.\u001b[49m\u001b[43m_update_chunk_length\u001b[49m\u001b[43m(\u001b[49m\u001b[43m)\u001b[49m\n\u001b[32m   1220\u001b[39m     \u001b[38;5;28;01mif\u001b[39;00m \u001b[38;5;28mself\u001b[39m.chunk_left == \u001b[32m0\u001b[39m:\n\u001b[32m   1221\u001b[39m         \u001b[38;5;28;01mbreak\u001b[39;00m\n",
      "\u001b[36mFile \u001b[39m\u001b[32m~/.conda/envs/law-and-computation/lib/python3.13/site-packages/urllib3/response.py:1138\u001b[39m, in \u001b[36mHTTPResponse._update_chunk_length\u001b[39m\u001b[34m(self)\u001b[39m\n\u001b[32m   1136\u001b[39m \u001b[38;5;28;01mif\u001b[39;00m \u001b[38;5;28mself\u001b[39m.chunk_left \u001b[38;5;129;01mis\u001b[39;00m \u001b[38;5;129;01mnot\u001b[39;00m \u001b[38;5;28;01mNone\u001b[39;00m:\n\u001b[32m   1137\u001b[39m     \u001b[38;5;28;01mreturn\u001b[39;00m \u001b[38;5;28;01mNone\u001b[39;00m\n\u001b[32m-> \u001b[39m\u001b[32m1138\u001b[39m line = \u001b[38;5;28;43mself\u001b[39;49m\u001b[43m.\u001b[49m\u001b[43m_fp\u001b[49m\u001b[43m.\u001b[49m\u001b[43mfp\u001b[49m\u001b[43m.\u001b[49m\u001b[43mreadline\u001b[49m\u001b[43m(\u001b[49m\u001b[43m)\u001b[49m  \u001b[38;5;66;03m# type: ignore[union-attr]\u001b[39;00m\n\u001b[32m   1139\u001b[39m line = line.split(\u001b[33mb\u001b[39m\u001b[33m\"\u001b[39m\u001b[33m;\u001b[39m\u001b[33m\"\u001b[39m, \u001b[32m1\u001b[39m)[\u001b[32m0\u001b[39m]\n\u001b[32m   1140\u001b[39m \u001b[38;5;28;01mtry\u001b[39;00m:\n",
      "\u001b[36mFile \u001b[39m\u001b[32m~/.conda/envs/law-and-computation/lib/python3.13/socket.py:719\u001b[39m, in \u001b[36mSocketIO.readinto\u001b[39m\u001b[34m(self, b)\u001b[39m\n\u001b[32m    717\u001b[39m     \u001b[38;5;28;01mraise\u001b[39;00m \u001b[38;5;167;01mOSError\u001b[39;00m(\u001b[33m\"\u001b[39m\u001b[33mcannot read from timed out object\u001b[39m\u001b[33m\"\u001b[39m)\n\u001b[32m    718\u001b[39m \u001b[38;5;28;01mtry\u001b[39;00m:\n\u001b[32m--> \u001b[39m\u001b[32m719\u001b[39m     \u001b[38;5;28;01mreturn\u001b[39;00m \u001b[38;5;28;43mself\u001b[39;49m\u001b[43m.\u001b[49m\u001b[43m_sock\u001b[49m\u001b[43m.\u001b[49m\u001b[43mrecv_into\u001b[49m\u001b[43m(\u001b[49m\u001b[43mb\u001b[49m\u001b[43m)\u001b[49m\n\u001b[32m    720\u001b[39m \u001b[38;5;28;01mexcept\u001b[39;00m timeout:\n\u001b[32m    721\u001b[39m     \u001b[38;5;28mself\u001b[39m._timeout_occurred = \u001b[38;5;28;01mTrue\u001b[39;00m\n",
      "\u001b[31mKeyboardInterrupt\u001b[39m: "
     ]
    }
   ],
   "source": [
    "# Load the claims from the CSV file\n",
    "claims_df = pd.read_csv(\"./PreprocessedDataset/\" + party + \"_claims.csv\")\n",
    "print(claims_df.head())\n",
    "\n",
    "ids_to_claims_to_questions = {}\n",
    "\n",
    "for index, row in tqdm.tqdm(claims_df.iterrows(), total=claims_df.shape[0]):\n",
    "    claims_to_questions = {}\n",
    "    # Extract the claims from the DataFrame\n",
    "    claims = json.loads(row['claims'])\n",
    "    id = row['ad_archive_id']\n",
    "    # Extract claims from the text\n",
    "    for claim in tqdm.tqdm(claims['Claims']):\n",
    "        questions = claim_to_question(claim)\n",
    "        # Store the claims in the dictionary\n",
    "        claims_to_questions[claim] = questions\n",
    "    # Store the claims in the dictionary\n",
    "    ids_to_claims_to_questions[id] = claims_to_questions\n",
    "# Check if the folder and file exist\n",
    "if not os.path.exists(\"./PreprocessedDataset/\"):\n",
    "    os.makedirs(\"./PreprocessedDataset/\")\n",
    "# Save the claims to a CSV file\n",
    "with open(\"./PreprocessedDataset/\" + party + \"_claims_to_questions.csv\", \"w\", newline='', encoding='utf-8') as csvfile:\n",
    "    fieldnames = ['ad_archive_id', 'claims_to_questions']\n",
    "    writer = csv.DictWriter(csvfile, fieldnames=fieldnames)\n",
    "    writer.writeheader()\n",
    "    for id, claims in ids_to_claims_to_questions.items():\n",
    "        writer.writerow({'ad_archive_id': id, 'claims_to_questions': json.dumps(claims)})\n",
    "        "
   ]
  },
  {
   "cell_type": "markdown",
   "id": "e2635b07",
   "metadata": {},
   "source": [
    "## Google Search (Evidence) Retrieval"
   ]
  },
  {
   "cell_type": "code",
   "execution_count": 91,
   "id": "43b6a9de",
   "metadata": {},
   "outputs": [],
   "source": [
    "def google_search(query, api_key, cse_id, num=3):\n",
    "    query = quote_plus(query)\n",
    "    url = f\"https://www.googleapis.com/customsearch/v1?q={query}&key={api_key}&cx={cse_id}&num={num}\"\n",
    "    response = requests.get(url).json()\n",
    "    \n",
    "    results = []\n",
    "    for item in response.get('items', []):\n",
    "        results.append({\n",
    "            'title': item.get('title'),\n",
    "            'link': item.get('link'),\n",
    "            'snippet': item.get('snippet')\n",
    "        })\n",
    "    return results[:5] "
   ]
  },
  {
   "cell_type": "code",
   "execution_count": 94,
   "id": "51ca34ab",
   "metadata": {},
   "outputs": [
    {
     "name": "stdout",
     "output_type": "stream",
     "text": [
      "Himni dhe simbolet shtetërore kanë vendin dhe kohën e vet se ku përdoren\n",
      "[\"What is the purpose of singing national anthems according to Hristijan Mickoski's proposal?\", 'Is it true that VMRO-DPMNE promotes nationalism and anti-European agendas, as claimed by the author?', 'Does the author suggest that VMRO-DPMNE isolates the country and hinders its future prospects in Europe?']\n",
      "The proposal of the leader of VMRO-DPMNE Hristijan Mickoski to make children sing the national anthem every month reflects the nationalist mindset of VMRO-DPMNE\n",
      "['Is the proposal to make children sing the national anthem every month a common practice in any country?', 'What is the current state of education in North Macedonia regarding national anthems, and is it true that VMRO-DPMNE is trying to impose its nationalist mindset on children?', \"Does Hristijan Mickoski's proposal reflect a broader nationalistic agenda by VMRO-DPMNE, and if so, what are the implications for the country's future integration into European structures?\"]\n",
      "VMRO-DPMNE spreads unjust nationalism while making excuses for anti-European agendas\n",
      "['What evidence exists to support the claim that VMRO-DPMNE spreads unjust nationalism?', 'In what specific ways does the author argue that VMRO-DPMNE makes excuses for anti-European agendas?', 'How is the proposed daily singing of the national anthem by children seen as a means of instilling nationalist values and political ideology?']\n",
      "VMRO-DPMNE fosters hatred and division\n",
      "['What is the specific context in which VMRO-DPMNE claims children should sing the national anthem every full moon?', \"How does VMRO-DPMNE's proposal to have children sing the national anthem daily instead of just on full moons address the concerns about fostering hatred and division mentioned earlier?\", \"Do statements from VMRO-DPMNE, such as 'ushqyer fëmijët me nacionalizëm' (feed children with nationalism), align with their claimed goal of promoting European future for the generations to come?\"]\n",
      "VMRO-DPMNE blocks the European future of young generations\n",
      "['What evidence is there that VMRO-DPMNE is blocking the European future of young generations?', 'How does the proposal by Hristijan Mickoski to make children sing the national anthem every night reflect the nationalist mindset of VMRO-DPMNE?', 'What specific anti-EU agendas or actions are being taken by VMRO-DPMNE that contradict its rhetoric about a European future?']\n",
      "VMRO-DPMNE isolates the country\n",
      "[\"What is the definition of 'nationalism' in the context of VMRO-DPMNE's proposal?\", \"How does VMRO-DPMNE's plan to make children sing the national anthem daily relate to their political agenda?\", \"What are the implications of VMRO-DPMNE's anti-European and isolationist policies on Albania's future?\"]\n",
      "VMRO-DPMNE exercises power against Albanian nation in the municipalities that lead its quotas\n",
      "['What is the specific policy or action taken by VMRO-DPMNE that exercises power against the Albanian nation in municipalities?', \"Is there any evidence of VMRO-DPMNE promoting nationalism and anti-European agendas, and if so, how does this affect the country's future?\", \"How do the claims of VMRO-DPMNE's leader Hristijan Mickoski to obligate children to sing the national anthem every day reflect his party's nationalist mindset and policy?\"]\n"
     ]
    }
   ],
   "source": [
    "Evidence = {}\n",
    "Claims_and_Evidence_dict = {}\n",
    "for claim, questions in claim_to_question_dic.items():\n",
    "    print(claim)\n",
    "    print(questions)\n",
    "    for question in questions:\n",
    "        search_results = google_search(question, google_api, cx)\n",
    "        Evidence[question] = search_results\n",
    "    Claims_and_Evidence_dict[claim] = Evidence\n",
    "    Evidence = {}\n",
    "    \n",
    "    \n",
    "    \n",
    "    # for question in questions:\n",
    "    #     search_results = google_search(question, google_api, cx)\n",
    "    #     Evidence[question] = search_results\n",
    "    # Claims_and_Evidence_dict[claim] = Evidence\n",
    "    # Evidence = {}\n",
    "    # print(Claims_and_Evidence_dict)"
   ]
  },
  {
   "cell_type": "code",
   "execution_count": null,
   "id": "98c3b2d0",
   "metadata": {},
   "outputs": [
    {
     "name": "stdout",
     "output_type": "stream",
     "text": [
      "{\n",
      "    \"Himni dhe simbolet shtet\\u00ebrore kan\\u00eb vendin dhe koh\\u00ebn e vet se ku p\\u00ebrdoren\": {\n",
      "        \"What is the purpose of singing national anthems according to Hristijan Mickoski's proposal?\": [\n",
      "            {\n",
      "                \"title\": \"North Macedonia's parliament approves a new center-right ...\",\n",
      "                \"link\": \"https://apnews.com/article/north-macedonia-mickoski-government-8021f259cd9b8fd3f128f35f533ab481\",\n",
      "                \"snippet\": \"Jun 23, 2024 ... ... proposed by a center-right party that won May's national elections. ... Hristijan Mickoski, 46, faces significant challenges in his four\\u00a0...\"\n",
      "            },\n",
      "            {\n",
      "                \"title\": \"MONOETHNIC ANTHEM: Education under the claws of nationalism ...\",\n",
      "                \"link\": \"https://koha.mk/en/himni-monoetnik-arsimi-nen-kthetrat-e-nacionalizmit/\",\n",
      "                \"snippet\": \"Dec 16, 2024 ... The law on secondary education that foresees the singing of the national anthem in schools is the result of a nationalist tendency. Destan\\u00a0...\"\n",
      "            },\n",
      "            {\n",
      "                \"title\": \"North Macedonia nightclub fire: 59 people dead, over 155 injured in ...\",\n",
      "                \"link\": \"https://www.whas11.com/article/news/nation-world/north-macedonia-nightclub-fire/507-ebed9d70-edc1-465d-8545-d7ed3f319f67\",\n",
      "                \"snippet\": \"Mar 16, 2025 ... Who will sing the national anthem, announce 'Riders Up' at Kentucky Derby 151? ... Prime Minister Hristijan Mickoski said late Sunday it\\u00a0...\"\n",
      "            }\n",
      "        ],\n",
      "        \"Is it true that VMRO-DPMNE promotes nationalism and anti-European agendas, as claimed by the author?\": [\n",
      "            {\n",
      "                \"title\": \"Does Macedonia's future lie in Europe? - UnHerd\",\n",
      "                \"link\": \"https://unherd.com/2024/05/does-macedonias-future-lie-in-europe/\",\n",
      "                \"snippet\": \"May 16, 2024 ... Eurosceptic, Right-nationalist VMRO-DPMNE won a landslide, booting ... \\u201cThere's not any strong anti-European sentiment here, but people feel\\u00a0...\"\n",
      "            },\n",
      "            {\n",
      "                \"title\": \"North Macedonia: A reform agenda on the path to EU integration ...\",\n",
      "                \"link\": \"https://www.atlanticcouncil.org/in-depth-research-reports/report/north-macedonia-a-reform-agenda-on-the-path-to-eu-integration/\",\n",
      "                \"snippet\": \"Nov 14, 2024 ... The new government, led by VMRO-DPMNE and largely perceived internationally as \\u201cnationalist,\\u201d will face a critical challenge: How can it inject\\u00a0...\"\n",
      "            },\n",
      "            {\n",
      "                \"title\": \"THE WESTERN BALKANS AND THE EU: 'THE HOUR OF EUROPE'\",\n",
      "                \"link\": \"https://www.iss.europa.eu/sites/default/files/EUISSFiles/cp126-The_Western_Balkans_and_the_EU_0.pdf\",\n",
      "                \"snippet\": \"Nov 9, 2010 ... nationalist rhetoric, and the very technical nature of the EU agenda, ... VMRO-DPMNE agenda. Since Gruevski needs funding and support to.\"\n",
      "            }\n",
      "        ],\n",
      "        \"Does the author suggest that VMRO-DPMNE isolates the country and hinders its future prospects in Europe?\": [\n",
      "            {\n",
      "                \"title\": \"THE WESTERN BALKANS AND THE EU: 'THE HOUR OF EUROPE'\",\n",
      "                \"link\": \"https://www.iss.europa.eu/sites/default/files/EUISSFiles/cp126-The_Western_Balkans_and_the_EU_0.pdf\",\n",
      "                \"snippet\": \"Nov 9, 2010 ... they believe in the future of their country within Europe as long as they were not allowed to travel there? Only Kosovo remains set apart in\\u00a0...\"\n",
      "            },\n",
      "            {\n",
      "                \"title\": \"Growing Trust In Record Election Year: Businesses' Opportunity To ...\",\n",
      "                \"link\": \"https://www.crowe.com/global/insights/growing-trust-in-record-election-year\",\n",
      "                \"snippet\": \"Jun 19, 2024 ... Schick, author of Deepfakes, suggests that businesses can ... government can further isolate the country and build walls with its neighbors.\"\n",
      "            },\n",
      "            {\n",
      "                \"title\": \"Rival Influences in the Western Balkans:\",\n",
      "                \"link\": \"https://institutdelors.eu/wp-content/uploads/2024/02/PB_231128_Influences_rivales_Balkans_occidentaux_Couteau_EN.pdf\",\n",
      "                \"snippet\": \"In addition, they are all members of the European Political Com- munity (EPC) and the Council of Europe (with the exception of Kosovo, which has applied for\\u00a0...\"\n",
      "            }\n",
      "        ]\n",
      "    },\n",
      "    \"The proposal of the leader of VMRO-DPMNE Hristijan Mickoski to make children sing the national anthem every month reflects the nationalist mindset of VMRO-DPMNE\": {\n",
      "        \"Is the proposal to make children sing the national anthem every month a common practice in any country?\": [\n",
      "            {\n",
      "                \"title\": \"Fenway Park Policies and Procedures | Boston Red Sox\",\n",
      "                \"link\": \"https://www.mlb.com/redsox/ballpark/information/guide\",\n",
      "                \"snippet\": \"... general Red Sox questions that are offered to make your experience an enjoyable one. ... If you would like to audition to sing the national anthem at games,\\u00a0...\"\n",
      "            },\n",
      "            {\n",
      "                \"title\": \"TQL Stadium's A to Z Guide\",\n",
      "                \"link\": \"https://www.fccincinnati.com/matchday/tql-stadium-guide\",\n",
      "                \"snippet\": \"Major League Soccer, FC Cincinnati and TQL Stadium are committed to creating a safe, comfortable, and enjoyable gameday experience for all fans visiting MLS\\u00a0...\"\n",
      "            },\n",
      "            {\n",
      "                \"title\": \"Policies and Procedures at Daikin Park | Houston Astros\",\n",
      "                \"link\": \"https://www.mlb.com/astros/ballpark/information/guide\",\n",
      "                \"snippet\": \"ANTHEM SINGERS. Any individual or small group (6 people or fewer) wishing to perform the National Anthem prior to an Astros game or God Bless America during the\\u00a0...\"\n",
      "            }\n",
      "        ],\n",
      "        \"What is the current state of education in North Macedonia regarding national anthems, and is it true that VMRO-DPMNE is trying to impose its nationalist mindset on children?\": [\n",
      "            {\n",
      "                \"title\": \"Untitled\",\n",
      "                \"link\": \"https://shareok.org/server/api/core/bitstreams/642fd2b7-42c9-4b04-b281-9e51f3b97db8/content\",\n",
      "                \"snippet\": \"May 26, 2020 ... It is of immense importance for the Balkan community of states to discuss the challenge of the Macedonian national identity, as its regional\\u00a0...\"\n",
      "            },\n",
      "            {\n",
      "                \"title\": \"CAPTURED STATE\",\n",
      "                \"link\": \"https://library.fes.de/pdf-files/bueros/skopje/15211.pdf\",\n",
      "                \"snippet\": \"Apr 27, 2017 ... VMRO-DPMNE was building its national-populism, with whose assistance it established absolute and autocratic authority and as a party\\u00a0...\"\n",
      "            },\n",
      "            {\n",
      "                \"title\": \"A History of Yugoslavia\",\n",
      "                \"link\": \"https://library.oapen.org/bitstream/20.500.12657/24993/1/1005109.pdf\",\n",
      "                \"snippet\": \"Was its violent demise inevitable? Did its population simply fall victim to the lure of nationalism? How did this multina- tional state manage to survive for so\\u00a0...\"\n",
      "            }\n",
      "        ],\n",
      "        \"Does Hristijan Mickoski's proposal reflect a broader nationalistic agenda by VMRO-DPMNE, and if so, what are the implications for the country's future integration into European structures?\": [\n",
      "            {\n",
      "                \"title\": \"BTI 2024 North Macedonia Country Report: BTI 2024\",\n",
      "                \"link\": \"https://bti-project.org/en/reports/country-report/MKD\",\n",
      "                \"snippet\": \"North Macedonia launched its accession talks with the European Union on July 19, 2022, by holding the inaugural EU-Macedonian intergovernmental conference.\"\n",
      "            },\n",
      "            {\n",
      "                \"title\": \"North Macedonia's EU path: Challenges and opportunities in 2025\",\n",
      "                \"link\": \"https://www.clingendael.org/sites/default/files/2024-12/BP__North_Macedonia_Couteau.pdf\",\n",
      "                \"snippet\": \"Therefore, the government led by Hristijan Mic- koski following the 8 May 2024 parliamentary elections may be reluctant to push for further EU-aligned reforms\\u00a0...\"\n",
      "            },\n",
      "            {\n",
      "                \"title\": \"North Macedonia external relations briefing: New Government's Bid ...\",\n",
      "                \"link\": \"https://china-cee.eu/2024/12/04/north-macedonia-external-relations-briefing-new-governments-bid-to-renegotiate-accession-framework-meets-resistance-from-eu-and-bulgaria/\",\n",
      "                \"snippet\": \"Dec 4, 2024 ... ... EU institutions for guarantees that future ... country can successfully balance national sovereignty with global integration,\\u201d said Mickoski.\"\n",
      "            }\n",
      "        ]\n",
      "    },\n",
      "    \"VMRO-DPMNE spreads unjust nationalism while making excuses for anti-European agendas\": {\n",
      "        \"What evidence exists to support the claim that VMRO-DPMNE spreads unjust nationalism?\": [\n",
      "            {\n",
      "                \"title\": \"THE WESTERN BALKANS AND THE EU: 'THE HOUR OF EUROPE'\",\n",
      "                \"link\": \"https://www.iss.europa.eu/sites/default/files/EUISSFiles/cp126-The_Western_Balkans_and_the_EU_0.pdf\",\n",
      "                \"snippet\": \"Nov 9, 2010 ... the support it has given to Serbia's claims on Kosovo. The ... VMRO-DPMNE. As a result, not only did the party win the elections\\u00a0...\"\n",
      "            },\n",
      "            {\n",
      "                \"title\": \"THE DEMOCRACY PLAYBOOK: Preventing and Reversing ...\",\n",
      "                \"link\": \"https://www.brookings.edu/wp-content/uploads/2019/11/The-Democracy-Playbook_Preventing-and-Reversing-Democratic-Backsliding.pdf\",\n",
      "                \"snippet\": \"Macedonia's VMRO-DPMNE Party, which had overseen democratic backsliding, attacks on civil society, and a spree of nationalist building projects, lost power\\u00a0...\"\n",
      "            },\n",
      "            {\n",
      "                \"title\": \"Untitled\",\n",
      "                \"link\": \"https://shareok.org/server/api/core/bitstreams/642fd2b7-42c9-4b04-b281-9e51f3b97db8/content\",\n",
      "                \"snippet\": \"May 26, 2020 ... Gounaris (2006) observed, the. Greek, Bulgarian, Serbian, and Macedonian nationalist historiographies took the former position, basing\\u00a0...\"\n",
      "            }\n",
      "        ],\n",
      "        \"In what specific ways does the author argue that VMRO-DPMNE makes excuses for anti-European agendas?\": [\n",
      "            {\n",
      "                \"title\": \"THE WESTERN BALKANS AND THE EU: 'THE HOUR OF EUROPE'\",\n",
      "                \"link\": \"https://www.iss.europa.eu/sites/default/files/EUISSFiles/cp126-The_Western_Balkans_and_the_EU_0.pdf\",\n",
      "                \"snippet\": \"Nov 9, 2010 ... VMRO-DPMNE agenda. Since Gruevski needs funding and support to ... In previous works4 this author has concentrated on how the political.\"\n",
      "            },\n",
      "            {\n",
      "                \"title\": \"Viral vulnerability: How the pandemic is making democracy sick in ...\",\n",
      "                \"link\": \"https://ecfr.eu/publication/viral-vulnerability-how-the-pandemic-is-making-democracy-sick-in-the-western-balkans/\",\n",
      "                \"snippet\": \"Dec 8, 2020 ... For these reasons, the VMRO-BND and the VMRO-DPMNE are trying to ... EU Special Representative Miroslav Lajc\\u00e1k has argued). In this\\u00a0...\"\n",
      "            },\n",
      "            {\n",
      "                \"title\": \"Euroscepticism - Wikipedia\",\n",
      "                \"link\": \"https://en.wikipedia.org/wiki/Euroscepticism\",\n",
      "                \"snippet\": \"Euroscepticism, also spelled as Euroskepticism or EU-scepticism, is a political position involving criticism of the European Union (EU) and European\\u00a0...\"\n",
      "            }\n",
      "        ],\n",
      "        \"How is the proposed daily singing of the national anthem by children seen as a means of instilling nationalist values and political ideology?\": [\n",
      "            {\n",
      "                \"title\": \"A comparative review of social change and nationalism in music ...\",\n",
      "                \"link\": \"https://files.eric.ed.gov/fulltext/EJ1106482.pdf\",\n",
      "                \"snippet\": \"... singing the Chinese national anthem and chanting such anti ... a sense of culture, identity, and patriotism in students by means of new values in music.\"\n",
      "            },\n",
      "            {\n",
      "                \"title\": \"Psychology of Terrorism\",\n",
      "                \"link\": \"https://www.ojp.gov/pdffiles1/nij/grants/208551.pdf\",\n",
      "                \"snippet\": \"Poor people are more likely to take part in simpler forms of political violence than terrorism, such as riots. The level of terrorism is not particularly high\\u00a0...\"\n",
      "            },\n",
      "            {\n",
      "                \"title\": \"Everyday nationalism in Swedish preschools: something old ...\",\n",
      "                \"link\": \"https://www.tandfonline.com/doi/full/10.1080/14733285.2022.2159332\",\n",
      "                \"snippet\": \"Dec 24, 2022 ... In Sweden, despite increasing secularization, religious beliefs and practices are intertwined with what is understood as the national cultural\\u00a0...\"\n",
      "            }\n",
      "        ]\n",
      "    },\n",
      "    \"VMRO-DPMNE fosters hatred and division\": {\n",
      "        \"What is the specific context in which VMRO-DPMNE claims children should sing the national anthem every full moon?\": [\n",
      "            {\n",
      "                \"title\": \"Shaping the Past and Creating the Future: Music, Nationalism, and ...\",\n",
      "                \"link\": \"https://quod.lib.umich.edu/m/mp/9460447.0013.202?view=text;rgn=main\",\n",
      "                \"snippet\": \"Against the backdrop of numerous brand-new monuments to Macedonian heroes dating back to Alexander the Great, the event featured performances by the national\\u00a0...\"\n",
      "            },\n",
      "            {\n",
      "                \"title\": \"The remembered future: Macedonian pop icon To\\u0161e Proeski and ...\",\n",
      "                \"link\": \"https://www.cambridge.org/core/journals/popular-music/article/remembered-future-macedonian-pop-icon-tose-proeski-and-musical-life-after-death/EB33FD6BC5B4D54CD7205B07F3C15AF5\",\n",
      "                \"snippet\": \"Mar 16, 2022 ... For example, one of the central initiatives of the right-leaning VMRO-DPMNE ... new national sports anthem one month after his death.\"\n",
      "            },\n",
      "            {\n",
      "                \"title\": \"Human Rights Reports: Custom Report Excerpts - United States ...\",\n",
      "                \"link\": \"https://www.state.gov/report/custom/a3c712a95a/\",\n",
      "                \"snippet\": \"... VMRO-DPMNE, were reported during the year. On June 16, journalist Branko ... full transparency could come only in the context of a functioning TRC. The\\u00a0...\"\n",
      "            }\n",
      "        ],\n",
      "        \"How does VMRO-DPMNE's proposal to have children sing the national anthem daily instead of just on full moons address the concerns about fostering hatred and division mentioned earlier?\": [\n",
      "            {\n",
      "                \"title\": \"The remembered future: Macedonian pop icon To\\u0161e Proeski and ...\",\n",
      "                \"link\": \"https://www.cambridge.org/core/journals/popular-music/article/remembered-future-macedonian-pop-icon-tose-proeski-and-musical-life-after-death/EB33FD6BC5B4D54CD7205B07F3C15AF5\",\n",
      "                \"snippet\": \"Mar 16, 2022 ... The death of a popular musician, beyond transforming a living body into a dead one, can initiate processes of cultural production, shifts in\\u00a0...\"\n",
      "            },\n",
      "            {\n",
      "                \"title\": \"Monthly Reports to the Broadcasting Board of Governors (BBG ...\",\n",
      "                \"link\": \"https://www.governmentattic.org/27docs/BBGmoRpts_2012-2015.pdf\",\n",
      "                \"snippet\": \"Apr 2, 2018 ... Any concerns about the contents of the site should be directed to the agency originating the document in question. GovernmentAttic.org is not\\u00a0...\"\n",
      "            },\n",
      "            {\n",
      "                \"title\": \"The remembered future: Macedonian pop icon To\\u0161e Proeski and ...\",\n",
      "                \"link\": \"https://www.cambridge.org/core/services/aop-cambridge-core/content/view/EB33FD6BC5B4D54CD7205B07F3C15AF5/S0261143021000672a.pdf/the-remembered-future-macedonian-pop-icon-tose-proeski-and-musical-life-after-death.pdf\",\n",
      "                \"snippet\": \") to be especially musical, and Macedonian folk music is widely revered (cf. Stojkova Serafimovska. 2020, pp. 143\\u20136). Macedonians generally embrace this\\u00a0...\"\n",
      "            }\n",
      "        ],\n",
      "        \"Do statements from VMRO-DPMNE, such as 'ushqyer f\\u00ebmij\\u00ebt me nacionaliz\\u00ebm' (feed children with nationalism), align with their claimed goal of promoting European future for the generations to come?\": []\n",
      "    },\n",
      "    \"VMRO-DPMNE blocks the European future of young generations\": {\n",
      "        \"What evidence is there that VMRO-DPMNE is blocking the European future of young generations?\": [\n",
      "            {\n",
      "                \"title\": \"EUROPEAN COMMISSION Brussels, 30.10.2024 SWD(2024) 693 ...\",\n",
      "                \"link\": \"https://neighbourhood-enlargement.ec.europa.eu/document/download/5f0c9185-ce46-46fc-bf44-82318ab47e88_en?filename=North%20Macedonia%20Report%202024.pdf&prefLang=ar\",\n",
      "                \"snippet\": \"Oct 30, 2024 ... VMRO-DPMNE proposed or supported several legislative proposals and at times ensured a ... The new government established a Ministry of European\\u00a0...\"\n",
      "            },\n",
      "            {\n",
      "                \"title\": \"Can EU Enlargement Work? | Carnegie Endowment for International ...\",\n",
      "                \"link\": \"https://carnegieendowment.org/research/2024/06/can-eu-enlargement-work\",\n",
      "                \"snippet\": \"Jun 20, 2024 ... ... it to absorb new entrants from Eastern Europe and the Western Balkans. ... The nationalist VMRO-DPMNE party's victory in the country's May\\u00a0...\"\n",
      "            },\n",
      "            {\n",
      "                \"title\": \"Saving Macedonia \\u2013 POLITICO\",\n",
      "                \"link\": \"https://www.politico.eu/article/saving-macedonia-demonstrations-independence/\",\n",
      "                \"snippet\": \"May 20, 2015 ... The European People's Party has repeatedly blocked criticism of Gruevski's VMRO-DPMNE ... A peaceful transition and future stability depend\\u00a0...\"\n",
      "            }\n",
      "        ],\n",
      "        \"How does the proposal by Hristijan Mickoski to make children sing the national anthem every night reflect the nationalist mindset of VMRO-DPMNE?\": [\n",
      "            {\n",
      "                \"title\": \"Working Paper 5: Online and Offline (De)radicalisation in the Balkans\",\n",
      "                \"link\": \"https://berghof-foundation.org/download?lv=9m605jNAbAjC65bxkJaiEDNmZjFlNjcxZThlMTRiY2MxM2VjN2Q5ZTIwNDEzMGJjMzgzOGI4MTU5NjVhNWI0YWUwOTc0NTE0YzEzYWNlMzGmHAHijsRX9tUzAdzE6G4IF8IvSUvkVRTJ%252B90yhstAjlsQtsYdjvtOJfo1kx7HNp5sk7042OAszLYYu%252BfX11%252BXYXiDx%252FTjHYPQhAnEx%252B83SinDECvDuPXPIwSLj2%252Bny7nadDZv8KklYdwvGUZ34gi3OELkDNTk77pbwmPmGChkjsZebVz6ZP1PcQfxy82WE2AlZxXg9XHbC1I2rOtuuRItW1B%252FNZQ4Hfgu8tq1%252FGelLZTmeAX3ExcYby%252FwBJewt7DL9HhPdYceByOYdcPFvFAL\",\n",
      "                \"snippet\": \"The Kosovo government re- sponded to the phenomenon of foreign fighters and violent extremism in a number of ways. In 2015, the Kosovo Assembly adopted a Law on\\u00a0...\"\n",
      "            },\n",
      "            {\n",
      "                \"title\": \"FROM BUCHAREST TO PRESPA\",\n",
      "                \"link\": \"https://osfwb.org/wp-content/uploads/2024/11/foom-od-bukurest-do-prespa-ang-za-web.pdf\",\n",
      "                \"snippet\": \"April 1: VMRO-DPMNE leader Hristijan Mickoski announced that the political party will ... Unlike SDSM, Nikola Gruevski's VMRO-DPMNE had a well-designed plan.\"\n",
      "            },\n",
      "            {\n",
      "                \"title\": \"Mitsotakis, Kasselakis, Androulakis Tangle over EU Parl. Seats\",\n",
      "                \"link\": \"https://www.thenationalherald.com/wp-content/uploads/2024/06/1391.pdf\",\n",
      "                \"snippet\": \"Jun 14, 2024 ... NEW YORK \\u2013 On June 6 at UN headquarters in New York Greece was triumphantly elected to one of the two open non-permanent.\"\n",
      "            }\n",
      "        ],\n",
      "        \"What specific anti-EU agendas or actions are being taken by VMRO-DPMNE that contradict its rhetoric about a European future?\": [\n",
      "            {\n",
      "                \"title\": \"THE WESTERN BALKANS AND THE EU: 'THE HOUR OF EUROPE'\",\n",
      "                \"link\": \"https://www.iss.europa.eu/sites/default/files/EUISSFiles/cp126-The_Western_Balkans_and_the_EU_0.pdf\",\n",
      "                \"snippet\": \"Nov 9, 2010 ... the European integration agenda but it is not yet clear how strong he ... again by VMRO-DPMNE of being an 'internal traitor' because of their.\"\n",
      "            },\n",
      "            {\n",
      "                \"title\": \"BTI 2024 North Macedonia Country Report: BTI 2024\",\n",
      "                \"link\": \"https://bti-project.org/en/reports/country-report/MKD\",\n",
      "                \"snippet\": \"North Macedonia launched its accession talks with the European Union on July 19, 2022, by holding the inaugural EU-Macedonian intergovernmental conference.\"\n",
      "            },\n",
      "            {\n",
      "                \"title\": \"The EU as a promoter of democracy or 'stabilitocracy' in the Western ...\",\n",
      "                \"link\": \"https://www.clingendael.org/pub/2022/the-eu-as-a-promoter-of-democracy-or-stabilitocracy/3-stabilitocracy-formation-in-practice-lessons-from-the-western-balkans/\",\n",
      "                \"snippet\": \"In response, Albanian government stakeholders tend to take (short-term) measures, which are seen as successful by the European Commission and member states, to\\u00a0...\"\n",
      "            }\n",
      "        ]\n",
      "    },\n",
      "    \"VMRO-DPMNE isolates the country\": {\n",
      "        \"What is the definition of 'nationalism' in the context of VMRO-DPMNE's proposal?\": [\n",
      "            {\n",
      "                \"title\": \"VMRO-DPMNE - Wikipedia\",\n",
      "                \"link\": \"https://en.wikipedia.org/wiki/VMRO-DPMNE\",\n",
      "                \"snippet\": \"VMRO-DPMNE ; The Internal Macedonian Revolutionary Organization \\u2013 Democratic Party for Macedonian National Unity (Macedonian ; It was established as a nationalist\\u00a0...\"\n",
      "            },\n",
      "            {\n",
      "                \"title\": \"Shaping the Past and Creating the Future: Music, Nationalism, and ...\",\n",
      "                \"link\": \"https://quod.lib.umich.edu/m/mp/9460447.0013.202?view=text;rgn=main\",\n",
      "                \"snippet\": \"... nation in the context of the broader Federal Yugoslav state. Despite the ... VMRO-DPMNE's less moderate nationalism focuses on a new definition of\\u00a0...\"\n",
      "            },\n",
      "            {\n",
      "                \"title\": \"North Macedonia - European Forum for Democracy and Solidarity\",\n",
      "                \"link\": \"https://europeanforum.net/countries-list/north-macedonia/\",\n",
      "                \"snippet\": \"... nationalist identity-building project. In the context of nationalism, ethnic conflicts are influencing the political landscape. Each election, the VMRO-DPMNE\\u00a0...\"\n",
      "            }\n",
      "        ],\n",
      "        \"How does VMRO-DPMNE's plan to make children sing the national anthem daily relate to their political agenda?\": [\n",
      "            {\n",
      "                \"title\": \"Shaping the Past and Creating the Future: Music, Nationalism, and ...\",\n",
      "                \"link\": \"https://quod.lib.umich.edu/m/mp/9460447.0013.202?view=text;rgn=main\",\n",
      "                \"snippet\": \"By bringing together discourses on cultural memory, nationalism, and practice theory with an analysis of three musical performances from the celebration, I\\u00a0...\"\n",
      "            },\n",
      "            {\n",
      "                \"title\": \"THE WESTERN BALKANS AND THE EU: 'THE HOUR OF EUROPE'\",\n",
      "                \"link\": \"https://www.iss.europa.eu/sites/default/files/EUISSFiles/cp126-The_Western_Balkans_and_the_EU_0.pdf\",\n",
      "                \"snippet\": \"Nov 9, 2010 ... feel that they can influence political decisions, be it on a local, national ... Democratic Party for Macedonian National Unity party (VMRO-DPMNE)\\u00a0...\"\n",
      "            },\n",
      "            {\n",
      "                \"title\": \"North Macedonia - Ottoman, Balkans, History | Britannica\",\n",
      "                \"link\": \"https://www.britannica.com/place/North-Macedonia/The-Ottoman-Empire\",\n",
      "                \"snippet\": \"Apr 8, 2025 ... North Macedonia - Ottoman, Balkans, History: The Ottoman Empire originated in a small emirate established in the second half of the 13th\\u00a0...\"\n",
      "            }\n",
      "        ],\n",
      "        \"What are the implications of VMRO-DPMNE's anti-European and isolationist policies on Albania's future?\": [\n",
      "            {\n",
      "                \"title\": \"Geopolitical Influences of External Powers in the Western Balkans\",\n",
      "                \"link\": \"https://hcss.nl/wp-content/uploads/2021/01/Geopolitical-Influences-of-External-Powers-in-the-Western-Balkans_0.pdf\",\n",
      "                \"snippet\": \"Hybrid Conflict and the Future European Security ... The Iranian MEK in Albania: Implications and Possible Future Sectarian Divisions - Balkanalysis.\"\n",
      "            },\n",
      "            {\n",
      "                \"title\": \"The UK and the future of the Western Balkans\",\n",
      "                \"link\": \"https://publications.parliament.uk/pa/ld201719/ldselect/ldintrel/53/53.pdf\",\n",
      "                \"snippet\": \"Jan 10, 2018 ... All of the countries in the Western Balkans aspire to join the EU. Albania and Montenegro are already members of NATO; Macedonia, Bosnia and.\"\n",
      "            },\n",
      "            {\n",
      "                \"title\": \"Study on the Assessment of Regional Security Threats and ...\",\n",
      "                \"link\": \"https://www.dcaf.ch/sites/default/files/publications/documents/gyarmati-stancic-study-western-balkans-2007.pdf\",\n",
      "                \"snippet\": \"Possible Implications Arising from a Resolution of Kosovo's Future Status ... anti-corruption laws in line with European standards it is impossible to adapt to.\"\n",
      "            }\n",
      "        ]\n",
      "    },\n",
      "    \"VMRO-DPMNE exercises power against Albanian nation in the municipalities that lead its quotas\": {\n",
      "        \"What is the specific policy or action taken by VMRO-DPMNE that exercises power against the Albanian nation in municipalities?\": [\n",
      "            {\n",
      "                \"title\": \"North Macedonia 2024 Report\",\n",
      "                \"link\": \"https://neighbourhood-enlargement.ec.europa.eu/document/download/5f0c9185-ce46-46fc-bf44-82318ab47e88_en?filename=North%20Macedonia%20Report%202024.pdf&prefLang=ar\",\n",
      "                \"snippet\": \"Oct 30, 2024 ... clear sector-specific priorities, and a biannual action plan for 2024-2025 were adopted in ... measures set out in the national energy action.\"\n",
      "            },\n",
      "            {\n",
      "                \"title\": \"BTI 2024 North Macedonia Country Report: BTI 2024\",\n",
      "                \"link\": \"https://bti-project.org/en/reports/country-report/MKD\",\n",
      "                \"snippet\": \"VMRO-DPMNE secured victory in 42 out of the country's 80 municipalities ... The country has also taken steps to reduce its dependence on coal for energy.\"\n",
      "            },\n",
      "            {\n",
      "                \"title\": \"North Macedonia: Nations in Transit 2018 Country Report | Freedom ...\",\n",
      "                \"link\": \"https://freedomhouse.org/country/north-macedonia/nations-transit/2018\",\n",
      "                \"snippet\": \"5 VMRO-DPMNE's strong anti-Albanian rhetoric, corruption charges against the ... political pressure by VMRO-DPMNE against the independent civil sector.\"\n",
      "            }\n",
      "        ],\n",
      "        \"Is there any evidence of VMRO-DPMNE promoting nationalism and anti-European agendas, and if so, how does this affect the country's future?\": [\n",
      "            {\n",
      "                \"title\": \"North Macedonia: A reform agenda on the path to EU integration ...\",\n",
      "                \"link\": \"https://www.atlanticcouncil.org/in-depth-research-reports/report/north-macedonia-a-reform-agenda-on-the-path-to-eu-integration/\",\n",
      "                \"snippet\": \"Nov 14, 2024 ... The new government, led by VMRO-DPMNE and largely perceived internationally as \\u201cnationalist,\\u201d will face a critical challenge: How can it inject\\u00a0...\"\n",
      "            },\n",
      "            {\n",
      "                \"title\": \"THE WESTERN BALKANS AND THE EU: 'THE HOUR OF EUROPE'\",\n",
      "                \"link\": \"https://www.iss.europa.eu/sites/default/files/EUISSFiles/cp126-The_Western_Balkans_and_the_EU_0.pdf\",\n",
      "                \"snippet\": \"Nov 9, 2010 ... In January 2002 the Institute for Security Studies (EUISS) became an autonomous Paris-based agency of the European Union.\"\n",
      "            },\n",
      "            {\n",
      "                \"title\": \"Can EU Enlargement Work? | Carnegie Endowment for International ...\",\n",
      "                \"link\": \"https://carnegieendowment.org/research/2024/06/can-eu-enlargement-work\",\n",
      "                \"snippet\": \"Jun 20, 2024 ... To make enlargement work, the EU should focus on galvanizing political support among societies in the candidate countries.\"\n",
      "            }\n",
      "        ],\n",
      "        \"How do the claims of VMRO-DPMNE's leader Hristijan Mickoski to obligate children to sing the national anthem every day reflect his party's nationalist mindset and policy?\": []\n",
      "    }\n",
      "}\n"
     ]
    }
   ],
   "source": [
    "# Print Claims_and_Evidence_dict in a pretty format\n",
    "print(json.dumps(Claims_and_Evidence_dict, indent=4))"
   ]
  },
  {
   "cell_type": "markdown",
   "id": "f0e7b7d5",
   "metadata": {},
   "source": [
    "## Identify Stance of Evidence"
   ]
  },
  {
   "cell_type": "code",
   "execution_count": 96,
   "id": "26cc4363",
   "metadata": {},
   "outputs": [],
   "source": [
    "def detect_stance(claim, evidence):\n",
    "    prompt = f\"\"\"Analyze whether this evidence supports or refutes the claim.\n",
    "    Claim: \"{claim}\"\n",
    "    Evidence: \"{evidence}\"\n",
    "    Respond only with on of the following options: Completely Supports, Partially Support, Refute, Irrelevant, or No Evidence.\n",
    "    \"\"\"\n",
    "    extract_stance_payload = {\n",
    "    \"model\": \"llama3\",\n",
    "    \"prompt\": prompt,\n",
    "    }\n",
    "    stance_response = requests.post(llama3_url, json=extract_stance_payload)\n",
    "    if stance_response.status_code == 200:\n",
    "        # Process the streamed response\n",
    "        lines = stance_response.text.splitlines()\n",
    "        output = \"\"\n",
    "\n",
    "        for line in lines:\n",
    "            try:\n",
    "                # Parse each line as JSON\n",
    "                line_data = json.loads(line)\n",
    "                # Concatenate the \"response\" field\n",
    "                output += line_data.get(\"response\", \"\")\n",
    "            except json.JSONDecodeError:\n",
    "                # Skip lines that are not valid JSON\n",
    "                continue\n",
    "\n",
    "        # Parse the final concatenated output as JSON\n",
    "        # Remove everything after the newline character\n",
    "        output = output.split('\\n')[0]\n",
    "        return output\n",
    "    else:\n",
    "        print(f\"Error: {stance_response.status_code}\")\n",
    "        print(stance_response.text)\n",
    "    return None"
   ]
  },
  {
   "cell_type": "code",
   "execution_count": 105,
   "id": "a6580e5f",
   "metadata": {},
   "outputs": [
    {
     "name": "stderr",
     "output_type": "stream",
     "text": [
      "100%|██████████| 3/3 [00:47<00:00, 15.90s/it]\n",
      "100%|██████████| 3/3 [01:00<00:00, 20.25s/it]\n",
      "100%|██████████| 3/3 [01:19<00:00, 26.34s/it]\n",
      "100%|██████████| 3/3 [00:56<00:00, 18.95s/it]\n",
      "100%|██████████| 3/3 [01:02<00:00, 20.90s/it]\n",
      "100%|██████████| 3/3 [01:14<00:00, 24.84s/it]\n",
      "100%|██████████| 3/3 [00:45<00:00, 15.18s/it]\n",
      "100%|██████████| 7/7 [07:07<00:00, 61.02s/it]\n"
     ]
    }
   ],
   "source": [
    "stance_results = {}\n",
    "\n",
    "\n",
    "for claim, evidence in tqdm.tqdm(Claims_and_Evidence_dict.items()):\n",
    "    for question, evidences in tqdm.tqdm(evidence.items()):\n",
    "        for evidence in tqdm.tqdm(evidences):\n",
    "            stance = detect_stance(claim, evidence)\n",
    "            if claim not in stance_results:\n",
    "                stance_results[claim] = {}\n",
    "            if question not in stance_results[claim]:\n",
    "                stance_results[claim][question] = []\n",
    "            stance_results[claim][question].append({\n",
    "                'evidence': evidence,\n",
    "                'stance': stance\n",
    "            })"
   ]
  },
  {
   "cell_type": "code",
   "execution_count": 106,
   "id": "dab8efdc",
   "metadata": {},
   "outputs": [
    {
     "name": "stdout",
     "output_type": "stream",
     "text": [
      "{\n",
      "    \"Himni dhe simbolet shtet\\u00ebrore kan\\u00eb vendin dhe koh\\u00ebn e vet se ku p\\u00ebrdoren\": {\n",
      "        \"What is the purpose of singing national anthems according to Hristijan Mickoski's proposal?\": [\n",
      "            {\n",
      "                \"evidence\": {\n",
      "                    \"title\": \"North Macedonia's parliament approves a new center-right ...\",\n",
      "                    \"link\": \"https://apnews.com/article/north-macedonia-mickoski-government-8021f259cd9b8fd3f128f35f533ab481\",\n",
      "                    \"snippet\": \"Jun 23, 2024 ... ... proposed by a center-right party that won May's national elections. ... Hristijan Mickoski, 46, faces significant challenges in his four\\u00a0...\"\n",
      "                },\n",
      "                \"stance\": \"Partially Supports\"\n",
      "            },\n",
      "            {\n",
      "                \"evidence\": {\n",
      "                    \"title\": \"MONOETHNIC ANTHEM: Education under the claws of nationalism ...\",\n",
      "                    \"link\": \"https://koha.mk/en/himni-monoetnik-arsimi-nen-kthetrat-e-nacionalizmit/\",\n",
      "                    \"snippet\": \"Dec 16, 2024 ... The law on secondary education that foresees the singing of the national anthem in schools is the result of a nationalist tendency. Destan\\u00a0...\"\n",
      "                },\n",
      "                \"stance\": \"Partially Support\"\n",
      "            },\n",
      "            {\n",
      "                \"evidence\": {\n",
      "                    \"title\": \"North Macedonia nightclub fire: 59 people dead, over 155 injured in ...\",\n",
      "                    \"link\": \"https://www.whas11.com/article/news/nation-world/north-macedonia-nightclub-fire/507-ebed9d70-edc1-465d-8545-d7ed3f319f67\",\n",
      "                    \"snippet\": \"Mar 16, 2025 ... Who will sing the national anthem, announce 'Riders Up' at Kentucky Derby 151? ... Prime Minister Hristijan Mickoski said late Sunday it\\u00a0...\"\n",
      "                },\n",
      "                \"stance\": \"Refute\"\n",
      "            }\n",
      "        ],\n",
      "        \"Is it true that VMRO-DPMNE promotes nationalism and anti-European agendas, as claimed by the author?\": [\n",
      "            {\n",
      "                \"evidence\": {\n",
      "                    \"title\": \"Does Macedonia's future lie in Europe? - UnHerd\",\n",
      "                    \"link\": \"https://unherd.com/2024/05/does-macedonias-future-lie-in-europe/\",\n",
      "                    \"snippet\": \"May 16, 2024 ... Eurosceptic, Right-nationalist VMRO-DPMNE won a landslide, booting ... \\u201cThere's not any strong anti-European sentiment here, but people feel\\u00a0...\"\n",
      "                },\n",
      "                \"stance\": \"Partially Support\"\n",
      "            },\n",
      "            {\n",
      "                \"evidence\": {\n",
      "                    \"title\": \"North Macedonia: A reform agenda on the path to EU integration ...\",\n",
      "                    \"link\": \"https://www.atlanticcouncil.org/in-depth-research-reports/report/north-macedonia-a-reform-agenda-on-the-path-to-eu-integration/\",\n",
      "                    \"snippet\": \"Nov 14, 2024 ... The new government, led by VMRO-DPMNE and largely perceived internationally as \\u201cnationalist,\\u201d will face a critical challenge: How can it inject\\u00a0...\"\n",
      "                },\n",
      "                \"stance\": \"Partially Supports\"\n",
      "            },\n",
      "            {\n",
      "                \"evidence\": {\n",
      "                    \"title\": \"THE WESTERN BALKANS AND THE EU: 'THE HOUR OF EUROPE'\",\n",
      "                    \"link\": \"https://www.iss.europa.eu/sites/default/files/EUISSFiles/cp126-The_Western_Balkans_and_the_EU_0.pdf\",\n",
      "                    \"snippet\": \"Nov 9, 2010 ... nationalist rhetoric, and the very technical nature of the EU agenda, ... VMRO-DPMNE agenda. Since Gruevski needs funding and support to.\"\n",
      "                },\n",
      "                \"stance\": \"Partially Supports\"\n",
      "            }\n",
      "        ],\n",
      "        \"Does the author suggest that VMRO-DPMNE isolates the country and hinders its future prospects in Europe?\": [\n",
      "            {\n",
      "                \"evidence\": {\n",
      "                    \"title\": \"THE WESTERN BALKANS AND THE EU: 'THE HOUR OF EUROPE'\",\n",
      "                    \"link\": \"https://www.iss.europa.eu/sites/default/files/EUISSFiles/cp126-The_Western_Balkans_and_the_EU_0.pdf\",\n",
      "                    \"snippet\": \"Nov 9, 2010 ... they believe in the future of their country within Europe as long as they were not allowed to travel there? Only Kosovo remains set apart in\\u00a0...\"\n",
      "                },\n",
      "                \"stance\": \"Partially Supports\"\n",
      "            },\n",
      "            {\n",
      "                \"evidence\": {\n",
      "                    \"title\": \"Growing Trust In Record Election Year: Businesses' Opportunity To ...\",\n",
      "                    \"link\": \"https://www.crowe.com/global/insights/growing-trust-in-record-election-year\",\n",
      "                    \"snippet\": \"Jun 19, 2024 ... Schick, author of Deepfakes, suggests that businesses can ... government can further isolate the country and build walls with its neighbors.\"\n",
      "                },\n",
      "                \"stance\": \"No Evidence. The provided evidence appears to be a news article snippet about trust in record election years and deepfakes, but it does not provide any information that directly supports or refutes the claim about flags and national symbols having their place and time when used.\"\n",
      "            },\n",
      "            {\n",
      "                \"evidence\": {\n",
      "                    \"title\": \"Rival Influences in the Western Balkans:\",\n",
      "                    \"link\": \"https://institutdelors.eu/wp-content/uploads/2024/02/PB_231128_Influences_rivales_Balkans_occidentaux_Couteau_EN.pdf\",\n",
      "                    \"snippet\": \"In addition, they are all members of the European Political Com- munity (EPC) and the Council of Europe (with the exception of Kosovo, which has applied for\\u00a0...\"\n",
      "                },\n",
      "                \"stance\": \"Irrelevant\"\n",
      "            }\n",
      "        ]\n",
      "    },\n",
      "    \"The proposal of the leader of VMRO-DPMNE Hristijan Mickoski to make children sing the national anthem every month reflects the nationalist mindset of VMRO-DPMNE\": {\n",
      "        \"Is the proposal to make children sing the national anthem every month a common practice in any country?\": [\n",
      "            {\n",
      "                \"evidence\": {\n",
      "                    \"title\": \"Fenway Park Policies and Procedures | Boston Red Sox\",\n",
      "                    \"link\": \"https://www.mlb.com/redsox/ballpark/information/guide\",\n",
      "                    \"snippet\": \"... general Red Sox questions that are offered to make your experience an enjoyable one. ... If you would like to audition to sing the national anthem at games,\\u00a0...\"\n",
      "                },\n",
      "                \"stance\": \"Refute\"\n",
      "            },\n",
      "            {\n",
      "                \"evidence\": {\n",
      "                    \"title\": \"TQL Stadium's A to Z Guide\",\n",
      "                    \"link\": \"https://www.fccincinnati.com/matchday/tql-stadium-guide\",\n",
      "                    \"snippet\": \"Major League Soccer, FC Cincinnati and TQL Stadium are committed to creating a safe, comfortable, and enjoyable gameday experience for all fans visiting MLS\\u00a0...\"\n",
      "                },\n",
      "                \"stance\": \"Refute\"\n",
      "            },\n",
      "            {\n",
      "                \"evidence\": {\n",
      "                    \"title\": \"Policies and Procedures at Daikin Park | Houston Astros\",\n",
      "                    \"link\": \"https://www.mlb.com/astros/ballpark/information/guide\",\n",
      "                    \"snippet\": \"ANTHEM SINGERS. Any individual or small group (6 people or fewer) wishing to perform the National Anthem prior to an Astros game or God Bless America during the\\u00a0...\"\n",
      "                },\n",
      "                \"stance\": \"Refute\"\n",
      "            }\n",
      "        ],\n",
      "        \"What is the current state of education in North Macedonia regarding national anthems, and is it true that VMRO-DPMNE is trying to impose its nationalist mindset on children?\": [\n",
      "            {\n",
      "                \"evidence\": {\n",
      "                    \"title\": \"Untitled\",\n",
      "                    \"link\": \"https://shareok.org/server/api/core/bitstreams/642fd2b7-42c9-4b04-b281-9e51f3b97db8/content\",\n",
      "                    \"snippet\": \"May 26, 2020 ... It is of immense importance for the Balkan community of states to discuss the challenge of the Macedonian national identity, as its regional\\u00a0...\"\n",
      "                },\n",
      "                \"stance\": \"Refute\"\n",
      "            },\n",
      "            {\n",
      "                \"evidence\": {\n",
      "                    \"title\": \"CAPTURED STATE\",\n",
      "                    \"link\": \"https://library.fes.de/pdf-files/bueros/skopje/15211.pdf\",\n",
      "                    \"snippet\": \"Apr 27, 2017 ... VMRO-DPMNE was building its national-populism, with whose assistance it established absolute and autocratic authority and as a party\\u00a0...\"\n",
      "                },\n",
      "                \"stance\": \"Refute\"\n",
      "            },\n",
      "            {\n",
      "                \"evidence\": {\n",
      "                    \"title\": \"A History of Yugoslavia\",\n",
      "                    \"link\": \"https://library.oapen.org/bitstream/20.500.12657/24993/1/1005109.pdf\",\n",
      "                    \"snippet\": \"Was its violent demise inevitable? Did its population simply fall victim to the lure of nationalism? How did this multina- tional state manage to survive for so\\u00a0...\"\n",
      "                },\n",
      "                \"stance\": \"Refute\"\n",
      "            }\n",
      "        ],\n",
      "        \"Does Hristijan Mickoski's proposal reflect a broader nationalistic agenda by VMRO-DPMNE, and if so, what are the implications for the country's future integration into European structures?\": [\n",
      "            {\n",
      "                \"evidence\": {\n",
      "                    \"title\": \"BTI 2024 North Macedonia Country Report: BTI 2024\",\n",
      "                    \"link\": \"https://bti-project.org/en/reports/country-report/MKD\",\n",
      "                    \"snippet\": \"North Macedonia launched its accession talks with the European Union on July 19, 2022, by holding the inaugural EU-Macedonian intergovernmental conference.\"\n",
      "                },\n",
      "                \"stance\": \"Refute\"\n",
      "            },\n",
      "            {\n",
      "                \"evidence\": {\n",
      "                    \"title\": \"North Macedonia's EU path: Challenges and opportunities in 2025\",\n",
      "                    \"link\": \"https://www.clingendael.org/sites/default/files/2024-12/BP__North_Macedonia_Couteau.pdf\",\n",
      "                    \"snippet\": \"Therefore, the government led by Hristijan Mic- koski following the 8 May 2024 parliamentary elections may be reluctant to push for further EU-aligned reforms\\u00a0...\"\n",
      "                },\n",
      "                \"stance\": \"I would choose \\\"Refute\\\". The provided evidence does not relate to the national anthem, singing, or nationalism, and therefore does not support or refute the claim about VMRO-DPMNE's nationalist mindset.\"\n",
      "            },\n",
      "            {\n",
      "                \"evidence\": {\n",
      "                    \"title\": \"North Macedonia external relations briefing: New Government's Bid ...\",\n",
      "                    \"link\": \"https://china-cee.eu/2024/12/04/north-macedonia-external-relations-briefing-new-governments-bid-to-renegotiate-accession-framework-meets-resistance-from-eu-and-bulgaria/\",\n",
      "                    \"snippet\": \"Dec 4, 2024 ... ... EU institutions for guarantees that future ... country can successfully balance national sovereignty with global integration,\\u201d said Mickoski.\"\n",
      "                },\n",
      "                \"stance\": \"Partially Supports\"\n",
      "            }\n",
      "        ]\n",
      "    },\n",
      "    \"VMRO-DPMNE spreads unjust nationalism while making excuses for anti-European agendas\": {\n",
      "        \"What evidence exists to support the claim that VMRO-DPMNE spreads unjust nationalism?\": [\n",
      "            {\n",
      "                \"evidence\": {\n",
      "                    \"title\": \"THE WESTERN BALKANS AND THE EU: 'THE HOUR OF EUROPE'\",\n",
      "                    \"link\": \"https://www.iss.europa.eu/sites/default/files/EUISSFiles/cp126-The_Western_Balkans_and_the_EU_0.pdf\",\n",
      "                    \"snippet\": \"Nov 9, 2010 ... the support it has given to Serbia's claims on Kosovo. The ... VMRO-DPMNE. As a result, not only did the party win the elections\\u00a0...\"\n",
      "                },\n",
      "                \"stance\": \"Partially Supports\"\n",
      "            },\n",
      "            {\n",
      "                \"evidence\": {\n",
      "                    \"title\": \"THE DEMOCRACY PLAYBOOK: Preventing and Reversing ...\",\n",
      "                    \"link\": \"https://www.brookings.edu/wp-content/uploads/2019/11/The-Democracy-Playbook_Preventing-and-Reversing-Democratic-Backsliding.pdf\",\n",
      "                    \"snippet\": \"Macedonia's VMRO-DPMNE Party, which had overseen democratic backsliding, attacks on civil society, and a spree of nationalist building projects, lost power\\u00a0...\"\n",
      "                },\n",
      "                \"stance\": \"Partially Supports\"\n",
      "            },\n",
      "            {\n",
      "                \"evidence\": {\n",
      "                    \"title\": \"Untitled\",\n",
      "                    \"link\": \"https://shareok.org/server/api/core/bitstreams/642fd2b7-42c9-4b04-b281-9e51f3b97db8/content\",\n",
      "                    \"snippet\": \"May 26, 2020 ... Gounaris (2006) observed, the. Greek, Bulgarian, Serbian, and Macedonian nationalist historiographies took the former position, basing\\u00a0...\"\n",
      "                },\n",
      "                \"stance\": \"No Evidence.\"\n",
      "            }\n",
      "        ],\n",
      "        \"In what specific ways does the author argue that VMRO-DPMNE makes excuses for anti-European agendas?\": [\n",
      "            {\n",
      "                \"evidence\": {\n",
      "                    \"title\": \"THE WESTERN BALKANS AND THE EU: 'THE HOUR OF EUROPE'\",\n",
      "                    \"link\": \"https://www.iss.europa.eu/sites/default/files/EUISSFiles/cp126-The_Western_Balkans_and_the_EU_0.pdf\",\n",
      "                    \"snippet\": \"Nov 9, 2010 ... VMRO-DPMNE agenda. Since Gruevski needs funding and support to ... In previous works4 this author has concentrated on how the political.\"\n",
      "                },\n",
      "                \"stance\": \"Partially Support\"\n",
      "            },\n",
      "            {\n",
      "                \"evidence\": {\n",
      "                    \"title\": \"Viral vulnerability: How the pandemic is making democracy sick in ...\",\n",
      "                    \"link\": \"https://ecfr.eu/publication/viral-vulnerability-how-the-pandemic-is-making-democracy-sick-in-the-western-balkans/\",\n",
      "                    \"snippet\": \"Dec 8, 2020 ... For these reasons, the VMRO-BND and the VMRO-DPMNE are trying to ... EU Special Representative Miroslav Lajc\\u00e1k has argued). In this\\u00a0...\"\n",
      "                },\n",
      "                \"stance\": \"Partially Supports\"\n",
      "            },\n",
      "            {\n",
      "                \"evidence\": {\n",
      "                    \"title\": \"Euroscepticism - Wikipedia\",\n",
      "                    \"link\": \"https://en.wikipedia.org/wiki/Euroscepticism\",\n",
      "                    \"snippet\": \"Euroscepticism, also spelled as Euroskepticism or EU-scepticism, is a political position involving criticism of the European Union (EU) and European\\u00a0...\"\n",
      "                },\n",
      "                \"stance\": \"I would respond with: \\\"Partially Support\\\"\"\n",
      "            }\n",
      "        ],\n",
      "        \"How is the proposed daily singing of the national anthem by children seen as a means of instilling nationalist values and political ideology?\": [\n",
      "            {\n",
      "                \"evidence\": {\n",
      "                    \"title\": \"A comparative review of social change and nationalism in music ...\",\n",
      "                    \"link\": \"https://files.eric.ed.gov/fulltext/EJ1106482.pdf\",\n",
      "                    \"snippet\": \"... singing the Chinese national anthem and chanting such anti ... a sense of culture, identity, and patriotism in students by means of new values in music.\"\n",
      "                },\n",
      "                \"stance\": \"Partially Supports\"\n",
      "            },\n",
      "            {\n",
      "                \"evidence\": {\n",
      "                    \"title\": \"Psychology of Terrorism\",\n",
      "                    \"link\": \"https://www.ojp.gov/pdffiles1/nij/grants/208551.pdf\",\n",
      "                    \"snippet\": \"Poor people are more likely to take part in simpler forms of political violence than terrorism, such as riots. The level of terrorism is not particularly high\\u00a0...\"\n",
      "                },\n",
      "                \"stance\": \"I would respond that this evidence is \\\"Irrelevant\\\". The provided evidence appears to be a research paper about the psychology of terrorism and does not provide any information related to VMRO-DPMNE's political views, nationalism, or anti-European agendas. It does not support or refute the claim in any way.\"\n",
      "            },\n",
      "            {\n",
      "                \"evidence\": {\n",
      "                    \"title\": \"Everyday nationalism in Swedish preschools: something old ...\",\n",
      "                    \"link\": \"https://www.tandfonline.com/doi/full/10.1080/14733285.2022.2159332\",\n",
      "                    \"snippet\": \"Dec 24, 2022 ... In Sweden, despite increasing secularization, religious beliefs and practices are intertwined with what is understood as the national cultural\\u00a0...\"\n",
      "                },\n",
      "                \"stance\": \"Refute\"\n",
      "            }\n",
      "        ]\n",
      "    },\n",
      "    \"VMRO-DPMNE fosters hatred and division\": {\n",
      "        \"What is the specific context in which VMRO-DPMNE claims children should sing the national anthem every full moon?\": [\n",
      "            {\n",
      "                \"evidence\": {\n",
      "                    \"title\": \"Shaping the Past and Creating the Future: Music, Nationalism, and ...\",\n",
      "                    \"link\": \"https://quod.lib.umich.edu/m/mp/9460447.0013.202?view=text;rgn=main\",\n",
      "                    \"snippet\": \"Against the backdrop of numerous brand-new monuments to Macedonian heroes dating back to Alexander the Great, the event featured performances by the national\\u00a0...\"\n",
      "                },\n",
      "                \"stance\": \"No Evidence.\"\n",
      "            },\n",
      "            {\n",
      "                \"evidence\": {\n",
      "                    \"title\": \"The remembered future: Macedonian pop icon To\\u0161e Proeski and ...\",\n",
      "                    \"link\": \"https://www.cambridge.org/core/journals/popular-music/article/remembered-future-macedonian-pop-icon-tose-proeski-and-musical-life-after-death/EB33FD6BC5B4D54CD7205B07F3C15AF5\",\n",
      "                    \"snippet\": \"Mar 16, 2022 ... For example, one of the central initiatives of the right-leaning VMRO-DPMNE ... new national sports anthem one month after his death.\"\n",
      "                },\n",
      "                \"stance\": \"Partially Supports\"\n",
      "            },\n",
      "            {\n",
      "                \"evidence\": {\n",
      "                    \"title\": \"Human Rights Reports: Custom Report Excerpts - United States ...\",\n",
      "                    \"link\": \"https://www.state.gov/report/custom/a3c712a95a/\",\n",
      "                    \"snippet\": \"... VMRO-DPMNE, were reported during the year. On June 16, journalist Branko ... full transparency could come only in the context of a functioning TRC. The\\u00a0...\"\n",
      "                },\n",
      "                \"stance\": \"Partially Supports\"\n",
      "            }\n",
      "        ],\n",
      "        \"How does VMRO-DPMNE's proposal to have children sing the national anthem daily instead of just on full moons address the concerns about fostering hatred and division mentioned earlier?\": [\n",
      "            {\n",
      "                \"evidence\": {\n",
      "                    \"title\": \"The remembered future: Macedonian pop icon To\\u0161e Proeski and ...\",\n",
      "                    \"link\": \"https://www.cambridge.org/core/journals/popular-music/article/remembered-future-macedonian-pop-icon-tose-proeski-and-musical-life-after-death/EB33FD6BC5B4D54CD7205B07F3C15AF5\",\n",
      "                    \"snippet\": \"Mar 16, 2022 ... The death of a popular musician, beyond transforming a living body into a dead one, can initiate processes of cultural production, shifts in\\u00a0...\"\n",
      "                },\n",
      "                \"stance\": \"Irrelevant\"\n",
      "            },\n",
      "            {\n",
      "                \"evidence\": {\n",
      "                    \"title\": \"Monthly Reports to the Broadcasting Board of Governors (BBG ...\",\n",
      "                    \"link\": \"https://www.governmentattic.org/27docs/BBGmoRpts_2012-2015.pdf\",\n",
      "                    \"snippet\": \"Apr 2, 2018 ... Any concerns about the contents of the site should be directed to the agency originating the document in question. GovernmentAttic.org is not\\u00a0...\"\n",
      "                },\n",
      "                \"stance\": \"Irrelevant\"\n",
      "            },\n",
      "            {\n",
      "                \"evidence\": {\n",
      "                    \"title\": \"The remembered future: Macedonian pop icon To\\u0161e Proeski and ...\",\n",
      "                    \"link\": \"https://www.cambridge.org/core/services/aop-cambridge-core/content/view/EB33FD6BC5B4D54CD7205B07F3C15AF5/S0261143021000672a.pdf/the-remembered-future-macedonian-pop-icon-tose-proeski-and-musical-life-after-death.pdf\",\n",
      "                    \"snippet\": \") to be especially musical, and Macedonian folk music is widely revered (cf. Stojkova Serafimovska. 2020, pp. 143\\u20136). Macedonians generally embrace this\\u00a0...\"\n",
      "                },\n",
      "                \"stance\": \"I would respond with \\\"Irrelevant\\\". The provided evidence appears to be a research paper about To\\u0161e Proeski and Macedonian folk music, but it does not provide any information that suggests VMRO-DPMNE fosters hatred and division. Therefore, this evidence is not relevant to the claim being analyzed.\"\n",
      "            }\n",
      "        ]\n",
      "    },\n",
      "    \"VMRO-DPMNE blocks the European future of young generations\": {\n",
      "        \"What evidence is there that VMRO-DPMNE is blocking the European future of young generations?\": [\n",
      "            {\n",
      "                \"evidence\": {\n",
      "                    \"title\": \"EUROPEAN COMMISSION Brussels, 30.10.2024 SWD(2024) 693 ...\",\n",
      "                    \"link\": \"https://neighbourhood-enlargement.ec.europa.eu/document/download/5f0c9185-ce46-46fc-bf44-82318ab47e88_en?filename=North%20Macedonia%20Report%202024.pdf&prefLang=ar\",\n",
      "                    \"snippet\": \"Oct 30, 2024 ... VMRO-DPMNE proposed or supported several legislative proposals and at times ensured a ... The new government established a Ministry of European\\u00a0...\"\n",
      "                },\n",
      "                \"stance\": \"Partially Supports\"\n",
      "            },\n",
      "            {\n",
      "                \"evidence\": {\n",
      "                    \"title\": \"Can EU Enlargement Work? | Carnegie Endowment for International ...\",\n",
      "                    \"link\": \"https://carnegieendowment.org/research/2024/06/can-eu-enlargement-work\",\n",
      "                    \"snippet\": \"Jun 20, 2024 ... ... it to absorb new entrants from Eastern Europe and the Western Balkans. ... The nationalist VMRO-DPMNE party's victory in the country's May\\u00a0...\"\n",
      "                },\n",
      "                \"stance\": \"Partially Support\"\n",
      "            },\n",
      "            {\n",
      "                \"evidence\": {\n",
      "                    \"title\": \"Saving Macedonia \\u2013 POLITICO\",\n",
      "                    \"link\": \"https://www.politico.eu/article/saving-macedonia-demonstrations-independence/\",\n",
      "                    \"snippet\": \"May 20, 2015 ... The European People's Party has repeatedly blocked criticism of Gruevski's VMRO-DPMNE ... A peaceful transition and future stability depend\\u00a0...\"\n",
      "                },\n",
      "                \"stance\": \"Partially Support\"\n",
      "            }\n",
      "        ],\n",
      "        \"How does the proposal by Hristijan Mickoski to make children sing the national anthem every night reflect the nationalist mindset of VMRO-DPMNE?\": [\n",
      "            {\n",
      "                \"evidence\": {\n",
      "                    \"title\": \"Working Paper 5: Online and Offline (De)radicalisation in the Balkans\",\n",
      "                    \"link\": \"https://berghof-foundation.org/download?lv=9m605jNAbAjC65bxkJaiEDNmZjFlNjcxZThlMTRiY2MxM2VjN2Q5ZTIwNDEzMGJjMzgzOGI4MTU5NjVhNWI0YWUwOTc0NTE0YzEzYWNlMzGmHAHijsRX9tUzAdzE6G4IF8IvSUvkVRTJ%252B90yhstAjlsQtsYdjvtOJfo1kx7HNp5sk7042OAszLYYu%252BfX11%252BXYXiDx%252FTjHYPQhAnEx%252B83SinDECvDuPXPIwSLj2%252Bny7nadDZv8KklYdwvGUZ34gi3OELkDNTk77pbwmPmGChkjsZebVz6ZP1PcQfxy82WE2AlZxXg9XHbC1I2rOtuuRItW1B%252FNZQ4Hfgu8tq1%252FGelLZTmeAX3ExcYby%252FwBJewt7DL9HhPdYceByOYdcPFvFAL\",\n",
      "                    \"snippet\": \"The Kosovo government re- sponded to the phenomenon of foreign fighters and violent extremism in a number of ways. In 2015, the Kosovo Assembly adopted a Law on\\u00a0...\"\n",
      "                },\n",
      "                \"stance\": \"I would respond that this evidence is **Irrelevant** to the claim \\\"VMRO-DPMNE blocks the European future of young generations\\\". The provided evidence appears to be a working paper about online and offline radicalization in the Balkans, which seems unrelated to the claim made about VMRO-DPMNE's actions.\"\n",
      "            },\n",
      "            {\n",
      "                \"evidence\": {\n",
      "                    \"title\": \"FROM BUCHAREST TO PRESPA\",\n",
      "                    \"link\": \"https://osfwb.org/wp-content/uploads/2024/11/foom-od-bukurest-do-prespa-ang-za-web.pdf\",\n",
      "                    \"snippet\": \"April 1: VMRO-DPMNE leader Hristijan Mickoski announced that the political party will ... Unlike SDSM, Nikola Gruevski's VMRO-DPMNE had a well-designed plan.\"\n",
      "                },\n",
      "                \"stance\": \"Partially Supports\"\n",
      "            },\n",
      "            {\n",
      "                \"evidence\": {\n",
      "                    \"title\": \"Mitsotakis, Kasselakis, Androulakis Tangle over EU Parl. Seats\",\n",
      "                    \"link\": \"https://www.thenationalherald.com/wp-content/uploads/2024/06/1391.pdf\",\n",
      "                    \"snippet\": \"Jun 14, 2024 ... NEW YORK \\u2013 On June 6 at UN headquarters in New York Greece was triumphantly elected to one of the two open non-permanent.\"\n",
      "                },\n",
      "                \"stance\": \"Partially Support\"\n",
      "            }\n",
      "        ],\n",
      "        \"What specific anti-EU agendas or actions are being taken by VMRO-DPMNE that contradict its rhetoric about a European future?\": [\n",
      "            {\n",
      "                \"evidence\": {\n",
      "                    \"title\": \"THE WESTERN BALKANS AND THE EU: 'THE HOUR OF EUROPE'\",\n",
      "                    \"link\": \"https://www.iss.europa.eu/sites/default/files/EUISSFiles/cp126-The_Western_Balkans_and_the_EU_0.pdf\",\n",
      "                    \"snippet\": \"Nov 9, 2010 ... the European integration agenda but it is not yet clear how strong he ... again by VMRO-DPMNE of being an 'internal traitor' because of their.\"\n",
      "                },\n",
      "                \"stance\": \"Partially Support\"\n",
      "            },\n",
      "            {\n",
      "                \"evidence\": {\n",
      "                    \"title\": \"BTI 2024 North Macedonia Country Report: BTI 2024\",\n",
      "                    \"link\": \"https://bti-project.org/en/reports/country-report/MKD\",\n",
      "                    \"snippet\": \"North Macedonia launched its accession talks with the European Union on July 19, 2022, by holding the inaugural EU-Macedonian intergovernmental conference.\"\n",
      "                },\n",
      "                \"stance\": \"Partially Support\"\n",
      "            },\n",
      "            {\n",
      "                \"evidence\": {\n",
      "                    \"title\": \"The EU as a promoter of democracy or 'stabilitocracy' in the Western ...\",\n",
      "                    \"link\": \"https://www.clingendael.org/pub/2022/the-eu-as-a-promoter-of-democracy-or-stabilitocracy/3-stabilitocracy-formation-in-practice-lessons-from-the-western-balkans/\",\n",
      "                    \"snippet\": \"In response, Albanian government stakeholders tend to take (short-term) measures, which are seen as successful by the European Commission and member states, to\\u00a0...\"\n",
      "                },\n",
      "                \"stance\": \"Partially Support\"\n",
      "            }\n",
      "        ]\n",
      "    },\n",
      "    \"VMRO-DPMNE isolates the country\": {\n",
      "        \"What is the definition of 'nationalism' in the context of VMRO-DPMNE's proposal?\": [\n",
      "            {\n",
      "                \"evidence\": {\n",
      "                    \"title\": \"VMRO-DPMNE - Wikipedia\",\n",
      "                    \"link\": \"https://en.wikipedia.org/wiki/VMRO-DPMNE\",\n",
      "                    \"snippet\": \"VMRO-DPMNE ; The Internal Macedonian Revolutionary Organization \\u2013 Democratic Party for Macedonian National Unity (Macedonian ; It was established as a nationalist\\u00a0...\"\n",
      "                },\n",
      "                \"stance\": \"No Evidence.\"\n",
      "            },\n",
      "            {\n",
      "                \"evidence\": {\n",
      "                    \"title\": \"Shaping the Past and Creating the Future: Music, Nationalism, and ...\",\n",
      "                    \"link\": \"https://quod.lib.umich.edu/m/mp/9460447.0013.202?view=text;rgn=main\",\n",
      "                    \"snippet\": \"... nation in the context of the broader Federal Yugoslav state. Despite the ... VMRO-DPMNE's less moderate nationalism focuses on a new definition of\\u00a0...\"\n",
      "                },\n",
      "                \"stance\": \"Partially Supports\"\n",
      "            },\n",
      "            {\n",
      "                \"evidence\": {\n",
      "                    \"title\": \"North Macedonia - European Forum for Democracy and Solidarity\",\n",
      "                    \"link\": \"https://europeanforum.net/countries-list/north-macedonia/\",\n",
      "                    \"snippet\": \"... nationalist identity-building project. In the context of nationalism, ethnic conflicts are influencing the political landscape. Each election, the VMRO-DPMNE\\u00a0...\"\n",
      "                },\n",
      "                \"stance\": \"Partially Supports\"\n",
      "            }\n",
      "        ],\n",
      "        \"How does VMRO-DPMNE's plan to make children sing the national anthem daily relate to their political agenda?\": [\n",
      "            {\n",
      "                \"evidence\": {\n",
      "                    \"title\": \"Shaping the Past and Creating the Future: Music, Nationalism, and ...\",\n",
      "                    \"link\": \"https://quod.lib.umich.edu/m/mp/9460447.0013.202?view=text;rgn=main\",\n",
      "                    \"snippet\": \"By bringing together discourses on cultural memory, nationalism, and practice theory with an analysis of three musical performances from the celebration, I\\u00a0...\"\n",
      "                },\n",
      "                \"stance\": \"No Evidence.\"\n",
      "            },\n",
      "            {\n",
      "                \"evidence\": {\n",
      "                    \"title\": \"THE WESTERN BALKANS AND THE EU: 'THE HOUR OF EUROPE'\",\n",
      "                    \"link\": \"https://www.iss.europa.eu/sites/default/files/EUISSFiles/cp126-The_Western_Balkans_and_the_EU_0.pdf\",\n",
      "                    \"snippet\": \"Nov 9, 2010 ... feel that they can influence political decisions, be it on a local, national ... Democratic Party for Macedonian National Unity party (VMRO-DPMNE)\\u00a0...\"\n",
      "                },\n",
      "                \"stance\": \"Partially Support\"\n",
      "            },\n",
      "            {\n",
      "                \"evidence\": {\n",
      "                    \"title\": \"North Macedonia - Ottoman, Balkans, History | Britannica\",\n",
      "                    \"link\": \"https://www.britannica.com/place/North-Macedonia/The-Ottoman-Empire\",\n",
      "                    \"snippet\": \"Apr 8, 2025 ... North Macedonia - Ottoman, Balkans, History: The Ottoman Empire originated in a small emirate established in the second half of the 13th\\u00a0...\"\n",
      "                },\n",
      "                \"stance\": \"No Evidence.\"\n",
      "            }\n",
      "        ],\n",
      "        \"What are the implications of VMRO-DPMNE's anti-European and isolationist policies on Albania's future?\": [\n",
      "            {\n",
      "                \"evidence\": {\n",
      "                    \"title\": \"Geopolitical Influences of External Powers in the Western Balkans\",\n",
      "                    \"link\": \"https://hcss.nl/wp-content/uploads/2021/01/Geopolitical-Influences-of-External-Powers-in-the-Western-Balkans_0.pdf\",\n",
      "                    \"snippet\": \"Hybrid Conflict and the Future European Security ... The Iranian MEK in Albania: Implications and Possible Future Sectarian Divisions - Balkanalysis.\"\n",
      "                },\n",
      "                \"stance\": \"No Evidence.\"\n",
      "            },\n",
      "            {\n",
      "                \"evidence\": {\n",
      "                    \"title\": \"The UK and the future of the Western Balkans\",\n",
      "                    \"link\": \"https://publications.parliament.uk/pa/ld201719/ldselect/ldintrel/53/53.pdf\",\n",
      "                    \"snippet\": \"Jan 10, 2018 ... All of the countries in the Western Balkans aspire to join the EU. Albania and Montenegro are already members of NATO; Macedonia, Bosnia and.\"\n",
      "                },\n",
      "                \"stance\": \"Partially Support\"\n",
      "            },\n",
      "            {\n",
      "                \"evidence\": {\n",
      "                    \"title\": \"Study on the Assessment of Regional Security Threats and ...\",\n",
      "                    \"link\": \"https://www.dcaf.ch/sites/default/files/publications/documents/gyarmati-stancic-study-western-balkans-2007.pdf\",\n",
      "                    \"snippet\": \"Possible Implications Arising from a Resolution of Kosovo's Future Status ... anti-corruption laws in line with European standards it is impossible to adapt to.\"\n",
      "                },\n",
      "                \"stance\": \"Partially Support\"\n",
      "            }\n",
      "        ]\n",
      "    },\n",
      "    \"VMRO-DPMNE exercises power against Albanian nation in the municipalities that lead its quotas\": {\n",
      "        \"What is the specific policy or action taken by VMRO-DPMNE that exercises power against the Albanian nation in municipalities?\": [\n",
      "            {\n",
      "                \"evidence\": {\n",
      "                    \"title\": \"North Macedonia 2024 Report\",\n",
      "                    \"link\": \"https://neighbourhood-enlargement.ec.europa.eu/document/download/5f0c9185-ce46-46fc-bf44-82318ab47e88_en?filename=North%20Macedonia%20Report%202024.pdf&prefLang=ar\",\n",
      "                    \"snippet\": \"Oct 30, 2024 ... clear sector-specific priorities, and a biannual action plan for 2024-2025 were adopted in ... measures set out in the national energy action.\"\n",
      "                },\n",
      "                \"stance\": \"No Evidence. The evidence provided does not support or refute the claim. It appears to be a report about North Macedonia's 2024-2025 energy action plan and has no relevance to VMRO-DPMNE exercises power against Albanian nation in municipalities.\"\n",
      "            },\n",
      "            {\n",
      "                \"evidence\": {\n",
      "                    \"title\": \"BTI 2024 North Macedonia Country Report: BTI 2024\",\n",
      "                    \"link\": \"https://bti-project.org/en/reports/country-report/MKD\",\n",
      "                    \"snippet\": \"VMRO-DPMNE secured victory in 42 out of the country's 80 municipalities ... The country has also taken steps to reduce its dependence on coal for energy.\"\n",
      "                },\n",
      "                \"stance\": \"Partially Supports\"\n",
      "            },\n",
      "            {\n",
      "                \"evidence\": {\n",
      "                    \"title\": \"North Macedonia: Nations in Transit 2018 Country Report | Freedom ...\",\n",
      "                    \"link\": \"https://freedomhouse.org/country/north-macedonia/nations-transit/2018\",\n",
      "                    \"snippet\": \"5 VMRO-DPMNE's strong anti-Albanian rhetoric, corruption charges against the ... political pressure by VMRO-DPMNE against the independent civil sector.\"\n",
      "                },\n",
      "                \"stance\": \"Partially Supports\"\n",
      "            }\n",
      "        ],\n",
      "        \"Is there any evidence of VMRO-DPMNE promoting nationalism and anti-European agendas, and if so, how does this affect the country's future?\": [\n",
      "            {\n",
      "                \"evidence\": {\n",
      "                    \"title\": \"North Macedonia: A reform agenda on the path to EU integration ...\",\n",
      "                    \"link\": \"https://www.atlanticcouncil.org/in-depth-research-reports/report/north-macedonia-a-reform-agenda-on-the-path-to-eu-integration/\",\n",
      "                    \"snippet\": \"Nov 14, 2024 ... The new government, led by VMRO-DPMNE and largely perceived internationally as \\u201cnationalist,\\u201d will face a critical challenge: How can it inject\\u00a0...\"\n",
      "                },\n",
      "                \"stance\": \"No Evidence. The provided evidence does not directly relate to the claim about VMRO-DPMNE exercising power against Albanian nation in municipalities that lead its quotas. It appears to be a report discussing the new government led by VMRO-DPMNE and its challenges on the path to EU integration, but it does not provide any specific information about how VMRO-DPMNE exercises power or any potential impact on Albanians.\"\n",
      "            },\n",
      "            {\n",
      "                \"evidence\": {\n",
      "                    \"title\": \"THE WESTERN BALKANS AND THE EU: 'THE HOUR OF EUROPE'\",\n",
      "                    \"link\": \"https://www.iss.europa.eu/sites/default/files/EUISSFiles/cp126-The_Western_Balkans_and_the_EU_0.pdf\",\n",
      "                    \"snippet\": \"Nov 9, 2010 ... In January 2002 the Institute for Security Studies (EUISS) became an autonomous Paris-based agency of the European Union.\"\n",
      "                },\n",
      "                \"stance\": \"Irrelevant\"\n",
      "            },\n",
      "            {\n",
      "                \"evidence\": {\n",
      "                    \"title\": \"Can EU Enlargement Work? | Carnegie Endowment for International ...\",\n",
      "                    \"link\": \"https://carnegieendowment.org/research/2024/06/can-eu-enlargement-work\",\n",
      "                    \"snippet\": \"Jun 20, 2024 ... To make enlargement work, the EU should focus on galvanizing political support among societies in the candidate countries.\"\n",
      "                },\n",
      "                \"stance\": \"Irrelevant\"\n",
      "            }\n",
      "        ]\n",
      "    }\n",
      "}\n"
     ]
    }
   ],
   "source": [
    "# Print stance_results in a pretty format\n",
    "print(json.dumps(stance_results, indent=4))"
   ]
  },
  {
   "cell_type": "markdown",
   "id": "ccd73fd0",
   "metadata": {},
   "source": [
    "## Determine Correction"
   ]
  },
  {
   "cell_type": "code",
   "execution_count": null,
   "id": "0903d060",
   "metadata": {},
   "outputs": [],
   "source": [
    "def determine_verdict(stance_results):\n",
    "    verdicts = []\n",
    "    for claim, questions in stance_results.items():\n",
    "        for question, evidences in questions.items():\n",
    "            # Make sure that all the stance results are in the same format\n",
    "            for evidence in evidences:\n",
    "                for key in evidence:\n",
    "                    if key == 'stance':\n",
    "                        stance = evidence['stance']\n",
    "                        \n",
    "                        if stance != 'Completely Supports' and stance != 'Partially Support' and stance != 'Refute':\n",
    "                            evidence['stance'] = 'Irrelevant'\n",
    "                            # Search if the sentence contains any of the words\n",
    "                            if 'Completely Supports' in stance:\n",
    "                                evidence['stance'] = 'Completely Supports'\n",
    "                            elif 'Partially Support' in stance:\n",
    "                                evidence['stance'] = 'Partially Support'\n",
    "                            elif 'Refute' in stance:\n",
    "                                evidence['stance'] = 'Refute'\n",
    "                            elif 'Irrelevant' in stance:\n",
    "                                evidence['stance'] = 'Irrelevant'\n",
    "                            elif 'No Evidence' in stance:\n",
    "                                evidence['stance'] = 'No Evidence'\n",
    "                        print(stance)\n",
    "                    \n",
    "            \n",
    "            supports = sum(1 for evidence in evidences if evidence['stance'] == 'Completely Supports' or evidence['stance'] == 'Partially Support')\n",
    "            refutes = sum(1 for evidence in evidences if evidence['stance'] == 'Refute')\n",
    "            if supports > refutes:\n",
    "                verdicts.append((claim, question, \"Supports\"))\n",
    "            elif refutes > supports:\n",
    "                verdicts.append((claim, question, \"Refutes\"))\n",
    "            else:\n",
    "                verdicts.append((claim, question, \"Neutral\"))\n",
    "                \n",
    "            \n",
    "            \n",
    "    return verdicts"
   ]
  },
  {
   "cell_type": "code",
   "execution_count": 124,
   "id": "c0ff586b",
   "metadata": {},
   "outputs": [
    {
     "name": "stdout",
     "output_type": "stream",
     "text": [
      "Partially Support\n",
      "Partially Support\n",
      "Refute\n",
      "Partially Support\n",
      "Partially Support\n",
      "Partially Support\n",
      "Partially Support\n",
      "No Evidence\n",
      "Irrelevant\n",
      "Refute\n",
      "Refute\n",
      "Refute\n",
      "Refute\n",
      "Refute\n",
      "Refute\n",
      "Refute\n",
      "Refute\n",
      "Partially Support\n",
      "Partially Support\n",
      "Partially Support\n",
      "No Evidence\n",
      "Partially Support\n",
      "Partially Support\n",
      "Partially Support\n",
      "Partially Support\n",
      "Irrelevant\n",
      "Refute\n",
      "No Evidence\n",
      "Partially Support\n",
      "Partially Support\n",
      "Irrelevant\n",
      "Irrelevant\n",
      "Irrelevant\n",
      "Partially Support\n",
      "Partially Support\n",
      "Partially Support\n",
      "Irrelevant\n",
      "Partially Support\n",
      "Partially Support\n",
      "Partially Support\n",
      "Partially Support\n",
      "Partially Support\n",
      "No Evidence\n",
      "Partially Support\n",
      "Partially Support\n",
      "No Evidence\n",
      "Partially Support\n",
      "No Evidence\n",
      "No Evidence\n",
      "Partially Support\n",
      "Partially Support\n",
      "No Evidence\n",
      "Partially Support\n",
      "Partially Support\n",
      "No Evidence\n",
      "Irrelevant\n",
      "Irrelevant\n"
     ]
    },
    {
     "data": {
      "text/plain": [
       "[('Himni dhe simbolet shtetërore kanë vendin dhe kohën e vet se ku përdoren',\n",
       "  \"What is the purpose of singing national anthems according to Hristijan Mickoski's proposal?\",\n",
       "  'Supports'),\n",
       " ('Himni dhe simbolet shtetërore kanë vendin dhe kohën e vet se ku përdoren',\n",
       "  'Is it true that VMRO-DPMNE promotes nationalism and anti-European agendas, as claimed by the author?',\n",
       "  'Supports'),\n",
       " ('Himni dhe simbolet shtetërore kanë vendin dhe kohën e vet se ku përdoren',\n",
       "  'Does the author suggest that VMRO-DPMNE isolates the country and hinders its future prospects in Europe?',\n",
       "  'Supports'),\n",
       " ('The proposal of the leader of VMRO-DPMNE Hristijan Mickoski to make children sing the national anthem every month reflects the nationalist mindset of VMRO-DPMNE',\n",
       "  'Is the proposal to make children sing the national anthem every month a common practice in any country?',\n",
       "  'Refutes'),\n",
       " ('The proposal of the leader of VMRO-DPMNE Hristijan Mickoski to make children sing the national anthem every month reflects the nationalist mindset of VMRO-DPMNE',\n",
       "  'What is the current state of education in North Macedonia regarding national anthems, and is it true that VMRO-DPMNE is trying to impose its nationalist mindset on children?',\n",
       "  'Refutes'),\n",
       " ('The proposal of the leader of VMRO-DPMNE Hristijan Mickoski to make children sing the national anthem every month reflects the nationalist mindset of VMRO-DPMNE',\n",
       "  \"Does Hristijan Mickoski's proposal reflect a broader nationalistic agenda by VMRO-DPMNE, and if so, what are the implications for the country's future integration into European structures?\",\n",
       "  'Refutes'),\n",
       " ('VMRO-DPMNE spreads unjust nationalism while making excuses for anti-European agendas',\n",
       "  'What evidence exists to support the claim that VMRO-DPMNE spreads unjust nationalism?',\n",
       "  'Supports'),\n",
       " ('VMRO-DPMNE spreads unjust nationalism while making excuses for anti-European agendas',\n",
       "  'In what specific ways does the author argue that VMRO-DPMNE makes excuses for anti-European agendas?',\n",
       "  'Supports'),\n",
       " ('VMRO-DPMNE spreads unjust nationalism while making excuses for anti-European agendas',\n",
       "  'How is the proposed daily singing of the national anthem by children seen as a means of instilling nationalist values and political ideology?',\n",
       "  'Neutral'),\n",
       " ('VMRO-DPMNE fosters hatred and division',\n",
       "  'What is the specific context in which VMRO-DPMNE claims children should sing the national anthem every full moon?',\n",
       "  'Supports'),\n",
       " ('VMRO-DPMNE fosters hatred and division',\n",
       "  \"How does VMRO-DPMNE's proposal to have children sing the national anthem daily instead of just on full moons address the concerns about fostering hatred and division mentioned earlier?\",\n",
       "  'Neutral'),\n",
       " ('VMRO-DPMNE blocks the European future of young generations',\n",
       "  'What evidence is there that VMRO-DPMNE is blocking the European future of young generations?',\n",
       "  'Supports'),\n",
       " ('VMRO-DPMNE blocks the European future of young generations',\n",
       "  'How does the proposal by Hristijan Mickoski to make children sing the national anthem every night reflect the nationalist mindset of VMRO-DPMNE?',\n",
       "  'Supports'),\n",
       " ('VMRO-DPMNE blocks the European future of young generations',\n",
       "  'What specific anti-EU agendas or actions are being taken by VMRO-DPMNE that contradict its rhetoric about a European future?',\n",
       "  'Supports'),\n",
       " ('VMRO-DPMNE isolates the country',\n",
       "  \"What is the definition of 'nationalism' in the context of VMRO-DPMNE's proposal?\",\n",
       "  'Supports'),\n",
       " ('VMRO-DPMNE isolates the country',\n",
       "  \"How does VMRO-DPMNE's plan to make children sing the national anthem daily relate to their political agenda?\",\n",
       "  'Supports'),\n",
       " ('VMRO-DPMNE isolates the country',\n",
       "  \"What are the implications of VMRO-DPMNE's anti-European and isolationist policies on Albania's future?\",\n",
       "  'Supports'),\n",
       " ('VMRO-DPMNE exercises power against Albanian nation in the municipalities that lead its quotas',\n",
       "  'What is the specific policy or action taken by VMRO-DPMNE that exercises power against the Albanian nation in municipalities?',\n",
       "  'Supports'),\n",
       " ('VMRO-DPMNE exercises power against Albanian nation in the municipalities that lead its quotas',\n",
       "  \"Is there any evidence of VMRO-DPMNE promoting nationalism and anti-European agendas, and if so, how does this affect the country's future?\",\n",
       "  'Neutral')]"
      ]
     },
     "execution_count": 124,
     "metadata": {},
     "output_type": "execute_result"
    }
   ],
   "source": [
    "determine_verdict(stance_results)"
   ]
  },
  {
   "cell_type": "code",
   "execution_count": 125,
   "id": "93986e59",
   "metadata": {},
   "outputs": [
    {
     "data": {
      "text/plain": [
       "[('Himni dhe simbolet shtetërore kanë vendin dhe kohën e vet se ku përdoren',\n",
       "  'Supports'),\n",
       " ('The proposal of the leader of VMRO-DPMNE Hristijan Mickoski to make children sing the national anthem every month reflects the nationalist mindset of VMRO-DPMNE',\n",
       "  'Refutes'),\n",
       " ('VMRO-DPMNE spreads unjust nationalism while making excuses for anti-European agendas',\n",
       "  'Supports'),\n",
       " ('VMRO-DPMNE fosters hatred and division', 'Supports'),\n",
       " ('VMRO-DPMNE blocks the European future of young generations', 'Supports'),\n",
       " ('VMRO-DPMNE isolates the country', 'Supports'),\n",
       " ('VMRO-DPMNE exercises power against Albanian nation in the municipalities that lead its quotas',\n",
       "  'Supports')]"
      ]
     },
     "execution_count": 125,
     "metadata": {},
     "output_type": "execute_result"
    }
   ],
   "source": [
    "def claims_verdict(claims, stance_results):\n",
    "    verdicts = []\n",
    "    for claim in claims:\n",
    "        supports = sum(1 for question, evidences in stance_results[claim].items() if any(evidence['stance'] == 'Completely Supports' or evidence['stance'] == 'Partially Support' for evidence in evidences))\n",
    "        refutes = sum(1 for question, evidences in stance_results[claim].items() if any(evidence['stance'] == 'Refute' for evidence in evidences))\n",
    "        if supports > refutes:\n",
    "            verdicts.append((claim, \"Supports\"))\n",
    "        elif refutes > supports:\n",
    "            verdicts.append((claim, \"Refutes\"))\n",
    "        else:\n",
    "            verdicts.append((claim, \"Neutral\"))\n",
    "    return verdicts\n",
    "claims_verdict(claims, stance_results)"
   ]
  }
 ],
 "metadata": {
  "kernelspec": {
   "display_name": "law-and-computation",
   "language": "python",
   "name": "python3"
  },
  "language_info": {
   "codemirror_mode": {
    "name": "ipython",
    "version": 3
   },
   "file_extension": ".py",
   "mimetype": "text/x-python",
   "name": "python",
   "nbconvert_exporter": "python",
   "pygments_lexer": "ipython3",
   "version": "3.13.3"
  }
 },
 "nbformat": 4,
 "nbformat_minor": 5
}
