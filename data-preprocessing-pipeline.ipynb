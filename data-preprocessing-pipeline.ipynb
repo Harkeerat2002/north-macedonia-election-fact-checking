{
 "cells": [
  {
   "cell_type": "code",
   "execution_count": 3,
   "id": "8945e228",
   "metadata": {},
   "outputs": [],
   "source": [
    "import csv\n",
    "import os\n",
    "import pandas as pd"
   ]
  },
  {
   "cell_type": "code",
   "execution_count": 4,
   "id": "b85529f9",
   "metadata": {},
   "outputs": [
    {
     "name": "stdout",
     "output_type": "stream",
     "text": [
      "ad_archive_id\n",
      "page_id\n",
      "page_name\n",
      "ad_creation_time\n",
      "ad_delivery_start_time\n",
      "ad_delivery_stop_time\n",
      "byline\n",
      "ad_creative_bodies\n",
      "ad_creative_link_titles\n",
      "ad_creative_link_captions\n",
      "ad_creative_link_descriptions\n",
      "impressions\n",
      "spend\n",
      "currency\n",
      "demographic_distribution\n",
      "delivery_by_region\n",
      "publisher_platforms\n",
      "estimated_audience_size\n",
      "languages\n",
      "      ad_archive_id           page_id                         page_name  \\\n",
      "0   427480589881211  2393985080840567                     Arjanit Hoxha   \n",
      "1  1636678057070325   258752240657870                Александар Јамалов   \n",
      "2   252100357930225   258752240657870                Александар Јамалов   \n",
      "3  1117244869521215  1503795079941246  Klubi i Debatit Politik - KDP.MK   \n",
      "4  1595858924569626   258752240657870                Александар Јамалов   \n",
      "\n",
      "  ad_creation_time ad_delivery_start_time ad_delivery_stop_time  \\\n",
      "0       2024-04-30             2024-04-30            2024-05-01   \n",
      "1       2024-04-29             2024-04-29            2024-05-03   \n",
      "2       2024-04-28             2024-04-28            2024-05-02   \n",
      "3       2024-04-28             2024-04-28            2024-04-29   \n",
      "4       2024-04-25             2024-04-25            2024-05-05   \n",
      "\n",
      "                          byline  \\\n",
      "0                            PDE   \n",
      "1                     VMRO-DPMNE   \n",
      "2                     VMRO-DPMNE   \n",
      "3  Klubi i Debatit Politik - KDP   \n",
      "4                     VMRO-DPMNE   \n",
      "\n",
      "                                  ad_creative_bodies  \\\n",
      "0  Para disa ditëve në emisionin “Politiko” e kam...   \n",
      "1  Промените се во твои раце!\\nМакедонија повторн...   \n",
      "2                        За многу години Цветници!!!   \n",
      "3  ✒️Shkruan: @[100005900348509:2048:Enis Shaqiri...   \n",
      "4  ИЗГУБЕНА Е ДОВЕРБАТА ВО ПОЛИТИЧАРИТЕ БИДЕЈЌИ Н...   \n",
      "\n",
      "                             ad_creative_link_titles  \\\n",
      "0                                                NaN   \n",
      "1                                                NaN   \n",
      "2                                                NaN   \n",
      "3             ZGJEDHJET 2024: NË PRTJE TË TETË MAJIT   \n",
      "4  ПРОЕКТ - ЦЕЛОСНА РЕКОНСТРУКЦИЈА НА ПАТНИОТ ПРА...   \n",
      "\n",
      "  ad_creative_link_captions  \\\n",
      "0                       NaN   \n",
      "1                       NaN   \n",
      "2                       NaN   \n",
      "3                    kdp.mk   \n",
      "4                       NaN   \n",
      "\n",
      "                       ad_creative_link_descriptions  \\\n",
      "0                                                NaN   \n",
      "1                                                NaN   \n",
      "2                                                NaN   \n",
      "3  Kandidatja opozitare Gordana Siljanovska-Davko...   \n",
      "4                                                NaN   \n",
      "\n",
      "                              impressions                            spend  \\\n",
      "0  lower_bound: 25000, upper_bound: 29999  lower_bound: 0, upper_bound: 99   \n",
      "1  lower_bound: 20000, upper_bound: 24999  lower_bound: 0, upper_bound: 99   \n",
      "2  lower_bound: 15000, upper_bound: 19999  lower_bound: 0, upper_bound: 99   \n",
      "3    lower_bound: 1000, upper_bound: 1999  lower_bound: 0, upper_bound: 99   \n",
      "4  lower_bound: 90000, upper_bound: 99999  lower_bound: 0, upper_bound: 99   \n",
      "\n",
      "  currency                           demographic_distribution  \\\n",
      "0      EUR  {\"age\":\"65+\",\"gender\":\"unknown\",\"percentage\":0...   \n",
      "1      EUR  {\"age\":\"18-24\",\"gender\":\"unknown\",\"percentage\"...   \n",
      "2      EUR  {\"age\":\"18-24\",\"gender\":\"unknown\",\"percentage\"...   \n",
      "3      EUR  {\"age\":\"45-54\",\"gender\":\"unknown\",\"percentage\"...   \n",
      "4      EUR  {\"age\":\"65+\",\"gender\":\"unknown\",\"percentage\":0...   \n",
      "\n",
      "                                  delivery_by_region publisher_platforms  \\\n",
      "0  {\"region\":\"Municipality of Ara\\u010dinovo\",\"pe...  facebook,instagram   \n",
      "1  {\"region\":\"Municipality of Staro Nagori\\u010da...  facebook,instagram   \n",
      "2  {\"region\":\"\\u010ca\\u0161ka Municipality\",\"perc...  facebook,instagram   \n",
      "3  {\"region\":\"Kosovo\",\"percentage\":0.000849},{\"re...            facebook   \n",
      "4  {\"region\":\"Unknown\",\"percentage\":0.001},{\"regi...  facebook,instagram   \n",
      "\n",
      "                     estimated_audience_size languages  \n",
      "0    lower_bound: 50001, upper_bound: 100000        sq  \n",
      "1                       lower_bound: 1000001        mk  \n",
      "2     lower_bound: 10001, upper_bound: 50000        mk  \n",
      "3  lower_bound: 500001, upper_bound: 1000000        sq  \n",
      "4                       lower_bound: 1000001        mk  \n"
     ]
    }
   ],
   "source": [
    "dataset = 'Dataset/meta-ad-library-2025-04-30-VMRO-DPMNE.csv'\n",
    "party_name = 'VMRO-DPMNE'\n",
    "\n",
    "dataset_pands = pd.read_csv(dataset, sep=',', encoding='utf-8')\n",
    "\n",
    "# Print all the keys\n",
    "for key in dataset_pands.keys():\n",
    "    print(key)\n",
    "    \n",
    "# Print the first 5 rows\n",
    "print(dataset_pands.head())"
   ]
  },
  {
   "cell_type": "code",
   "execution_count": 5,
   "id": "ce3fecb5",
   "metadata": {},
   "outputs": [
    {
     "name": "stdout",
     "output_type": "stream",
     "text": [
      "{'427480589881211': ['Para disa ditëve në emisionin “Politiko” e kam thënë se ka tendenca nga qarqe anti shqiptare për prishjen e amnestisë dhe njollosjen e luftës për liri dhe barazi të UÇK-së. \\nPo të njejtën gjë sot e vërtetoi nga goja e vet edhe kandidatja për Presidente e VMRO-DPMNE Gordana Siljanovska. \\nA duhet ende dëshmi se beteja politike e VMRO-DPMNE është për të nënshtruar shqiptarët dhe jo për të vazhduar partneritetin e ndërtuar nga viti 2001!?\\nPrandaj është me rëndësi Fronti Europian të fiton mbi 22 mandate dhe “Siljanovskat” të mbesin vetëm kujtim i pllkateve dhe billbordave. \\n\\n🇪🇺Fronti Europian\\n✅Voto 4\\n🤝PO EUROPËS, ❌JO RUSISË!'], '1636678057070325': ['Промените се во твои раце!\\nМакедонија повторно твоја!'], '252100357930225': ['За многу години Цветници!!!'], '1117244869521215': ['✒️Shkruan: @[100005900348509:2048:Enis Shaqiri]\\n\\n📊🗳️Kandidatja opozitare Gordana Siljanovska-Davkova nga VMRO-DPMNE triumfoi në raundin e parë të zgjedhjeve presidenciale në Maqedoninë e Veriut të mbajtura më 24 prill. Siljanovska arriti të sigurojë një fitore bindëse, duke fituar 363.086 vota (40.08 %) apo 182.586 vota më shumë se Stevo Pendarovski, president aktual  i cili mori 180.500 vota (19.92%). \\n\\n📍Në bllokun politik shqiptar, Bujar Osmani nga Fronti Europian triumfoi kundrejt kundërkandidatit të tij Arben Taravari nga VLEN. Osmani mori 121.088 vota (13.37%), ndërsa Taravari mori 83.393 vota (9.20%). \\n\\n📌Vëmendja kryesore tani është e përqëndruar te vazhdimi i procesit zgjedhor, ku më 8 maj do të zhvillohet raundi i dytë i zgjedhjeve presidenciale së bashku me zgjedhjet parlamentare. Si pritet të zhvillohen këto  cikle zgjedhore? Cili do të jetë rezultati i epilogut përfundimtar, dhe çka pastaj?'], '1595858924569626': ['ИЗГУБЕНА Е ДОВЕРБАТА ВО ПОЛИТИЧАРИТЕ БИДЕЈЌИ НАРОДНАТА ВОЛЈА Е МНОГУПАТИ ИЗИГРУВАНА.\\n\\nНИШТО НЕ ФУНКЦИОНИРА. МАКЕДОНИЈА Е ОДЗЕМЕНА ОД РАЦЕТЕ НА ГРАЃАНИТЕ, А ГРАЃАНИТЕ СО ПРАВО СЕ СКЕПТИЧНИ ДАЛИ МОЖЕ НЕШТО ДА СЕ ПРОМЕНИ.\\nОВА Е ВАШЕ ВРЕМЕ, ВАШ ЖИВОТ И МОРАМЕ ДА СЕ ИЗБОРИМЕ ЗАЕДНО.\\n\\nПРОМЕНИТЕ СЕ МОЖНИ. НИЕ ВИ НУДИМЕ КОНКРЕТНИ ПРОЕКТИ И РЕШЕНИЈА ЗА ПОУБАВА МАКЕДОНИЈА, ЗА ПОУБАВ ВЕЛЕС.\\n\\nЈА БАРАМЕ ВАШАТА ПОДДРШКА ЗА ЦЕЛОСНА РЕКОНСТРУКЦИЈА НА ПАТНИОТ ПРАВЕЦ ОД ОТОВИЦА ДО МАМУТЧЕВО.\\n\\nПРОМЕНИТЕ СЕ ВО ТВОИ РАЦЕ!\\n\\nМАКЕДОНИЈА ПОВТОРНО ТВОЈА!'], '1826112547851414': ['За реконструкција на автопатот Катланово-Велес!\\n\\nЗа проектирање на нов експресен пат Велес-Чашка-Прилеп!\\n\\nТи одлучуваш!\\nЗа Македонија повторно да биде твоја!\\n2️⃣'], '402145615942772': ['Fjalimi i plotë nga tubimi i Frontit Europian në sheshin “Maqedonia”:\\n\\nNëse shkojmë me logjikën e Mickoskit dhe Siljanovskës sonte i bie që e kemi marë edhe Shkupin.\\nTë nderuar kryetarë të partive politike,\\nI nderuar kryeministër z.Talat Xhaferi\\nI nderuar kandidat presidencial z.Bujar Osmani\\nTë nderuar kandidat për deputet dhe shumë të dashur antar, aktivist dhe militant të partive politike të Frontit Europian.\\nMe lejoni që të shpreh falenderimet e mia për këtë prezencë kaq masovike e cila përkon me rëndësinë historike që po shkruan Fronti Europian në betejën politike të thyerjes së barierave dhe limiteve të eksluzivitetit shumë vjeçar që janë munduar të imponojnë partitë politike maqedonase si ndaj shqiptarëve ashtu edhe ndaj bashkësive etnike jo maqedonase.\\nSheshi i Shkupi sonte duket më i bukur se asnjëherë më parë, kjo fotografi, kjo pamje është realiteti i Maqedonisë së Veriut. Ne nuk jemi këtu për të marë diçka nga dikush, po thjesht të demostrojmë kapacitetin tonë shoqëror për të menaxhuar me hisen që na takon në shtëpinë tonë.\\nNë thuajse dy javë fushatë për zgjedhjet Presidenciale kemi shpjeguar rëndësinë e këtyre zgjedhjeve dhe momentumin politik se pse ne u bashkuam në Frontin Europian, edhe pse për fat të keq partitë politike shqiptare në opozitë u munduan përmes propagandës të erët të na sulmojnë dhe degradojn.\\nE kemi thënë që ditën e parë se beteja jonë politike është kundër strukturave politike nacionaliste maqedonase të cilët edhe kur kanë problem me Greqinë fajin ua kanë shqiptarët, edhe kur kanë problem me Bullgarinë fajin e hedhin te shqiptarët, dhe këtë më mirë e dëshmoi para disa ditëve edhe Mickoski i VMRO-DPMNE i cili bëri thirrje publike që të pamundësohet në zonën numër 3 Fronti Europian të ketë deputet, pa e menduar fare se me këtë thirrje ai dëshiron të kthen kohën e majorizimit jo vetëm kundër shqiptarëve por edhe kundër turqve, boshnjakëve dhe romëve.\\nDhe kur pyesin opozitarët se çka na bëri bashk me Ali Ahmetin duhet t’ua thoni se na bënë bashk thirrjet anti shqiptare të partnerit të tyre strategjik Mickoskit, i cili na detyroj që ne të bashkohemi dhe kështu të bashkuar si sonte në këtë shesh të japim mesazhin që as Mickoski as mentorët e tij në linjën Beograd-Moskë por as vasalët e tij që i mbanë koalicion nëpër komuna nuk mund të gjynjëzojnë shqiptarët kur janë bashk.\\nAndaj, të dashur vëllezër dhe motra, të ndihemi krenar që jemi pjesë e kësaj faqe të re të historisë që po e shkruajmë. Të bëjmë thirrje gjithandej, të trokasim në çdo derë dhe me 24 Prill të thyejmë rekordin e votave me kandidatin tonë Bujar Osmani dhe me këtë të dëshmojmë në vepër slloganin tonë PO EUROPËS, JO RUSISË.\\nPas fitores të 24 Prillit, ti hapim krahët për të pranuar afër vetes edhe vëllezrit tonë që për momentin janë të manipuluar me propagandën e disa kryetarëve komunal, dhe t’u themi se vendin e kanë këtu me ne në Frontin Europian, dhe bashkë me ata të festojmë fitoren më 8 Maj, fitoren e shqiptarëve dhe gjithë qytetarëve të këtij vendi.\\nTë votojmë numrin 4, t’i themi PO EUROPËS, JO RUSISË.\\nJu faleminderit dhe na priftë e mbara.'], '1463429004244655': ['На Македонија не и треба претседател како Пендаровски измеќар на Али Ахмети, туку достоен претседател како што  професорката Гордана Силјановска Давкова!'], '392857170323758': ['На изборите на 8ми мај гласајте за број 2, за најголемата победа во изборната единица 2, за многу проекти и подобра иднина за сите луѓе!'], '403410729140623': ['Само една има вистина \\n има една Македонија \\n делете ја, парчете ја \\n пак ќе биде наша најмила.... \\n Македонци наглас запејте \\n македонско оро играјте \\n мајка мила спомнете ја \\n жива била Македонија.'], '449885880937883': ['Владата предводена од СДСМ се покажа како добар партнер на бизнис заедницата!\\n\\nПоддржавме 919 домашни компании со над 100 милиони евра, а тие инвестираа над 500 милиони евра и отворија 5.000 работни места.\\n\\nВо следните 4 години оваа поддршка ќе ја удвоиме на над 180 милиони евра, а нашата економија ќе добие преку милијарда евра инвестиции.\\n\\nВо следниот мандат ќе инвестираме и 3,5 милијарди евра во развој на високонапонската електрична мрежа, како и во 400 капитални проекти за подобрување на општинската инфраструктура низ Македонија.\\n\\nНема да се задолжуваме за расплакани врби и фасади од стиропор како што тоа го правеше ВМРО ДПМНЕ 11 години, не ви ветуваме празни зборови, туку зголемена помош а веќе докажавме дека знаеме како да го направиме тоа!\\n\\n----------------------------------------------------------\\n\\nQeveria e udhëhequr nga LSDM-ja u tregua partner i mirë i komunitetit të biznesit!\\n\\nMbështetëm 919 kompani vendore me mbi 100 milionë euro, të cilat investuan mbi 500 milionë euro dhe krijuan 5000 vende pune.\\n\\nNë 4 vitet e ardhshme do ta dyfishojmë këtë mbështetje në mbi 180 milionë euro dhe ekonomia jonë do të marrë mbi një miliard euro investime.\\n\\nNë mandatin e ardhshëm do të investojmë edhe 3,5 miliardë euro në zhvillimin e rrjetit elektrik të tensionit të lartë, si dhe në 400 projekte kapitale për përmirësimin e infrastrukturës komunale në mbarë Maqedoninë.\\n\\nNuk do të marrim hua për shelgje vajtuese dhe fasada stiropori siç bëri VMRO-DPMNE për 11 vite, ne nuk premtojmë fjalë boshe, por rritje të ndihmës që tashmë e kemi dëshmuar!'], '1458502418376190': ['Taravari i pari, në çdo sondazh, sepse populli është përcaktuar për ndryshimin. VLEN do të jetë fituesi dhe @[100044411046937:2048:Arben Taravari] kandidati fitues.✅\\n\\n#VLEN\\n#NdryshimiVLEN\\n#TaravariPresident6'], '416623077647589': ['Велес е подготвен за ПРОМЕНИ!!!\\nВелес со огромна поддршка за Проф. Гордана Сиљановска Дафкова.\\nМакедонија повторно горда!\\nМакедонија повторно твоја!'], '781983880567260': ['Време е повторно да бидеме горди на својот претседател!'], '1887851201662604': ['✅МЛАДИТЕ СЕ КЛУЧЕН СТОЛБ ЗА ИДНИНАТА НА МАКЕДОНИЈА!\\n\\n📍Парк, Ѓорче Петров!\\n\\n👉Горд сум на младите луѓе! Тие ми даваат енергија и инспирација, добивам многу предлози и идеи кои со задоволство ќе бидат инкорпорирани во голем дел од проектите се со цел да им овозможиме на младите светла и сигурна иднина. \\nМладите од Ѓорче Петров се авангарда и промените што сите сакаат да ги видат. Со нив заедно ќе бидеме дел од промените кои носат надеж и подобри услови за живот!\\n\\n➡️Промените зависат од сите нас!\\n✅Промените започнуваат на 24 април со победа на Гордана Силјановска Давкова и ВМРО-ДПМНЕ!'], '1560850158037025': ['Овие избори се последна шанса за спас на Македонија, со голема излезност на изборите да им покажеме на ДУИ И СДС каде им е местото!'], '1970074723389277': ['💪 ☀️ ИМАЈТЕ УБАВ ДЕН МАКЕДОНИЈО!\\n#македонијаповторнотвоја \\n#МакедонијаПовторноГорда \\n#македонијаповторносвоја'], '1116312722921043': ['Победничкиот караван го започнавме вечерва во два победоносни комитети, МК Тунел и МК Керамидна заедно со @[100063889660044:2048:Игор Здравковски] и @[100047001469974:2048:Рашела Мизрахи].\\n Силно мотивирани, ентузијастички, инспирирани за промени.\\n Во Велес уште сега се чувствува победничка атмосфера. Велес мириса на победа. \\nПромените се во наши раце. \\nМакедонија повторно ќе биде горда!'], '1927068471043142': ['Kjo është betejë ndërmjet vizionit të bashkëjetesës dhe #integrimit, që e përfaqëson fronti më i madh multietnik në vend, dhe vizionit të izolimit dhe urrejtës që e përfaqëson VMRO DPMNE-ja.'], '437943508751645': ['🛑Fushata për zgjedhjet presidenciale në Maqedoninë e Veriut ka filluar me shtatë kandidatët për postin e Presidentit. \\n\\n📚Qytetarët tashmë po ballafaqohen me programe, premtime, pllakata, si dhe debate parazgjedhore. \\n\\n📌Në kampin politik maqedonas, më të dukshëm janë Gordana Siljanovska Davkova(68), nga partia opozitare VMRO-DPMNE, dhe Presidenti aktual Stevo Pendarovski(61) nga LSDM. \\n\\nPor, çfarë ofrojnë kandidatët Pendarovski e Siljanovska Davkova? 🤔\\n\\n✒️Shkuran: @[100005900348509:2048:Enis Shaqiri]'], '802106028640560': ['Mickoski: Jemi shpallur shteti më i varfër në Europë, LSDM dhe BDI shkojnë në opozitë'], '1006631041032140': ['Денес ја посетивме и населбата Превалец, заедно со @[100063774981830:2048:Драган Ковачки], @[100063889660044:2048:Игор Здравковски] и @[100072218940599:2048:Марко Колев].\\nВо Превалец се гради црква, се градат спортски терени и се поставува нова урбана опрема. Се урбанизира и разубавува овој дел. \\nГраѓаните од овој дел задоволни ќе уживаат во прошетките и спортските активности. \\nМакедонија пак ќе биде горда!'], '382415011367838': ['Денес ги посетивме моите пазарџии од Градскиот пазар без кои Велес не би бил Велес. Со овие луѓе имавме беспрекорна, долгогодишна соработка. Тука, на пазарот се сретнавме и со многу познаници кои беа дојдени да пазаруваат. \\nГраѓаните се разочарани од оваа власт, од пустошот што го направија и економската катастрофа која ја предизвикаа. Но граѓаните имаат надеж и веруваат дека промените доаѓаат. \\nЌе треба силна битка за стабилизирање на економијата. \\nСите заедно ќе ја направиме Македонија повторно горда!'], '392256060253215': ['Огромна чест, но уште поголема одговорност е да се биде дел од победничката, кандидатска листа за пратеници на ВМРО-ДПМНЕ во ИЕ 3, заедно со носителот на листа @[100063774981830:2048:Драган Ковачки]  и претседателот на @[100064549278459:2048:ВМРО-ДПМНЕ ОК ВЕЛЕС]и актуелен пратеник во Собранието на Република Македонија, @[100063889660044:2048:Игор Здравковски]. \\n\\nГолема благодарност до претседателот на ВМРО-ДПМНЕ и иден премиер на Македонија, @[100044158072981:2048:Hristijan Mickoski] за укажаната доверба. \\n\\nСакам да Ви се заблагодарам на сите Вас, сопартијци, соборци, браќа и сестри од @[100064549278459:2048:ВМРО-ДПМНЕ ОК ВЕЛЕС] за поддршката која ми ја дадовте.\\n\\nИмаме одлична Програма и голем мотив. Потребни сме и на Македонија!\\n\\nСплотени и единствени, на 8 Мај заедно ќе ја славиме најголемата победа.\\n\\nВечна да ни е организацијата! \\nДа живее ВМРО-ДПМНЕ!\\nДа живее Република Македонија!'], '795173398649698': ['Кандидат за пратеник на ВМРО-ДПМНЕ од ИЕ3'], '1153390438992004': ['📊Në prag të zgjedhjeve presidenciale dhe parlamentare në Maqedoninë e Veriut, të cilat pritet të mbahen më 22 prill dhe 8 maj, Instituti për Kërkime Politike (IPIS) ka zhvilluar një sondazh për RTM1, që tregon një avantazh të dyfishtë për partinë opozitare maqedonase VMRO-DPMNE në krahasim me LSDM-në. Kurse në kampin politik shqiptar, sondazhi e nxjerr BDI-në dhe Bujar Osmanin fitues. \\n\\n⛔️Ndërkohë, një sondazh i publikuar javë më parë në rrjetet sociale, i atribuuar IPIS-it, u konfirmua si i falsifikuar nga vetë drejtori i këtij institutit, Vladimir Bozhinovski. \\n\\n💬Analistët politikë theksojnë rëndësinë e sondazheve të opinionit publik në prag të zgjedhjeve, por vërejnë se financimi nga partitë politike mund të ndikojë në objektivitetin e tyre. Sipas tyre, ndërkohë do të ketë dinamika të reja dhe sa më afër zgjedhjeve sondazhet mund të jenë më të sakta.\\n\\n✍🏻Shkruan: Enis Shaqiri'], '369290982662369': ['🔴Partitë kryesore maqedonase, LSDM dhe VMRO-DPMNE, tashmë kanë zyrtarizuar kandidatët për zgjedhjet presidenciale që pritet të mbahen më 24 prillit (rrethi i parë) dhe 8 maj (rrethi i dytë). \\n\\n📌Presidenti aktual i Maqedonisë së Veriut Stevo Pendarovski do të garojë për një mandat të dytë, me mbështetje të LSDM-s, ndërsa nga radhët e VMRO-DPMNE-së deputetja Gordana Siljanovska Davkova, garon sërish pas pesë vjetësh. \\n\\n🔗Kjo do të jetë përballja e dytë mes Pendarovskit dhe Siljanovska-Davkovës, pas zgjedhjeve presidenciale të vitit 2019. \\n\\n🔴Ndërsa në kampin politik shqiptar Arben Taravari edhe zyrtarisht është promovuar si kandidat presidencial nga koalicioni VLEN. Fushata për zgjedhjet presidenciale do të fillojë më 4 prill dhe do të zgjasë deri më 22 prill, kur edhe fillon heshtja zgjedhore.\\n\\nPërgatiti: Enis Shaqiri']}\n"
     ]
    }
   ],
   "source": [
    "# Create a dictionary to store the ad creative bodies relative to their ad_archive_id\n",
    "ad_creative_bodies_dict = {}\n",
    "for i in range(len(dataset_pands)):\n",
    "    ad_archive_id = str(dataset_pands['ad_archive_id'][i])\n",
    "    ad_creative_body = dataset_pands['ad_creative_bodies'][i]\n",
    "    # If the ad_creative_body is NaN, skip this row\n",
    "    if pd.isna(ad_creative_body):\n",
    "        continue\n",
    "    else:\n",
    "        ad_creative_body = str(ad_creative_body)\n",
    "        if ad_archive_id not in ad_creative_bodies_dict:\n",
    "            ad_creative_bodies_dict[ad_archive_id] = []\n",
    "        ad_creative_bodies_dict[ad_archive_id].append(ad_creative_body)\n",
    "# Print the dictionary\n",
    "print(ad_creative_bodies_dict)\n",
    "\n",
    "# Save the dictionary to a CSV file.\n",
    "output_file = f'Dataset/{party_name}_ad_creative_bodies.csv'\n",
    "with open(output_file, 'w', newline='', encoding='utf-8') as csvfile:\n",
    "    writer = csv.writer(csvfile)\n",
    "    writer.writerow(['ad_archive_id', 'ad_creative_bodies'])\n",
    "    for ad_archive_id, ad_creative_bodies in ad_creative_bodies_dict.items():\n",
    "        writer.writerow([ad_archive_id, ', '.join(ad_creative_bodies)])"
   ]
  },
  {
   "cell_type": "code",
   "execution_count": 6,
   "id": "619b96fa",
   "metadata": {},
   "outputs": [],
   "source": [
    "def extract_ad_creatives(party_file, party_name):\n",
    "    import pandas as pd\n",
    "    import csv\n",
    "\n",
    "    df = pd.read_csv(party_file, encoding='utf-8')\n",
    "\n",
    "    ad_creative_bodies_dict = {}\n",
    "    for i in range(len(df)):\n",
    "        ad_archive_id = str(df['ad_archive_id'][i])\n",
    "        ad_creative_body = df['ad_creative_bodies'][i]\n",
    "        if pd.isna(ad_creative_body):\n",
    "            continue\n",
    "        ad_creative_body = str(ad_creative_body)\n",
    "        if ad_archive_id not in ad_creative_bodies_dict:\n",
    "            ad_creative_bodies_dict[ad_archive_id] = []\n",
    "        ad_creative_bodies_dict[ad_archive_id].append(ad_creative_body)\n",
    "\n",
    "    output_path = f'Dataset/{party_name}_ad_creative_bodies.csv'\n",
    "    with open(output_path, 'w', newline='', encoding='utf-8') as csvfile:\n",
    "        writer = csv.writer(csvfile)\n",
    "        writer.writerow(['ad_archive_id', 'ad_creative_bodies'])\n",
    "        for ad_archive_id, bodies in ad_creative_bodies_dict.items():\n",
    "            writer.writerow([ad_archive_id, ', '.join(bodies)])\n",
    "\n",
    "    print(f\"Saved: {output_path}\")\n"
   ]
  },
  {
   "cell_type": "code",
   "execution_count": 8,
   "id": "3e2d0765",
   "metadata": {},
   "outputs": [
    {
     "name": "stdout",
     "output_type": "stream",
     "text": [
      "['meta-ad-library-2025-05-01_2-ZNAM.csv', 'meta-ad-library-2025-04-30-VMRO-DPMNE.csv', 'meta-ad-library-2025-04-30_3-Левица.csv', 'meta-ad-library-2025-04-30_2-SDSM.csv', 'VMRO-DPMNE_ad_creative_bodies.csv', 'DUI.csv']\n"
     ]
    }
   ],
   "source": [
    "import os\n",
    "\n",
    "print(os.listdir('Dataset'))\n"
   ]
  },
  {
   "cell_type": "code",
   "execution_count": 9,
   "id": "36bd44c8",
   "metadata": {},
   "outputs": [
    {
     "name": "stdout",
     "output_type": "stream",
     "text": [
      "Saved: Dataset/VMRO-DPMNE_ad_creative_bodies.csv\n",
      "Saved: Dataset/SDSM_ad_creative_bodies.csv\n",
      "Saved: Dataset/Levica_ad_creative_bodies.csv\n",
      "Saved: Dataset/ZNAM_ad_creative_bodies.csv\n",
      "Saved: Dataset/DUI_ad_creative_bodies.csv\n"
     ]
    }
   ],
   "source": [
    "party_files = {\n",
    "    'VMRO-DPMNE': 'Dataset/meta-ad-library-2025-04-30-VMRO-DPMNE.csv',\n",
    "    'SDSM': 'Dataset/meta-ad-library-2025-04-30_2-SDSM.csv',\n",
    "    'Levica': 'Dataset/meta-ad-library-2025-04-30_3-Левица.csv',\n",
    "    'ZNAM': 'Dataset/meta-ad-library-2025-05-01_2-ZNAM.csv',\n",
    "    'DUI': 'Dataset/DUI.csv'\n",
    "}\n",
    "\n",
    "\n",
    "for party, filepath in party_files.items():\n",
    "    extract_ad_creatives(filepath, party)\n"
   ]
  }
 ],
 "metadata": {
  "kernelspec": {
   "display_name": "law-and-computation",
   "language": "python",
   "name": "python3"
  },
  "language_info": {
   "codemirror_mode": {
    "name": "ipython",
    "version": 3
   },
   "file_extension": ".py",
   "mimetype": "text/x-python",
   "name": "python",
   "nbconvert_exporter": "python",
   "pygments_lexer": "ipython3",
   "version": "3.12.4"
  }
 },
 "nbformat": 4,
 "nbformat_minor": 5
}
